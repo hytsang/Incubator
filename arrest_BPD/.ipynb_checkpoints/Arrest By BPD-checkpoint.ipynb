{
 "cells": [
  {
   "cell_type": "markdown",
   "metadata": {},
   "source": [
    "## The arrests made by the Baltimore Police Department, you can find the data from [here](https://www.kaggle.com/arathee2/arrests-by-baltimore-police-department)."
   ]
  },
  {
   "cell_type": "code",
   "execution_count": 1,
   "metadata": {
    "collapsed": false
   },
   "outputs": [
    {
     "ename": "ImportError",
     "evalue": "No module named basemap",
     "output_type": "error",
     "traceback": [
      "\u001b[0;31m---------------------------------------------------------------------------\u001b[0m",
      "\u001b[0;31mImportError\u001b[0m                               Traceback (most recent call last)",
      "\u001b[0;32m<ipython-input-1-577f2f28e720>\u001b[0m in \u001b[0;36m<module>\u001b[0;34m()\u001b[0m\n\u001b[1;32m      3\u001b[0m \u001b[1;32mimport\u001b[0m \u001b[0mmatplotlib\u001b[0m\u001b[1;33m.\u001b[0m\u001b[0mpyplot\u001b[0m \u001b[1;32mas\u001b[0m \u001b[0mplt\u001b[0m\u001b[1;33m\u001b[0m\u001b[0m\n\u001b[1;32m      4\u001b[0m \u001b[1;32mimport\u001b[0m \u001b[0mseaborn\u001b[0m \u001b[1;32mas\u001b[0m \u001b[0msns\u001b[0m\u001b[1;33m\u001b[0m\u001b[0m\n\u001b[0;32m----> 5\u001b[0;31m \u001b[1;32mfrom\u001b[0m \u001b[0mmpl_toolkits\u001b[0m\u001b[1;33m.\u001b[0m\u001b[0mbasemap\u001b[0m \u001b[1;32mimport\u001b[0m \u001b[0mBasemap\u001b[0m\u001b[1;33m\u001b[0m\u001b[0m\n\u001b[0m\u001b[1;32m      6\u001b[0m \u001b[1;32mfrom\u001b[0m \u001b[0mmatplotlib\u001b[0m \u001b[1;32mimport\u001b[0m \u001b[0mcm\u001b[0m\u001b[1;33m\u001b[0m\u001b[0m\n\u001b[1;32m      7\u001b[0m \u001b[1;33m\u001b[0m\u001b[0m\n",
      "\u001b[0;31mImportError\u001b[0m: No module named basemap"
     ]
    }
   ],
   "source": [
    "import numpy as np # linear algebra\n",
    "import pandas as pd # data processing, CSV file I/O (e.g. pd.read_csv)\n",
    "import matplotlib.pyplot as plt\n",
    "import seaborn as sns\n",
    "import folium\n",
    "from folium import plugins\n",
    "from matplotlib import cm\n",
    "\n",
    "%matplotlib inline\n",
    "\n",
    "data = pd.read_csv('BPD_Arrests.csv')\n",
    "data.head(3)"
   ]
  },
  {
   "cell_type": "code",
   "execution_count": null,
   "metadata": {
    "collapsed": true
   },
   "outputs": [],
   "source": [
    "# check the dimension\n",
    "data.shape"
   ]
  },
  {
   "cell_type": "code",
   "execution_count": null,
   "metadata": {
    "collapsed": true
   },
   "outputs": [],
   "source": [
    "# check the data information\n",
    "data.info()"
   ]
  },
  {
   "cell_type": "markdown",
   "metadata": {},
   "source": [
    "We can see that there are some columns missing data."
   ]
  },
  {
   "cell_type": "markdown",
   "metadata": {},
   "source": [
    "# Arrest by Gender"
   ]
  },
  {
   "cell_type": "code",
   "execution_count": null,
   "metadata": {
    "collapsed": true
   },
   "outputs": [],
   "source": [
    "dt_sex = data.Sex.value_counts()\n",
    "\n",
    "fig = plt.figure(figsize=(6,4))\n",
    "dt_sex.plot(kind='bar')\n",
    "\n",
    "plt.title('Arrest by Gender')\n",
    "plt.ylabel('Total Cases')\n",
    "plt.xticks(range(2), ('Male', 'Female'), rotation=40)\n",
    "plt.show()"
   ]
  },
  {
   "cell_type": "markdown",
   "metadata": {},
   "source": [
    "# Arrest by Race"
   ]
  },
  {
   "cell_type": "code",
   "execution_count": null,
   "metadata": {
    "collapsed": true
   },
   "outputs": [],
   "source": [
    "dt_race = data.Race.value_counts()\n",
    "\n",
    "fig = plt.figure(figsize=(6,4))\n",
    "dt_race.plot(kind='bar')\n",
    "\n",
    "plt.title('Arrest by Race')\n",
    "plt.ylabel('Total Cases')\n",
    "plt.show()"
   ]
  },
  {
   "cell_type": "markdown",
   "metadata": {},
   "source": [
    "# Arrest by Age"
   ]
  },
  {
   "cell_type": "code",
   "execution_count": null,
   "metadata": {
    "collapsed": true
   },
   "outputs": [],
   "source": [
    "def age_bucket(x):\n",
    "    if x <= 20:\n",
    "        return \"less than 20\"\n",
    "    elif x <= 30:\n",
    "        return \"between 20 and 30\"\n",
    "    elif x <= 40:\n",
    "        return \"between 30 and 40\"\n",
    "    elif x <= 50:\n",
    "        return \"between 40 and 50\"\n",
    "    elif x <= 60:\n",
    "        return \"between 50 and 60\"    \n",
    "    elif x > 60:\n",
    "        return \"60 and older \"        \n",
    "    else:\n",
    "        return \"Unknown\"\n",
    "\n",
    "dt_age = data.Age.map(lambda x: age_bucket(x)).value_counts()   \n",
    "\n",
    "fig = plt.figure(figsize=(6,6))\n",
    "labels=('Between 20 and 30', 'Between 30 and 40', 'Between 40 and 50', 'Between 50 and 60', 'Equal and Less than 20', 'More than 60', 'Unknown')\n",
    "plt.pie(dt_age,explode=(0, 0, 0, 0, 0,0.05,0.1), autopct='%1.2f%%', shadow=False, labels=labels, \\\n",
    "       startangle=70,radius=.9 )\n",
    "plt.title('Arrest by Age Group')\n",
    "plt.show()"
   ]
  },
  {
   "cell_type": "markdown",
   "metadata": {},
   "source": [
    "# Arrest by Year"
   ]
  },
  {
   "cell_type": "code",
   "execution_count": null,
   "metadata": {
    "collapsed": true
   },
   "outputs": [],
   "source": [
    "from datetime import datetime\n",
    "data['ArrestYear'] =data.ArrestDate.map(lambda x: datetime.strptime(x, '%m/%d/%Y').year)\n",
    "data['ArrestMonth'] =data.ArrestDate.map(lambda x: datetime.strptime(x, '%m/%d/%Y').month)\n",
    "\n",
    "sns.set()\n",
    "sns.factorplot(hue='ArrestYear', x='Race', col='Sex', data=data, kind='count',size=3 )"
   ]
  },
  {
   "cell_type": "code",
   "execution_count": null,
   "metadata": {
    "collapsed": true
   },
   "outputs": [],
   "source": [
    "dt = data[data['Age']!=0]\n",
    "sns.factorplot(data=data, x=\"ArrestYear\", col=\"Sex\", y='Age', size=4)  "
   ]
  },
  {
   "cell_type": "code",
   "execution_count": null,
   "metadata": {
    "collapsed": true
   },
   "outputs": [],
   "source": [
    "g = sns.FacetGrid(dt, row='ArrestYear', col=\"Sex\", size=4)  \n",
    "g.map(sns.distplot, \"Age\")  "
   ]
  },
  {
   "cell_type": "markdown",
   "metadata": {},
   "source": [
    "# Arrest by District"
   ]
  },
  {
   "cell_type": "code",
   "execution_count": null,
   "metadata": {
    "collapsed": true
   },
   "outputs": [],
   "source": [
    "dt_district = data[data['District'].notnull()]\n",
    "sns.factorplot(x='ArrestYear', hue='District', data=dt_district, kind='count', size=6)"
   ]
  },
  {
   "cell_type": "markdown",
   "metadata": {},
   "source": [
    "For seaborn plotting, please refer [here](http://blog.insightdatalabs.com/advanced-functionality-in-seaborn/)"
   ]
  },
  {
   "cell_type": "markdown",
   "metadata": {},
   "source": [
    "# Arrest by Locations"
   ]
  },
  {
   "cell_type": "code",
   "execution_count": null,
   "metadata": {
    "collapsed": true
   },
   "outputs": [],
   "source": [
    "\n",
    "locs = data['Location 1'][data['Location 1'].notnull()] \n",
    "locs_lon=[]\n",
    "locs_lat=[]\n",
    "\n",
    "for loc in locs:\n",
    "    lat, lon = loc[1:-1].split(', ')\n",
    "    locs_lon.append(float(lon))\n",
    "    locs_lat.append(float(lat))"
   ]
  },
  {
   "cell_type": "code",
   "execution_count": null,
   "metadata": {
    "collapsed": true
   },
   "outputs": [],
   "source": [
    "west, south, east, north = min(locs_lon), min(locs_lat), max(locs_lon), max(locs_lat)\n",
    " \n",
    "fig = plt.figure(figsize=(9,9))\n",
    "m = Basemap(projection='gall', llcrnrlat=south, urcrnrlat=north,\n",
    "            llcrnrlon=west, urcrnrlon=east, lat_ts=south, resolution='l')\n",
    "x, y = m(pd.Series(locs_lon).values, pd.Series(locs_lat).values)\n",
    "m.hexbin(x, y, gridsize=100, bins='log', cmap=cm.Blues);"
   ]
  },
  {
   "cell_type": "code",
   "execution_count": null,
   "metadata": {
    "collapsed": true
   },
   "outputs": [],
   "source": []
  }
 ],
 "metadata": {
  "kernelspec": {
   "display_name": "Python 2",
   "language": "python",
   "name": "python2"
  },
  "language_info": {
   "codemirror_mode": {
    "name": "ipython",
    "version": 2
   },
   "file_extension": ".py",
   "mimetype": "text/x-python",
   "name": "python",
   "nbconvert_exporter": "python",
   "pygments_lexer": "ipython2",
   "version": "2.7.12"
  }
 },
 "nbformat": 4,
 "nbformat_minor": 0
}
