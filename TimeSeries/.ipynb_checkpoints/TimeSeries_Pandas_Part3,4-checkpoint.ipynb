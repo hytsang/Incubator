{
 "cells": [
  {
   "cell_type": "markdown",
   "metadata": {},
   "source": [
    "### From [Wes McKinney](https://www.youtube.com/watch?v=0unf-C-pBYE)"
   ]
  },
  {
   "cell_type": "code",
   "execution_count": 1,
   "metadata": {
    "collapsed": false,
    "scrolled": true
   },
   "outputs": [
    {
     "data": {
      "text/plain": [
       "u'0.18.0'"
      ]
     },
     "execution_count": 1,
     "metadata": {},
     "output_type": "execute_result"
    }
   ],
   "source": [
    "import numpy as np\n",
    "from pandas import Series, DataFrame\n",
    "import pandas as pd\n",
    "from datetime import datetime\n",
    "pd.__version__"
   ]
  },
  {
   "cell_type": "markdown",
   "metadata": {},
   "source": [
    "## Resampling"
   ]
  },
  {
   "cell_type": "code",
   "execution_count": 2,
   "metadata": {
    "collapsed": false
   },
   "outputs": [
    {
     "data": {
      "text/plain": [
       "DatetimeIndex(['2016-10-07 12:02:32.849000', '2016-10-07 12:03:32.849000',\n",
       "               '2016-10-07 12:04:32.849000', '2016-10-07 12:05:32.849000',\n",
       "               '2016-10-07 12:06:32.849000', '2016-10-07 12:07:32.849000',\n",
       "               '2016-10-07 12:08:32.849000', '2016-10-07 12:09:32.849000',\n",
       "               '2016-10-07 12:10:32.849000', '2016-10-07 12:11:32.849000',\n",
       "               ...\n",
       "               '2016-10-08 04:32:32.849000', '2016-10-08 04:33:32.849000',\n",
       "               '2016-10-08 04:34:32.849000', '2016-10-08 04:35:32.849000',\n",
       "               '2016-10-08 04:36:32.849000', '2016-10-08 04:37:32.849000',\n",
       "               '2016-10-08 04:38:32.849000', '2016-10-08 04:39:32.849000',\n",
       "               '2016-10-08 04:40:32.849000', '2016-10-08 04:41:32.849000'],\n",
       "              dtype='datetime64[ns]', length=1000, freq='T')"
      ]
     },
     "execution_count": 2,
     "metadata": {},
     "output_type": "execute_result"
    }
   ],
   "source": [
    "rng = pd.date_range(datetime.now(), periods=1000, freq='t')\n",
    "rng"
   ]
  },
  {
   "cell_type": "code",
   "execution_count": 3,
   "metadata": {
    "collapsed": false
   },
   "outputs": [
    {
     "data": {
      "text/plain": [
       "2016-10-07 12:02:32.849    0.480353\n",
       "2016-10-07 12:03:32.849    0.454973\n",
       "2016-10-07 12:04:32.849    1.295102\n",
       "2016-10-07 12:05:32.849    0.483538\n",
       "2016-10-07 12:06:32.849    1.860515\n",
       "Freq: T, dtype: float64"
      ]
     },
     "execution_count": 3,
     "metadata": {},
     "output_type": "execute_result"
    }
   ],
   "source": [
    "from numpy.random import randn\n",
    "ts = Series(randn(1000), index=rng)\n",
    "ts.head()"
   ]
  },
  {
   "cell_type": "markdown",
   "metadata": {},
   "source": [
    "### High freq to low: downsampling"
   ]
  },
  {
   "cell_type": "code",
   "execution_count": 4,
   "metadata": {
    "collapsed": false
   },
   "outputs": [
    {
     "data": {
      "text/plain": [
       "2016-10-07 11:40:00     78\n",
       "2016-10-07 13:20:00    100\n",
       "2016-10-07 15:00:00    100\n",
       "2016-10-07 16:40:00    100\n",
       "2016-10-07 18:20:00    100\n",
       "2016-10-07 20:00:00    100\n",
       "2016-10-07 21:40:00    100\n",
       "2016-10-07 23:20:00    100\n",
       "2016-10-08 01:00:00    100\n",
       "2016-10-08 02:40:00    100\n",
       "2016-10-08 04:20:00     22\n",
       "Freq: 100T, dtype: int64"
      ]
     },
     "execution_count": 4,
     "metadata": {},
     "output_type": "execute_result"
    }
   ],
   "source": [
    "ts.resample('100t').count()"
   ]
  },
  {
   "cell_type": "code",
   "execution_count": 5,
   "metadata": {
    "collapsed": false
   },
   "outputs": [
    {
     "data": {
      "text/plain": [
       "2016-10-07 11:40:00    0.110830\n",
       "2016-10-07 13:20:00    0.006760\n",
       "2016-10-07 15:00:00   -0.019346\n",
       "2016-10-07 16:40:00    0.033242\n",
       "2016-10-07 18:20:00    0.030442\n",
       "2016-10-07 20:00:00    0.013876\n",
       "2016-10-07 21:40:00   -0.028937\n",
       "2016-10-07 23:20:00   -0.106156\n",
       "2016-10-08 01:00:00    0.241922\n",
       "2016-10-08 02:40:00   -0.131567\n",
       "2016-10-08 04:20:00    0.192660\n",
       "Freq: 100T, dtype: float64"
      ]
     },
     "execution_count": 5,
     "metadata": {},
     "output_type": "execute_result"
    }
   ],
   "source": [
    "ts.resample('100t').mean()"
   ]
  },
  {
   "cell_type": "code",
   "execution_count": 6,
   "metadata": {
    "collapsed": false
   },
   "outputs": [
    {
     "data": {
      "text/plain": [
       "2016-10-07    718\n",
       "2016-10-08    282\n",
       "Freq: D, dtype: int64"
      ]
     },
     "execution_count": 6,
     "metadata": {},
     "output_type": "execute_result"
    }
   ],
   "source": [
    "ts.resample('D').count()"
   ]
  },
  {
   "cell_type": "code",
   "execution_count": 7,
   "metadata": {
    "collapsed": false
   },
   "outputs": [
    {
     "data": {
      "text/html": [
       "<div>\n",
       "<table border=\"1\" class=\"dataframe\">\n",
       "  <thead>\n",
       "    <tr style=\"text-align: right;\">\n",
       "      <th></th>\n",
       "      <th>count</th>\n",
       "      <th>mean</th>\n",
       "      <th>max</th>\n",
       "      <th>median</th>\n",
       "      <th>min</th>\n",
       "      <th>first</th>\n",
       "      <th>last</th>\n",
       "    </tr>\n",
       "  </thead>\n",
       "  <tbody>\n",
       "    <tr>\n",
       "      <th>2016-10-07 08:20:00</th>\n",
       "      <td>278</td>\n",
       "      <td>0.026569</td>\n",
       "      <td>3.130346</td>\n",
       "      <td>-0.002883</td>\n",
       "      <td>-2.735288</td>\n",
       "      <td>0.480353</td>\n",
       "      <td>-0.195078</td>\n",
       "    </tr>\n",
       "    <tr>\n",
       "      <th>2016-10-07 16:40:00</th>\n",
       "      <td>500</td>\n",
       "      <td>-0.011507</td>\n",
       "      <td>3.655219</td>\n",
       "      <td>-0.036402</td>\n",
       "      <td>-2.998571</td>\n",
       "      <td>0.278035</td>\n",
       "      <td>1.435301</td>\n",
       "    </tr>\n",
       "    <tr>\n",
       "      <th>2016-10-08 01:00:00</th>\n",
       "      <td>222</td>\n",
       "      <td>0.068802</td>\n",
       "      <td>2.475483</td>\n",
       "      <td>0.054517</td>\n",
       "      <td>-3.187944</td>\n",
       "      <td>0.512251</td>\n",
       "      <td>2.190090</td>\n",
       "    </tr>\n",
       "  </tbody>\n",
       "</table>\n",
       "</div>"
      ],
      "text/plain": [
       "                     count      mean       max    median       min     first  \\\n",
       "2016-10-07 08:20:00    278  0.026569  3.130346 -0.002883 -2.735288  0.480353   \n",
       "2016-10-07 16:40:00    500 -0.011507  3.655219 -0.036402 -2.998571  0.278035   \n",
       "2016-10-08 01:00:00    222  0.068802  2.475483  0.054517 -3.187944  0.512251   \n",
       "\n",
       "                         last  \n",
       "2016-10-07 08:20:00 -0.195078  \n",
       "2016-10-07 16:40:00  1.435301  \n",
       "2016-10-08 01:00:00  2.190090  "
      ]
     },
     "execution_count": 7,
     "metadata": {},
     "output_type": "execute_result"
    }
   ],
   "source": [
    "ts.resample('500t').apply(['count','mean','max', 'median','min','first','last'])"
   ]
  },
  {
   "cell_type": "code",
   "execution_count": 8,
   "metadata": {
    "collapsed": false
   },
   "outputs": [
    {
     "data": {
      "text/html": [
       "<div>\n",
       "<table border=\"1\" class=\"dataframe\">\n",
       "  <thead>\n",
       "    <tr style=\"text-align: right;\">\n",
       "      <th></th>\n",
       "      <th>count</th>\n",
       "      <th>mean</th>\n",
       "      <th>max</th>\n",
       "      <th>median</th>\n",
       "      <th>min</th>\n",
       "      <th>first</th>\n",
       "      <th>last</th>\n",
       "    </tr>\n",
       "  </thead>\n",
       "  <tbody>\n",
       "    <tr>\n",
       "      <th>2016-10-07 10:00:00</th>\n",
       "      <td>78</td>\n",
       "      <td>0.110830</td>\n",
       "      <td>2.654980</td>\n",
       "      <td>0.181535</td>\n",
       "      <td>-2.735288</td>\n",
       "      <td>0.480353</td>\n",
       "      <td>0.511284</td>\n",
       "    </tr>\n",
       "    <tr>\n",
       "      <th>2016-10-07 13:20:00</th>\n",
       "      <td>200</td>\n",
       "      <td>-0.006293</td>\n",
       "      <td>3.130346</td>\n",
       "      <td>-0.037846</td>\n",
       "      <td>-2.725517</td>\n",
       "      <td>1.647862</td>\n",
       "      <td>-0.195078</td>\n",
       "    </tr>\n",
       "    <tr>\n",
       "      <th>2016-10-07 16:40:00</th>\n",
       "      <td>200</td>\n",
       "      <td>0.031842</td>\n",
       "      <td>3.655219</td>\n",
       "      <td>-0.013665</td>\n",
       "      <td>-2.461582</td>\n",
       "      <td>0.278035</td>\n",
       "      <td>-1.136203</td>\n",
       "    </tr>\n",
       "    <tr>\n",
       "      <th>2016-10-07 20:00:00</th>\n",
       "      <td>200</td>\n",
       "      <td>-0.007530</td>\n",
       "      <td>3.157019</td>\n",
       "      <td>-0.071933</td>\n",
       "      <td>-2.975903</td>\n",
       "      <td>-0.254996</td>\n",
       "      <td>1.354101</td>\n",
       "    </tr>\n",
       "    <tr>\n",
       "      <th>2016-10-07 23:20:00</th>\n",
       "      <td>200</td>\n",
       "      <td>0.067883</td>\n",
       "      <td>2.638552</td>\n",
       "      <td>0.084181</td>\n",
       "      <td>-2.998571</td>\n",
       "      <td>-0.110185</td>\n",
       "      <td>-0.493481</td>\n",
       "    </tr>\n",
       "    <tr>\n",
       "      <th>2016-10-08 02:40:00</th>\n",
       "      <td>122</td>\n",
       "      <td>-0.073100</td>\n",
       "      <td>2.190090</td>\n",
       "      <td>-0.024017</td>\n",
       "      <td>-3.187944</td>\n",
       "      <td>-0.319069</td>\n",
       "      <td>2.190090</td>\n",
       "    </tr>\n",
       "  </tbody>\n",
       "</table>\n",
       "</div>"
      ],
      "text/plain": [
       "                     count      mean       max    median       min     first  \\\n",
       "2016-10-07 10:00:00     78  0.110830  2.654980  0.181535 -2.735288  0.480353   \n",
       "2016-10-07 13:20:00    200 -0.006293  3.130346 -0.037846 -2.725517  1.647862   \n",
       "2016-10-07 16:40:00    200  0.031842  3.655219 -0.013665 -2.461582  0.278035   \n",
       "2016-10-07 20:00:00    200 -0.007530  3.157019 -0.071933 -2.975903 -0.254996   \n",
       "2016-10-07 23:20:00    200  0.067883  2.638552  0.084181 -2.998571 -0.110185   \n",
       "2016-10-08 02:40:00    122 -0.073100  2.190090 -0.024017 -3.187944 -0.319069   \n",
       "\n",
       "                         last  \n",
       "2016-10-07 10:00:00  0.511284  \n",
       "2016-10-07 13:20:00 -0.195078  \n",
       "2016-10-07 16:40:00 -1.136203  \n",
       "2016-10-07 20:00:00  1.354101  \n",
       "2016-10-07 23:20:00 -0.493481  \n",
       "2016-10-08 02:40:00  2.190090  "
      ]
     },
     "execution_count": 8,
     "metadata": {},
     "output_type": "execute_result"
    }
   ],
   "source": [
    "resampled = ts.resample('200t').apply(['count','mean','max', 'median','min','first','last'])\n",
    "resampled"
   ]
  },
  {
   "cell_type": "code",
   "execution_count": 9,
   "metadata": {
    "collapsed": false
   },
   "outputs": [
    {
     "data": {
      "text/html": [
       "<div>\n",
       "<table border=\"1\" class=\"dataframe\">\n",
       "  <thead>\n",
       "    <tr style=\"text-align: right;\">\n",
       "      <th></th>\n",
       "      <th>count</th>\n",
       "      <th>mean</th>\n",
       "      <th>max</th>\n",
       "      <th>median</th>\n",
       "      <th>min</th>\n",
       "      <th>first</th>\n",
       "      <th>last</th>\n",
       "    </tr>\n",
       "  </thead>\n",
       "  <tbody>\n",
       "    <tr>\n",
       "      <th>2016-10-07 10:00:00</th>\n",
       "      <td>78.0</td>\n",
       "      <td>0.110830</td>\n",
       "      <td>2.654980</td>\n",
       "      <td>0.181535</td>\n",
       "      <td>-2.735288</td>\n",
       "      <td>0.480353</td>\n",
       "      <td>0.511284</td>\n",
       "    </tr>\n",
       "    <tr>\n",
       "      <th>2016-10-07 10:50:00</th>\n",
       "      <td>NaN</td>\n",
       "      <td>NaN</td>\n",
       "      <td>NaN</td>\n",
       "      <td>NaN</td>\n",
       "      <td>NaN</td>\n",
       "      <td>NaN</td>\n",
       "      <td>NaN</td>\n",
       "    </tr>\n",
       "    <tr>\n",
       "      <th>2016-10-07 11:40:00</th>\n",
       "      <td>NaN</td>\n",
       "      <td>NaN</td>\n",
       "      <td>NaN</td>\n",
       "      <td>NaN</td>\n",
       "      <td>NaN</td>\n",
       "      <td>NaN</td>\n",
       "      <td>NaN</td>\n",
       "    </tr>\n",
       "    <tr>\n",
       "      <th>2016-10-07 12:30:00</th>\n",
       "      <td>NaN</td>\n",
       "      <td>NaN</td>\n",
       "      <td>NaN</td>\n",
       "      <td>NaN</td>\n",
       "      <td>NaN</td>\n",
       "      <td>NaN</td>\n",
       "      <td>NaN</td>\n",
       "    </tr>\n",
       "    <tr>\n",
       "      <th>2016-10-07 13:20:00</th>\n",
       "      <td>200.0</td>\n",
       "      <td>-0.006293</td>\n",
       "      <td>3.130346</td>\n",
       "      <td>-0.037846</td>\n",
       "      <td>-2.725517</td>\n",
       "      <td>1.647862</td>\n",
       "      <td>-0.195078</td>\n",
       "    </tr>\n",
       "  </tbody>\n",
       "</table>\n",
       "</div>"
      ],
      "text/plain": [
       "                     count      mean       max    median       min     first  \\\n",
       "2016-10-07 10:00:00   78.0  0.110830  2.654980  0.181535 -2.735288  0.480353   \n",
       "2016-10-07 10:50:00    NaN       NaN       NaN       NaN       NaN       NaN   \n",
       "2016-10-07 11:40:00    NaN       NaN       NaN       NaN       NaN       NaN   \n",
       "2016-10-07 12:30:00    NaN       NaN       NaN       NaN       NaN       NaN   \n",
       "2016-10-07 13:20:00  200.0 -0.006293  3.130346 -0.037846 -2.725517  1.647862   \n",
       "\n",
       "                         last  \n",
       "2016-10-07 10:00:00  0.511284  \n",
       "2016-10-07 10:50:00       NaN  \n",
       "2016-10-07 11:40:00       NaN  \n",
       "2016-10-07 12:30:00       NaN  \n",
       "2016-10-07 13:20:00 -0.195078  "
      ]
     },
     "execution_count": 9,
     "metadata": {},
     "output_type": "execute_result"
    }
   ],
   "source": [
    "#to high frequency\n",
    "hf = resampled.resample('50t').mean()\n",
    "hf.head()"
   ]
  },
  {
   "cell_type": "code",
   "execution_count": 10,
   "metadata": {
    "collapsed": false
   },
   "outputs": [
    {
     "data": {
      "text/html": [
       "<div>\n",
       "<table border=\"1\" class=\"dataframe\">\n",
       "  <thead>\n",
       "    <tr style=\"text-align: right;\">\n",
       "      <th></th>\n",
       "      <th>count</th>\n",
       "      <th>mean</th>\n",
       "      <th>max</th>\n",
       "      <th>median</th>\n",
       "      <th>min</th>\n",
       "      <th>first</th>\n",
       "      <th>last</th>\n",
       "    </tr>\n",
       "  </thead>\n",
       "  <tbody>\n",
       "    <tr>\n",
       "      <th>2016-10-07 10:00:00</th>\n",
       "      <td>78.0</td>\n",
       "      <td>0.110830</td>\n",
       "      <td>2.654980</td>\n",
       "      <td>0.181535</td>\n",
       "      <td>-2.735288</td>\n",
       "      <td>0.480353</td>\n",
       "      <td>0.511284</td>\n",
       "    </tr>\n",
       "    <tr>\n",
       "      <th>2016-10-07 10:50:00</th>\n",
       "      <td>0.0</td>\n",
       "      <td>0.000000</td>\n",
       "      <td>0.000000</td>\n",
       "      <td>0.000000</td>\n",
       "      <td>0.000000</td>\n",
       "      <td>0.000000</td>\n",
       "      <td>0.000000</td>\n",
       "    </tr>\n",
       "    <tr>\n",
       "      <th>2016-10-07 11:40:00</th>\n",
       "      <td>0.0</td>\n",
       "      <td>0.000000</td>\n",
       "      <td>0.000000</td>\n",
       "      <td>0.000000</td>\n",
       "      <td>0.000000</td>\n",
       "      <td>0.000000</td>\n",
       "      <td>0.000000</td>\n",
       "    </tr>\n",
       "    <tr>\n",
       "      <th>2016-10-07 12:30:00</th>\n",
       "      <td>0.0</td>\n",
       "      <td>0.000000</td>\n",
       "      <td>0.000000</td>\n",
       "      <td>0.000000</td>\n",
       "      <td>0.000000</td>\n",
       "      <td>0.000000</td>\n",
       "      <td>0.000000</td>\n",
       "    </tr>\n",
       "    <tr>\n",
       "      <th>2016-10-07 13:20:00</th>\n",
       "      <td>200.0</td>\n",
       "      <td>-0.006293</td>\n",
       "      <td>3.130346</td>\n",
       "      <td>-0.037846</td>\n",
       "      <td>-2.725517</td>\n",
       "      <td>1.647862</td>\n",
       "      <td>-0.195078</td>\n",
       "    </tr>\n",
       "  </tbody>\n",
       "</table>\n",
       "</div>"
      ],
      "text/plain": [
       "                     count      mean       max    median       min     first  \\\n",
       "2016-10-07 10:00:00   78.0  0.110830  2.654980  0.181535 -2.735288  0.480353   \n",
       "2016-10-07 10:50:00    0.0  0.000000  0.000000  0.000000  0.000000  0.000000   \n",
       "2016-10-07 11:40:00    0.0  0.000000  0.000000  0.000000  0.000000  0.000000   \n",
       "2016-10-07 12:30:00    0.0  0.000000  0.000000  0.000000  0.000000  0.000000   \n",
       "2016-10-07 13:20:00  200.0 -0.006293  3.130346 -0.037846 -2.725517  1.647862   \n",
       "\n",
       "                         last  \n",
       "2016-10-07 10:00:00  0.511284  \n",
       "2016-10-07 10:50:00  0.000000  \n",
       "2016-10-07 11:40:00  0.000000  \n",
       "2016-10-07 12:30:00  0.000000  \n",
       "2016-10-07 13:20:00 -0.195078  "
      ]
     },
     "execution_count": 10,
     "metadata": {},
     "output_type": "execute_result"
    }
   ],
   "source": [
    "hf.fillna(0).head() #(method='ffill')  # forward fill , bfill backword fill"
   ]
  },
  {
   "cell_type": "code",
   "execution_count": 11,
   "metadata": {
    "collapsed": false
   },
   "outputs": [
    {
     "data": {
      "text/html": [
       "<div>\n",
       "<table border=\"1\" class=\"dataframe\">\n",
       "  <thead>\n",
       "    <tr style=\"text-align: right;\">\n",
       "      <th></th>\n",
       "      <th>first</th>\n",
       "      <th>max</th>\n",
       "      <th>min</th>\n",
       "      <th>last</th>\n",
       "    </tr>\n",
       "  </thead>\n",
       "  <tbody>\n",
       "    <tr>\n",
       "      <th>2016-10-07 08:20:00</th>\n",
       "      <td>0.480353</td>\n",
       "      <td>3.130346</td>\n",
       "      <td>-2.735288</td>\n",
       "      <td>-0.195078</td>\n",
       "    </tr>\n",
       "    <tr>\n",
       "      <th>2016-10-07 10:00:00</th>\n",
       "      <td>NaN</td>\n",
       "      <td>NaN</td>\n",
       "      <td>NaN</td>\n",
       "      <td>NaN</td>\n",
       "    </tr>\n",
       "    <tr>\n",
       "      <th>2016-10-07 11:40:00</th>\n",
       "      <td>NaN</td>\n",
       "      <td>NaN</td>\n",
       "      <td>NaN</td>\n",
       "      <td>NaN</td>\n",
       "    </tr>\n",
       "    <tr>\n",
       "      <th>2016-10-07 13:20:00</th>\n",
       "      <td>NaN</td>\n",
       "      <td>NaN</td>\n",
       "      <td>NaN</td>\n",
       "      <td>NaN</td>\n",
       "    </tr>\n",
       "    <tr>\n",
       "      <th>2016-10-07 15:00:00</th>\n",
       "      <td>NaN</td>\n",
       "      <td>NaN</td>\n",
       "      <td>NaN</td>\n",
       "      <td>NaN</td>\n",
       "    </tr>\n",
       "    <tr>\n",
       "      <th>2016-10-07 16:40:00</th>\n",
       "      <td>0.278035</td>\n",
       "      <td>3.655219</td>\n",
       "      <td>-2.998571</td>\n",
       "      <td>1.435301</td>\n",
       "    </tr>\n",
       "    <tr>\n",
       "      <th>2016-10-07 18:20:00</th>\n",
       "      <td>NaN</td>\n",
       "      <td>NaN</td>\n",
       "      <td>NaN</td>\n",
       "      <td>NaN</td>\n",
       "    </tr>\n",
       "    <tr>\n",
       "      <th>2016-10-07 20:00:00</th>\n",
       "      <td>NaN</td>\n",
       "      <td>NaN</td>\n",
       "      <td>NaN</td>\n",
       "      <td>NaN</td>\n",
       "    </tr>\n",
       "    <tr>\n",
       "      <th>2016-10-07 21:40:00</th>\n",
       "      <td>NaN</td>\n",
       "      <td>NaN</td>\n",
       "      <td>NaN</td>\n",
       "      <td>NaN</td>\n",
       "    </tr>\n",
       "    <tr>\n",
       "      <th>2016-10-07 23:20:00</th>\n",
       "      <td>NaN</td>\n",
       "      <td>NaN</td>\n",
       "      <td>NaN</td>\n",
       "      <td>NaN</td>\n",
       "    </tr>\n",
       "    <tr>\n",
       "      <th>2016-10-08 01:00:00</th>\n",
       "      <td>0.512251</td>\n",
       "      <td>2.475483</td>\n",
       "      <td>-3.187944</td>\n",
       "      <td>2.190090</td>\n",
       "    </tr>\n",
       "  </tbody>\n",
       "</table>\n",
       "</div>"
      ],
      "text/plain": [
       "                        first       max       min      last\n",
       "2016-10-07 08:20:00  0.480353  3.130346 -2.735288 -0.195078\n",
       "2016-10-07 10:00:00       NaN       NaN       NaN       NaN\n",
       "2016-10-07 11:40:00       NaN       NaN       NaN       NaN\n",
       "2016-10-07 13:20:00       NaN       NaN       NaN       NaN\n",
       "2016-10-07 15:00:00       NaN       NaN       NaN       NaN\n",
       "2016-10-07 16:40:00  0.278035  3.655219 -2.998571  1.435301\n",
       "2016-10-07 18:20:00       NaN       NaN       NaN       NaN\n",
       "2016-10-07 20:00:00       NaN       NaN       NaN       NaN\n",
       "2016-10-07 21:40:00       NaN       NaN       NaN       NaN\n",
       "2016-10-07 23:20:00       NaN       NaN       NaN       NaN\n",
       "2016-10-08 01:00:00  0.512251  2.475483 -3.187944  2.190090"
      ]
     },
     "execution_count": 11,
     "metadata": {},
     "output_type": "execute_result"
    }
   ],
   "source": [
    "resampled = ts.resample('500t').apply(['first', 'max', 'min','last'])\n",
    "hf = resampled.resample('100t').mean()\n",
    "hf"
   ]
  },
  {
   "cell_type": "code",
   "execution_count": 12,
   "metadata": {
    "collapsed": false
   },
   "outputs": [
    {
     "data": {
      "text/html": [
       "<div>\n",
       "<table border=\"1\" class=\"dataframe\">\n",
       "  <thead>\n",
       "    <tr style=\"text-align: right;\">\n",
       "      <th></th>\n",
       "      <th>first</th>\n",
       "      <th>max</th>\n",
       "      <th>min</th>\n",
       "      <th>last</th>\n",
       "    </tr>\n",
       "  </thead>\n",
       "  <tbody>\n",
       "    <tr>\n",
       "      <th>2016-10-07 08:20:00</th>\n",
       "      <td>0.480353</td>\n",
       "      <td>3.130346</td>\n",
       "      <td>-2.735288</td>\n",
       "      <td>-0.195078</td>\n",
       "    </tr>\n",
       "    <tr>\n",
       "      <th>2016-10-07 10:00:00</th>\n",
       "      <td>0.480353</td>\n",
       "      <td>3.130346</td>\n",
       "      <td>-2.735288</td>\n",
       "      <td>-0.195078</td>\n",
       "    </tr>\n",
       "    <tr>\n",
       "      <th>2016-10-07 11:40:00</th>\n",
       "      <td>NaN</td>\n",
       "      <td>3.130346</td>\n",
       "      <td>-2.735288</td>\n",
       "      <td>-0.195078</td>\n",
       "    </tr>\n",
       "    <tr>\n",
       "      <th>2016-10-07 13:20:00</th>\n",
       "      <td>NaN</td>\n",
       "      <td>NaN</td>\n",
       "      <td>-2.735288</td>\n",
       "      <td>-0.195078</td>\n",
       "    </tr>\n",
       "    <tr>\n",
       "      <th>2016-10-07 15:00:00</th>\n",
       "      <td>NaN</td>\n",
       "      <td>NaN</td>\n",
       "      <td>NaN</td>\n",
       "      <td>-0.195078</td>\n",
       "    </tr>\n",
       "    <tr>\n",
       "      <th>2016-10-07 16:40:00</th>\n",
       "      <td>0.278035</td>\n",
       "      <td>3.655219</td>\n",
       "      <td>-2.998571</td>\n",
       "      <td>1.435301</td>\n",
       "    </tr>\n",
       "    <tr>\n",
       "      <th>2016-10-07 18:20:00</th>\n",
       "      <td>0.278035</td>\n",
       "      <td>3.655219</td>\n",
       "      <td>-2.998571</td>\n",
       "      <td>1.435301</td>\n",
       "    </tr>\n",
       "    <tr>\n",
       "      <th>2016-10-07 20:00:00</th>\n",
       "      <td>NaN</td>\n",
       "      <td>3.655219</td>\n",
       "      <td>-2.998571</td>\n",
       "      <td>1.435301</td>\n",
       "    </tr>\n",
       "    <tr>\n",
       "      <th>2016-10-07 21:40:00</th>\n",
       "      <td>NaN</td>\n",
       "      <td>NaN</td>\n",
       "      <td>-2.998571</td>\n",
       "      <td>1.435301</td>\n",
       "    </tr>\n",
       "    <tr>\n",
       "      <th>2016-10-07 23:20:00</th>\n",
       "      <td>NaN</td>\n",
       "      <td>NaN</td>\n",
       "      <td>NaN</td>\n",
       "      <td>1.435301</td>\n",
       "    </tr>\n",
       "    <tr>\n",
       "      <th>2016-10-08 01:00:00</th>\n",
       "      <td>0.512251</td>\n",
       "      <td>2.475483</td>\n",
       "      <td>-3.187944</td>\n",
       "      <td>2.190090</td>\n",
       "    </tr>\n",
       "  </tbody>\n",
       "</table>\n",
       "</div>"
      ],
      "text/plain": [
       "                        first       max       min      last\n",
       "2016-10-07 08:20:00  0.480353  3.130346 -2.735288 -0.195078\n",
       "2016-10-07 10:00:00  0.480353  3.130346 -2.735288 -0.195078\n",
       "2016-10-07 11:40:00       NaN  3.130346 -2.735288 -0.195078\n",
       "2016-10-07 13:20:00       NaN       NaN -2.735288 -0.195078\n",
       "2016-10-07 15:00:00       NaN       NaN       NaN -0.195078\n",
       "2016-10-07 16:40:00  0.278035  3.655219 -2.998571  1.435301\n",
       "2016-10-07 18:20:00  0.278035  3.655219 -2.998571  1.435301\n",
       "2016-10-07 20:00:00       NaN  3.655219 -2.998571  1.435301\n",
       "2016-10-07 21:40:00       NaN       NaN -2.998571  1.435301\n",
       "2016-10-07 23:20:00       NaN       NaN       NaN  1.435301\n",
       "2016-10-08 01:00:00  0.512251  2.475483 -3.187944  2.190090"
      ]
     },
     "execution_count": 12,
     "metadata": {},
     "output_type": "execute_result"
    }
   ],
   "source": [
    "# limit how many rows to be filled\n",
    "limits ={'first':1, 'max':2, 'min':3, 'last':4}\n",
    "hf.apply(lambda x: x.fillna(method='ffill', limit=limits[x.name]))  "
   ]
  },
  {
   "cell_type": "code",
   "execution_count": 13,
   "metadata": {
    "collapsed": false
   },
   "outputs": [
    {
     "data": {
      "text/html": [
       "<div>\n",
       "<table border=\"1\" class=\"dataframe\">\n",
       "  <thead>\n",
       "    <tr style=\"text-align: right;\">\n",
       "      <th></th>\n",
       "      <th>first</th>\n",
       "      <th>max</th>\n",
       "      <th>min</th>\n",
       "      <th>last</th>\n",
       "    </tr>\n",
       "  </thead>\n",
       "  <tbody>\n",
       "    <tr>\n",
       "      <th>2016-10-07 08:20:00</th>\n",
       "      <td>0.480353</td>\n",
       "      <td>3.130346</td>\n",
       "      <td>-2.735288</td>\n",
       "      <td>-0.195078</td>\n",
       "    </tr>\n",
       "    <tr>\n",
       "      <th>2016-10-07 10:00:00</th>\n",
       "      <td>0.278035</td>\n",
       "      <td>3.655219</td>\n",
       "      <td>-2.998571</td>\n",
       "      <td>1.435301</td>\n",
       "    </tr>\n",
       "    <tr>\n",
       "      <th>2016-10-07 11:40:00</th>\n",
       "      <td>0.278035</td>\n",
       "      <td>3.655219</td>\n",
       "      <td>-2.998571</td>\n",
       "      <td>1.435301</td>\n",
       "    </tr>\n",
       "    <tr>\n",
       "      <th>2016-10-07 13:20:00</th>\n",
       "      <td>0.278035</td>\n",
       "      <td>3.655219</td>\n",
       "      <td>-2.998571</td>\n",
       "      <td>1.435301</td>\n",
       "    </tr>\n",
       "    <tr>\n",
       "      <th>2016-10-07 15:00:00</th>\n",
       "      <td>0.278035</td>\n",
       "      <td>3.655219</td>\n",
       "      <td>-2.998571</td>\n",
       "      <td>1.435301</td>\n",
       "    </tr>\n",
       "    <tr>\n",
       "      <th>2016-10-07 16:40:00</th>\n",
       "      <td>0.278035</td>\n",
       "      <td>3.655219</td>\n",
       "      <td>-2.998571</td>\n",
       "      <td>1.435301</td>\n",
       "    </tr>\n",
       "    <tr>\n",
       "      <th>2016-10-07 18:20:00</th>\n",
       "      <td>0.512251</td>\n",
       "      <td>2.475483</td>\n",
       "      <td>-3.187944</td>\n",
       "      <td>2.190090</td>\n",
       "    </tr>\n",
       "    <tr>\n",
       "      <th>2016-10-07 20:00:00</th>\n",
       "      <td>0.512251</td>\n",
       "      <td>2.475483</td>\n",
       "      <td>-3.187944</td>\n",
       "      <td>2.190090</td>\n",
       "    </tr>\n",
       "    <tr>\n",
       "      <th>2016-10-07 21:40:00</th>\n",
       "      <td>0.512251</td>\n",
       "      <td>2.475483</td>\n",
       "      <td>-3.187944</td>\n",
       "      <td>2.190090</td>\n",
       "    </tr>\n",
       "    <tr>\n",
       "      <th>2016-10-07 23:20:00</th>\n",
       "      <td>0.512251</td>\n",
       "      <td>2.475483</td>\n",
       "      <td>-3.187944</td>\n",
       "      <td>2.190090</td>\n",
       "    </tr>\n",
       "    <tr>\n",
       "      <th>2016-10-08 01:00:00</th>\n",
       "      <td>0.512251</td>\n",
       "      <td>2.475483</td>\n",
       "      <td>-3.187944</td>\n",
       "      <td>2.190090</td>\n",
       "    </tr>\n",
       "  </tbody>\n",
       "</table>\n",
       "</div>"
      ],
      "text/plain": [
       "                        first       max       min      last\n",
       "2016-10-07 08:20:00  0.480353  3.130346 -2.735288 -0.195078\n",
       "2016-10-07 10:00:00  0.278035  3.655219 -2.998571  1.435301\n",
       "2016-10-07 11:40:00  0.278035  3.655219 -2.998571  1.435301\n",
       "2016-10-07 13:20:00  0.278035  3.655219 -2.998571  1.435301\n",
       "2016-10-07 15:00:00  0.278035  3.655219 -2.998571  1.435301\n",
       "2016-10-07 16:40:00  0.278035  3.655219 -2.998571  1.435301\n",
       "2016-10-07 18:20:00  0.512251  2.475483 -3.187944  2.190090\n",
       "2016-10-07 20:00:00  0.512251  2.475483 -3.187944  2.190090\n",
       "2016-10-07 21:40:00  0.512251  2.475483 -3.187944  2.190090\n",
       "2016-10-07 23:20:00  0.512251  2.475483 -3.187944  2.190090\n",
       "2016-10-08 01:00:00  0.512251  2.475483 -3.187944  2.190090"
      ]
     },
     "execution_count": 13,
     "metadata": {},
     "output_type": "execute_result"
    }
   ],
   "source": [
    "resampled.resample('100t').bfill()  # fill backword"
   ]
  },
  {
   "cell_type": "markdown",
   "metadata": {},
   "source": [
    "## Periods"
   ]
  },
  {
   "cell_type": "code",
   "execution_count": 14,
   "metadata": {
    "collapsed": false
   },
   "outputs": [
    {
     "data": {
      "text/plain": [
       "pandas._period.Period"
      ]
     },
     "execution_count": 14,
     "metadata": {},
     "output_type": "execute_result"
    }
   ],
   "source": [
    "pd.Period"
   ]
  },
  {
   "cell_type": "code",
   "execution_count": 15,
   "metadata": {
    "collapsed": false
   },
   "outputs": [
    {
     "data": {
      "text/plain": [
       "Period('2016', 'A-JUN')"
      ]
     },
     "execution_count": 15,
     "metadata": {},
     "output_type": "execute_result"
    }
   ],
   "source": [
    "p =  pd.Period('2016', freq='A-JUN')\n",
    "p"
   ]
  },
  {
   "cell_type": "code",
   "execution_count": 16,
   "metadata": {
    "collapsed": false
   },
   "outputs": [
    {
     "data": {
      "text/plain": [
       "2016-10    0.016907\n",
       "Freq: M, dtype: float64"
      ]
     },
     "execution_count": 16,
     "metadata": {},
     "output_type": "execute_result"
    }
   ],
   "source": [
    "tsp = ts.resample('M', kind='period').mean()\n",
    "tsp"
   ]
  },
  {
   "cell_type": "markdown",
   "metadata": {},
   "source": [
    "## Load data\n",
    "\n",
    "Credit to [UCI ML]('https://archive.ics.uci.edu/ml/datasets/Air+Quality')"
   ]
  },
  {
   "cell_type": "code",
   "execution_count": 17,
   "metadata": {
    "collapsed": false
   },
   "outputs": [],
   "source": [
    "aq = pd.read_excel('AirQualityUCI.xlsx')"
   ]
  },
  {
   "cell_type": "code",
   "execution_count": 18,
   "metadata": {
    "collapsed": true
   },
   "outputs": [],
   "source": [
    "aq.to_csv('AirQualityUCI.csv')"
   ]
  },
  {
   "cell_type": "code",
   "execution_count": 19,
   "metadata": {
    "collapsed": false
   },
   "outputs": [
    {
     "data": {
      "text/html": [
       "<div>\n",
       "<table border=\"1\" class=\"dataframe\">\n",
       "  <thead>\n",
       "    <tr style=\"text-align: right;\">\n",
       "      <th></th>\n",
       "      <th>Date_Time</th>\n",
       "      <th>Unnamed: 0</th>\n",
       "      <th>CO(GT)</th>\n",
       "      <th>PT08.S1(CO)</th>\n",
       "      <th>NMHC(GT)</th>\n",
       "      <th>C6H6(GT)</th>\n",
       "      <th>PT08.S2(NMHC)</th>\n",
       "      <th>NOx(GT)</th>\n",
       "      <th>PT08.S3(NOx)</th>\n",
       "      <th>NO2(GT)</th>\n",
       "      <th>PT08.S4(NO2)</th>\n",
       "      <th>PT08.S5(O3)</th>\n",
       "      <th>T</th>\n",
       "      <th>RH</th>\n",
       "      <th>AH</th>\n",
       "    </tr>\n",
       "  </thead>\n",
       "  <tbody>\n",
       "    <tr>\n",
       "      <th>0</th>\n",
       "      <td>2004-03-10 18:00:00</td>\n",
       "      <td>0</td>\n",
       "      <td>2.6</td>\n",
       "      <td>1360.00</td>\n",
       "      <td>150</td>\n",
       "      <td>11.881723</td>\n",
       "      <td>1045.50</td>\n",
       "      <td>166.0</td>\n",
       "      <td>1056.25</td>\n",
       "      <td>113.0</td>\n",
       "      <td>1692.00</td>\n",
       "      <td>1267.50</td>\n",
       "      <td>13.60</td>\n",
       "      <td>48.875001</td>\n",
       "      <td>0.757754</td>\n",
       "    </tr>\n",
       "    <tr>\n",
       "      <th>1</th>\n",
       "      <td>2004-03-10 19:00:00</td>\n",
       "      <td>1</td>\n",
       "      <td>2.0</td>\n",
       "      <td>1292.25</td>\n",
       "      <td>112</td>\n",
       "      <td>9.397165</td>\n",
       "      <td>954.75</td>\n",
       "      <td>103.0</td>\n",
       "      <td>1173.75</td>\n",
       "      <td>92.0</td>\n",
       "      <td>1558.75</td>\n",
       "      <td>972.25</td>\n",
       "      <td>13.30</td>\n",
       "      <td>47.700000</td>\n",
       "      <td>0.725487</td>\n",
       "    </tr>\n",
       "    <tr>\n",
       "      <th>2</th>\n",
       "      <td>2004-03-10 20:00:00</td>\n",
       "      <td>2</td>\n",
       "      <td>2.2</td>\n",
       "      <td>1402.00</td>\n",
       "      <td>88</td>\n",
       "      <td>8.997817</td>\n",
       "      <td>939.25</td>\n",
       "      <td>131.0</td>\n",
       "      <td>1140.00</td>\n",
       "      <td>114.0</td>\n",
       "      <td>1554.50</td>\n",
       "      <td>1074.00</td>\n",
       "      <td>11.90</td>\n",
       "      <td>53.975000</td>\n",
       "      <td>0.750239</td>\n",
       "    </tr>\n",
       "    <tr>\n",
       "      <th>3</th>\n",
       "      <td>2004-03-10 21:00:00</td>\n",
       "      <td>3</td>\n",
       "      <td>2.2</td>\n",
       "      <td>1375.50</td>\n",
       "      <td>80</td>\n",
       "      <td>9.228796</td>\n",
       "      <td>948.25</td>\n",
       "      <td>172.0</td>\n",
       "      <td>1092.00</td>\n",
       "      <td>122.0</td>\n",
       "      <td>1583.75</td>\n",
       "      <td>1203.25</td>\n",
       "      <td>11.00</td>\n",
       "      <td>60.000000</td>\n",
       "      <td>0.786713</td>\n",
       "    </tr>\n",
       "    <tr>\n",
       "      <th>4</th>\n",
       "      <td>2004-03-10 22:00:00</td>\n",
       "      <td>4</td>\n",
       "      <td>1.6</td>\n",
       "      <td>1272.25</td>\n",
       "      <td>51</td>\n",
       "      <td>6.518224</td>\n",
       "      <td>835.50</td>\n",
       "      <td>131.0</td>\n",
       "      <td>1205.00</td>\n",
       "      <td>116.0</td>\n",
       "      <td>1490.00</td>\n",
       "      <td>1110.00</td>\n",
       "      <td>11.15</td>\n",
       "      <td>59.575001</td>\n",
       "      <td>0.788794</td>\n",
       "    </tr>\n",
       "  </tbody>\n",
       "</table>\n",
       "</div>"
      ],
      "text/plain": [
       "            Date_Time  Unnamed: 0  CO(GT)  PT08.S1(CO)  NMHC(GT)   C6H6(GT)  \\\n",
       "0 2004-03-10 18:00:00           0     2.6      1360.00       150  11.881723   \n",
       "1 2004-03-10 19:00:00           1     2.0      1292.25       112   9.397165   \n",
       "2 2004-03-10 20:00:00           2     2.2      1402.00        88   8.997817   \n",
       "3 2004-03-10 21:00:00           3     2.2      1375.50        80   9.228796   \n",
       "4 2004-03-10 22:00:00           4     1.6      1272.25        51   6.518224   \n",
       "\n",
       "   PT08.S2(NMHC)  NOx(GT)  PT08.S3(NOx)  NO2(GT)  PT08.S4(NO2)  PT08.S5(O3)  \\\n",
       "0        1045.50    166.0       1056.25    113.0       1692.00      1267.50   \n",
       "1         954.75    103.0       1173.75     92.0       1558.75       972.25   \n",
       "2         939.25    131.0       1140.00    114.0       1554.50      1074.00   \n",
       "3         948.25    172.0       1092.00    122.0       1583.75      1203.25   \n",
       "4         835.50    131.0       1205.00    116.0       1490.00      1110.00   \n",
       "\n",
       "       T         RH        AH  \n",
       "0  13.60  48.875001  0.757754  \n",
       "1  13.30  47.700000  0.725487  \n",
       "2  11.90  53.975000  0.750239  \n",
       "3  11.00  60.000000  0.786713  \n",
       "4  11.15  59.575001  0.788794  "
      ]
     },
     "execution_count": 19,
     "metadata": {},
     "output_type": "execute_result"
    }
   ],
   "source": [
    "df = pd.read_csv('AirQualityUCI.csv', parse_dates=[['Date', 'Time']])\n",
    "df.head()"
   ]
  },
  {
   "cell_type": "code",
   "execution_count": 20,
   "metadata": {
    "collapsed": false
   },
   "outputs": [
    {
     "name": "stdout",
     "output_type": "stream",
     "text": [
      "<class 'pandas.core.frame.DataFrame'>\n",
      "RangeIndex: 9357 entries, 0 to 9356\n",
      "Data columns (total 15 columns):\n",
      "Date_Time        9357 non-null datetime64[ns]\n",
      "Unnamed: 0       9357 non-null int64\n",
      "CO(GT)           9357 non-null float64\n",
      "PT08.S1(CO)      9357 non-null float64\n",
      "NMHC(GT)         9357 non-null int64\n",
      "C6H6(GT)         9357 non-null float64\n",
      "PT08.S2(NMHC)    9357 non-null float64\n",
      "NOx(GT)          9357 non-null float64\n",
      "PT08.S3(NOx)     9357 non-null float64\n",
      "NO2(GT)          9357 non-null float64\n",
      "PT08.S4(NO2)     9357 non-null float64\n",
      "PT08.S5(O3)      9357 non-null float64\n",
      "T                9357 non-null float64\n",
      "RH               9357 non-null float64\n",
      "AH               9357 non-null float64\n",
      "dtypes: datetime64[ns](1), float64(12), int64(2)\n",
      "memory usage: 1.1 MB\n"
     ]
    }
   ],
   "source": [
    "df.info()"
   ]
  },
  {
   "cell_type": "code",
   "execution_count": 21,
   "metadata": {
    "collapsed": true
   },
   "outputs": [],
   "source": [
    "del df['Unnamed: 0']"
   ]
  },
  {
   "cell_type": "code",
   "execution_count": 22,
   "metadata": {
    "collapsed": false
   },
   "outputs": [
    {
     "data": {
      "text/html": [
       "<div>\n",
       "<table border=\"1\" class=\"dataframe\">\n",
       "  <thead>\n",
       "    <tr style=\"text-align: right;\">\n",
       "      <th></th>\n",
       "      <th>Date_Time</th>\n",
       "      <th>CO(GT)</th>\n",
       "      <th>PT08.S1(CO)</th>\n",
       "      <th>NMHC(GT)</th>\n",
       "      <th>C6H6(GT)</th>\n",
       "      <th>PT08.S2(NMHC)</th>\n",
       "      <th>NOx(GT)</th>\n",
       "      <th>PT08.S3(NOx)</th>\n",
       "      <th>NO2(GT)</th>\n",
       "      <th>PT08.S4(NO2)</th>\n",
       "      <th>PT08.S5(O3)</th>\n",
       "      <th>T</th>\n",
       "      <th>RH</th>\n",
       "      <th>AH</th>\n",
       "    </tr>\n",
       "  </thead>\n",
       "  <tbody>\n",
       "    <tr>\n",
       "      <th>0</th>\n",
       "      <td>2004-03-10 18:00:00</td>\n",
       "      <td>2.6</td>\n",
       "      <td>1360.00</td>\n",
       "      <td>150</td>\n",
       "      <td>11.881723</td>\n",
       "      <td>1045.50</td>\n",
       "      <td>166.0</td>\n",
       "      <td>1056.25</td>\n",
       "      <td>113.0</td>\n",
       "      <td>1692.00</td>\n",
       "      <td>1267.50</td>\n",
       "      <td>13.60</td>\n",
       "      <td>48.875001</td>\n",
       "      <td>0.757754</td>\n",
       "    </tr>\n",
       "    <tr>\n",
       "      <th>1</th>\n",
       "      <td>2004-03-10 19:00:00</td>\n",
       "      <td>2.0</td>\n",
       "      <td>1292.25</td>\n",
       "      <td>112</td>\n",
       "      <td>9.397165</td>\n",
       "      <td>954.75</td>\n",
       "      <td>103.0</td>\n",
       "      <td>1173.75</td>\n",
       "      <td>92.0</td>\n",
       "      <td>1558.75</td>\n",
       "      <td>972.25</td>\n",
       "      <td>13.30</td>\n",
       "      <td>47.700000</td>\n",
       "      <td>0.725487</td>\n",
       "    </tr>\n",
       "    <tr>\n",
       "      <th>2</th>\n",
       "      <td>2004-03-10 20:00:00</td>\n",
       "      <td>2.2</td>\n",
       "      <td>1402.00</td>\n",
       "      <td>88</td>\n",
       "      <td>8.997817</td>\n",
       "      <td>939.25</td>\n",
       "      <td>131.0</td>\n",
       "      <td>1140.00</td>\n",
       "      <td>114.0</td>\n",
       "      <td>1554.50</td>\n",
       "      <td>1074.00</td>\n",
       "      <td>11.90</td>\n",
       "      <td>53.975000</td>\n",
       "      <td>0.750239</td>\n",
       "    </tr>\n",
       "    <tr>\n",
       "      <th>3</th>\n",
       "      <td>2004-03-10 21:00:00</td>\n",
       "      <td>2.2</td>\n",
       "      <td>1375.50</td>\n",
       "      <td>80</td>\n",
       "      <td>9.228796</td>\n",
       "      <td>948.25</td>\n",
       "      <td>172.0</td>\n",
       "      <td>1092.00</td>\n",
       "      <td>122.0</td>\n",
       "      <td>1583.75</td>\n",
       "      <td>1203.25</td>\n",
       "      <td>11.00</td>\n",
       "      <td>60.000000</td>\n",
       "      <td>0.786713</td>\n",
       "    </tr>\n",
       "    <tr>\n",
       "      <th>4</th>\n",
       "      <td>2004-03-10 22:00:00</td>\n",
       "      <td>1.6</td>\n",
       "      <td>1272.25</td>\n",
       "      <td>51</td>\n",
       "      <td>6.518224</td>\n",
       "      <td>835.50</td>\n",
       "      <td>131.0</td>\n",
       "      <td>1205.00</td>\n",
       "      <td>116.0</td>\n",
       "      <td>1490.00</td>\n",
       "      <td>1110.00</td>\n",
       "      <td>11.15</td>\n",
       "      <td>59.575001</td>\n",
       "      <td>0.788794</td>\n",
       "    </tr>\n",
       "  </tbody>\n",
       "</table>\n",
       "</div>"
      ],
      "text/plain": [
       "            Date_Time  CO(GT)  PT08.S1(CO)  NMHC(GT)   C6H6(GT)  \\\n",
       "0 2004-03-10 18:00:00     2.6      1360.00       150  11.881723   \n",
       "1 2004-03-10 19:00:00     2.0      1292.25       112   9.397165   \n",
       "2 2004-03-10 20:00:00     2.2      1402.00        88   8.997817   \n",
       "3 2004-03-10 21:00:00     2.2      1375.50        80   9.228796   \n",
       "4 2004-03-10 22:00:00     1.6      1272.25        51   6.518224   \n",
       "\n",
       "   PT08.S2(NMHC)  NOx(GT)  PT08.S3(NOx)  NO2(GT)  PT08.S4(NO2)  PT08.S5(O3)  \\\n",
       "0        1045.50    166.0       1056.25    113.0       1692.00      1267.50   \n",
       "1         954.75    103.0       1173.75     92.0       1558.75       972.25   \n",
       "2         939.25    131.0       1140.00    114.0       1554.50      1074.00   \n",
       "3         948.25    172.0       1092.00    122.0       1583.75      1203.25   \n",
       "4         835.50    131.0       1205.00    116.0       1490.00      1110.00   \n",
       "\n",
       "       T         RH        AH  \n",
       "0  13.60  48.875001  0.757754  \n",
       "1  13.30  47.700000  0.725487  \n",
       "2  11.90  53.975000  0.750239  \n",
       "3  11.00  60.000000  0.786713  \n",
       "4  11.15  59.575001  0.788794  "
      ]
     },
     "execution_count": 22,
     "metadata": {},
     "output_type": "execute_result"
    }
   ],
   "source": [
    "df.head()"
   ]
  },
  {
   "cell_type": "code",
   "execution_count": 27,
   "metadata": {
    "collapsed": false
   },
   "outputs": [
    {
     "data": {
      "text/plain": [
       "0    1\n",
       "1    1\n",
       "2    1\n",
       "Name: Date_Time, dtype: int64"
      ]
     },
     "execution_count": 27,
     "metadata": {},
     "output_type": "execute_result"
    }
   ],
   "source": [
    "# interchange to day, month, quarter, year\n",
    "df1 = df\n",
    "df1['Date_Time'].dt.quarter[:3]"
   ]
  },
  {
   "cell_type": "code",
   "execution_count": 29,
   "metadata": {
    "collapsed": false
   },
   "outputs": [
    {
     "data": {
      "text/plain": [
       "50    2004\n",
       "51    2004\n",
       "52    2004\n",
       "Name: Date_Time, dtype: int64"
      ]
     },
     "execution_count": 29,
     "metadata": {},
     "output_type": "execute_result"
    }
   ],
   "source": [
    "df1['Date_Time'].dt.year[50:53]"
   ]
  },
  {
   "cell_type": "code",
   "execution_count": 30,
   "metadata": {
    "collapsed": false
   },
   "outputs": [
    {
     "data": {
      "text/plain": [
       "PeriodIndex(['2004Q1', '2004Q1', '2004Q1', '2004Q1', '2004Q1', '2004Q1',\n",
       "             '2004Q1', '2004Q1', '2004Q1', '2004Q1',\n",
       "             ...\n",
       "             '2005Q2', '2005Q2', '2005Q2', '2005Q2', '2005Q2', '2005Q2',\n",
       "             '2005Q2', '2005Q2', '2005Q2', '2005Q2'],\n",
       "            dtype='int64', length=9357, freq='Q-DEC')"
      ]
     },
     "execution_count": 30,
     "metadata": {},
     "output_type": "execute_result"
    }
   ],
   "source": [
    "index= pd.PeriodIndex(year=df1['Date_Time'].dt.year,quarter = df1['Date_Time'].dt.quarter)\n",
    "index"
   ]
  },
  {
   "cell_type": "code",
   "execution_count": 35,
   "metadata": {
    "collapsed": false
   },
   "outputs": [
    {
     "name": "stdout",
     "output_type": "stream",
     "text": [
      "<class 'pandas.core.frame.DataFrame'>\n",
      "PeriodIndex: 9357 entries, 2004Q1 to 2005Q2\n",
      "Freq: Q-DEC\n",
      "Data columns (total 14 columns):\n",
      "Date_Time        9357 non-null datetime64[ns]\n",
      "CO(GT)           9357 non-null float64\n",
      "PT08.S1(CO)      9357 non-null float64\n",
      "NMHC(GT)         9357 non-null int64\n",
      "C6H6(GT)         9357 non-null float64\n",
      "PT08.S2(NMHC)    9357 non-null float64\n",
      "NOx(GT)          9357 non-null float64\n",
      "PT08.S3(NOx)     9357 non-null float64\n",
      "NO2(GT)          9357 non-null float64\n",
      "PT08.S4(NO2)     9357 non-null float64\n",
      "PT08.S5(O3)      9357 non-null float64\n",
      "T                9357 non-null float64\n",
      "RH               9357 non-null float64\n",
      "AH               9357 non-null float64\n",
      "dtypes: datetime64[ns](1), float64(12), int64(1)\n",
      "memory usage: 1.1 MB\n"
     ]
    }
   ],
   "source": [
    "df1.index= index\n",
    "df1.info()"
   ]
  },
  {
   "cell_type": "code",
   "execution_count": 37,
   "metadata": {
    "collapsed": false
   },
   "outputs": [
    {
     "data": {
      "text/html": [
       "<div>\n",
       "<table border=\"1\" class=\"dataframe\">\n",
       "  <thead>\n",
       "    <tr style=\"text-align: right;\">\n",
       "      <th></th>\n",
       "      <th>CO(GT)</th>\n",
       "      <th>PT08.S1(CO)</th>\n",
       "      <th>NMHC(GT)</th>\n",
       "      <th>C6H6(GT)</th>\n",
       "      <th>PT08.S2(NMHC)</th>\n",
       "      <th>NOx(GT)</th>\n",
       "      <th>PT08.S3(NOx)</th>\n",
       "      <th>NO2(GT)</th>\n",
       "      <th>PT08.S4(NO2)</th>\n",
       "      <th>PT08.S5(O3)</th>\n",
       "      <th>T</th>\n",
       "      <th>RH</th>\n",
       "      <th>AH</th>\n",
       "    </tr>\n",
       "  </thead>\n",
       "  <tbody>\n",
       "    <tr>\n",
       "      <th>2004Q1</th>\n",
       "      <td>2.6</td>\n",
       "      <td>1360.00</td>\n",
       "      <td>150</td>\n",
       "      <td>11.881723</td>\n",
       "      <td>1045.50</td>\n",
       "      <td>166.0</td>\n",
       "      <td>1056.25</td>\n",
       "      <td>113.0</td>\n",
       "      <td>1692.00</td>\n",
       "      <td>1267.50</td>\n",
       "      <td>13.60</td>\n",
       "      <td>48.875001</td>\n",
       "      <td>0.757754</td>\n",
       "    </tr>\n",
       "    <tr>\n",
       "      <th>2004Q1</th>\n",
       "      <td>2.0</td>\n",
       "      <td>1292.25</td>\n",
       "      <td>112</td>\n",
       "      <td>9.397165</td>\n",
       "      <td>954.75</td>\n",
       "      <td>103.0</td>\n",
       "      <td>1173.75</td>\n",
       "      <td>92.0</td>\n",
       "      <td>1558.75</td>\n",
       "      <td>972.25</td>\n",
       "      <td>13.30</td>\n",
       "      <td>47.700000</td>\n",
       "      <td>0.725487</td>\n",
       "    </tr>\n",
       "    <tr>\n",
       "      <th>2004Q1</th>\n",
       "      <td>2.2</td>\n",
       "      <td>1402.00</td>\n",
       "      <td>88</td>\n",
       "      <td>8.997817</td>\n",
       "      <td>939.25</td>\n",
       "      <td>131.0</td>\n",
       "      <td>1140.00</td>\n",
       "      <td>114.0</td>\n",
       "      <td>1554.50</td>\n",
       "      <td>1074.00</td>\n",
       "      <td>11.90</td>\n",
       "      <td>53.975000</td>\n",
       "      <td>0.750239</td>\n",
       "    </tr>\n",
       "    <tr>\n",
       "      <th>2004Q1</th>\n",
       "      <td>2.2</td>\n",
       "      <td>1375.50</td>\n",
       "      <td>80</td>\n",
       "      <td>9.228796</td>\n",
       "      <td>948.25</td>\n",
       "      <td>172.0</td>\n",
       "      <td>1092.00</td>\n",
       "      <td>122.0</td>\n",
       "      <td>1583.75</td>\n",
       "      <td>1203.25</td>\n",
       "      <td>11.00</td>\n",
       "      <td>60.000000</td>\n",
       "      <td>0.786713</td>\n",
       "    </tr>\n",
       "    <tr>\n",
       "      <th>2004Q1</th>\n",
       "      <td>1.6</td>\n",
       "      <td>1272.25</td>\n",
       "      <td>51</td>\n",
       "      <td>6.518224</td>\n",
       "      <td>835.50</td>\n",
       "      <td>131.0</td>\n",
       "      <td>1205.00</td>\n",
       "      <td>116.0</td>\n",
       "      <td>1490.00</td>\n",
       "      <td>1110.00</td>\n",
       "      <td>11.15</td>\n",
       "      <td>59.575001</td>\n",
       "      <td>0.788794</td>\n",
       "    </tr>\n",
       "  </tbody>\n",
       "</table>\n",
       "</div>"
      ],
      "text/plain": [
       "        CO(GT)  PT08.S1(CO)  NMHC(GT)   C6H6(GT)  PT08.S2(NMHC)  NOx(GT)  \\\n",
       "2004Q1     2.6      1360.00       150  11.881723        1045.50    166.0   \n",
       "2004Q1     2.0      1292.25       112   9.397165         954.75    103.0   \n",
       "2004Q1     2.2      1402.00        88   8.997817         939.25    131.0   \n",
       "2004Q1     2.2      1375.50        80   9.228796         948.25    172.0   \n",
       "2004Q1     1.6      1272.25        51   6.518224         835.50    131.0   \n",
       "\n",
       "        PT08.S3(NOx)  NO2(GT)  PT08.S4(NO2)  PT08.S5(O3)      T         RH  \\\n",
       "2004Q1       1056.25    113.0       1692.00      1267.50  13.60  48.875001   \n",
       "2004Q1       1173.75     92.0       1558.75       972.25  13.30  47.700000   \n",
       "2004Q1       1140.00    114.0       1554.50      1074.00  11.90  53.975000   \n",
       "2004Q1       1092.00    122.0       1583.75      1203.25  11.00  60.000000   \n",
       "2004Q1       1205.00    116.0       1490.00      1110.00  11.15  59.575001   \n",
       "\n",
       "              AH  \n",
       "2004Q1  0.757754  \n",
       "2004Q1  0.725487  \n",
       "2004Q1  0.750239  \n",
       "2004Q1  0.786713  \n",
       "2004Q1  0.788794  "
      ]
     },
     "execution_count": 37,
     "metadata": {},
     "output_type": "execute_result"
    }
   ],
   "source": [
    "df1 = df1.drop(['Date_Time'], axis=1)  #axis = 1 represents column\n",
    "df1.head()"
   ]
  },
  {
   "cell_type": "code",
   "execution_count": 43,
   "metadata": {
    "collapsed": true
   },
   "outputs": [],
   "source": [
    "from matplotlib import pyplot as plt\n",
    "%matplotlib inline"
   ]
  },
  {
   "cell_type": "code",
   "execution_count": 61,
   "metadata": {
    "collapsed": false
   },
   "outputs": [
    {
     "data": {
      "text/html": [
       "<div>\n",
       "<table border=\"1\" class=\"dataframe\">\n",
       "  <thead>\n",
       "    <tr style=\"text-align: right;\">\n",
       "      <th></th>\n",
       "      <th>CO(GT)</th>\n",
       "      <th>PT08.S1(CO)</th>\n",
       "      <th>NMHC(GT)</th>\n",
       "      <th>C6H6(GT)</th>\n",
       "      <th>PT08.S2(NMHC)</th>\n",
       "      <th>NOx(GT)</th>\n",
       "      <th>PT08.S3(NOx)</th>\n",
       "      <th>NO2(GT)</th>\n",
       "      <th>PT08.S4(NO2)</th>\n",
       "      <th>PT08.S5(O3)</th>\n",
       "      <th>T</th>\n",
       "      <th>RH</th>\n",
       "      <th>AH</th>\n",
       "    </tr>\n",
       "  </thead>\n",
       "  <tbody>\n",
       "    <tr>\n",
       "      <th>2004Q1</th>\n",
       "      <td>-4.847647</td>\n",
       "      <td>1222.685784</td>\n",
       "      <td>96.554902</td>\n",
       "      <td>9.935104</td>\n",
       "      <td>935.540686</td>\n",
       "      <td>128.676471</td>\n",
       "      <td>1029.058987</td>\n",
       "      <td>89.529412</td>\n",
       "      <td>1571.943301</td>\n",
       "      <td>1027.379902</td>\n",
       "      <td>14.390114</td>\n",
       "      <td>50.169559</td>\n",
       "      <td>0.789412</td>\n",
       "    </tr>\n",
       "    <tr>\n",
       "      <th>2004Q2</th>\n",
       "      <td>-39.875229</td>\n",
       "      <td>1040.264232</td>\n",
       "      <td>-93.978480</td>\n",
       "      <td>2.786615</td>\n",
       "      <td>913.505800</td>\n",
       "      <td>59.629579</td>\n",
       "      <td>887.419643</td>\n",
       "      <td>33.586996</td>\n",
       "      <td>1576.771100</td>\n",
       "      <td>914.285027</td>\n",
       "      <td>13.141579</td>\n",
       "      <td>35.851858</td>\n",
       "      <td>-6.224013</td>\n",
       "    </tr>\n",
       "    <tr>\n",
       "      <th>2004Q3</th>\n",
       "      <td>-54.615082</td>\n",
       "      <td>998.513776</td>\n",
       "      <td>-200.000000</td>\n",
       "      <td>3.281721</td>\n",
       "      <td>900.407005</td>\n",
       "      <td>64.723279</td>\n",
       "      <td>785.317255</td>\n",
       "      <td>21.160326</td>\n",
       "      <td>1536.256265</td>\n",
       "      <td>902.555895</td>\n",
       "      <td>20.737172</td>\n",
       "      <td>32.477027</td>\n",
       "      <td>-4.822821</td>\n",
       "    </tr>\n",
       "    <tr>\n",
       "      <th>2004Q4</th>\n",
       "      <td>-42.819293</td>\n",
       "      <td>1087.375377</td>\n",
       "      <td>-200.000000</td>\n",
       "      <td>4.150911</td>\n",
       "      <td>953.638700</td>\n",
       "      <td>254.155797</td>\n",
       "      <td>747.234073</td>\n",
       "      <td>38.293931</td>\n",
       "      <td>1356.832880</td>\n",
       "      <td>1091.741093</td>\n",
       "      <td>7.305933</td>\n",
       "      <td>50.212262</td>\n",
       "      <td>-6.303038</td>\n",
       "    </tr>\n",
       "    <tr>\n",
       "      <th>2005Q1</th>\n",
       "      <td>-6.984907</td>\n",
       "      <td>1032.482716</td>\n",
       "      <td>-200.000000</td>\n",
       "      <td>-4.852200</td>\n",
       "      <td>806.887346</td>\n",
       "      <td>306.674306</td>\n",
       "      <td>700.259838</td>\n",
       "      <td>131.582778</td>\n",
       "      <td>1065.159838</td>\n",
       "      <td>991.752585</td>\n",
       "      <td>-3.670914</td>\n",
       "      <td>36.989240</td>\n",
       "      <td>-12.165275</td>\n",
       "    </tr>\n",
       "  </tbody>\n",
       "</table>\n",
       "</div>"
      ],
      "text/plain": [
       "           CO(GT)  PT08.S1(CO)    NMHC(GT)  C6H6(GT)  PT08.S2(NMHC)  \\\n",
       "2004Q1  -4.847647  1222.685784   96.554902  9.935104     935.540686   \n",
       "2004Q2 -39.875229  1040.264232  -93.978480  2.786615     913.505800   \n",
       "2004Q3 -54.615082   998.513776 -200.000000  3.281721     900.407005   \n",
       "2004Q4 -42.819293  1087.375377 -200.000000  4.150911     953.638700   \n",
       "2005Q1  -6.984907  1032.482716 -200.000000 -4.852200     806.887346   \n",
       "\n",
       "           NOx(GT)  PT08.S3(NOx)     NO2(GT)  PT08.S4(NO2)  PT08.S5(O3)  \\\n",
       "2004Q1  128.676471   1029.058987   89.529412   1571.943301  1027.379902   \n",
       "2004Q2   59.629579    887.419643   33.586996   1576.771100   914.285027   \n",
       "2004Q3   64.723279    785.317255   21.160326   1536.256265   902.555895   \n",
       "2004Q4  254.155797    747.234073   38.293931   1356.832880  1091.741093   \n",
       "2005Q1  306.674306    700.259838  131.582778   1065.159838   991.752585   \n",
       "\n",
       "                T         RH         AH  \n",
       "2004Q1  14.390114  50.169559   0.789412  \n",
       "2004Q2  13.141579  35.851858  -6.224013  \n",
       "2004Q3  20.737172  32.477027  -4.822821  \n",
       "2004Q4   7.305933  50.212262  -6.303038  \n",
       "2005Q1  -3.670914  36.989240 -12.165275  "
      ]
     },
     "execution_count": 61,
     "metadata": {},
     "output_type": "execute_result"
    }
   ],
   "source": [
    "df2 = df1.groupby(df1.index).mean()\n",
    "df2.head()"
   ]
  },
  {
   "cell_type": "code",
   "execution_count": 62,
   "metadata": {
    "collapsed": false
   },
   "outputs": [
    {
     "data": {
      "text/plain": [
       "<matplotlib.axes._subplots.AxesSubplot at 0x887d278>"
      ]
     },
     "execution_count": 62,
     "metadata": {},
     "output_type": "execute_result"
    },
    {
     "data": {
      "image/png": "[encoded data removed]",
      "text/plain": [
       "<matplotlib.figure.Figure at 0xa882208>"
      ]
     },
     "metadata": {},
     "output_type": "display_data"
    }
   ],
   "source": [
    "df2.RH.plot()"
   ]
  },
  {
   "cell_type": "code",
   "execution_count": 72,
   "metadata": {
    "collapsed": false
   },
   "outputs": [
    {
     "data": {
      "text/plain": [
       "<matplotlib.legend.Legend at 0xed5f630>"
      ]
     },
     "execution_count": 72,
     "metadata": {},
     "output_type": "execute_result"
    },
    {
     "data": {
      "image/png": "[encoded data removed]",
      "text/plain": [
       "<matplotlib.figure.Figure at 0xee2cef0>"
      ]
     },
     "metadata": {},
     "output_type": "display_data"
    }
   ],
   "source": [
    "# show only 2004 data\n",
    "df2.RH['2004'].plot(style='g')\n",
    "df2['NO2(GT)']['2004'].plot(style='r')\n",
    "plt.legend(['RH', 'NO2(GT)'])"
   ]
  },
  {
   "cell_type": "markdown",
   "metadata": {},
   "source": [
    "df.index"
   ]
  },
  {
   "cell_type": "code",
   "execution_count": 81,
   "metadata": {
    "collapsed": false
   },
   "outputs": [
    {
     "data": {
      "text/html": [
       "<div>\n",
       "<table border=\"1\" class=\"dataframe\">\n",
       "  <thead>\n",
       "    <tr style=\"text-align: right;\">\n",
       "      <th></th>\n",
       "      <th>Date</th>\n",
       "      <th>CO(GT)</th>\n",
       "      <th>PT08.S1(CO)</th>\n",
       "      <th>NMHC(GT)</th>\n",
       "      <th>C6H6(GT)</th>\n",
       "      <th>PT08.S2(NMHC)</th>\n",
       "      <th>NOx(GT)</th>\n",
       "      <th>PT08.S3(NOx)</th>\n",
       "      <th>NO2(GT)</th>\n",
       "      <th>PT08.S4(NO2)</th>\n",
       "      <th>PT08.S5(O3)</th>\n",
       "      <th>T</th>\n",
       "      <th>RH</th>\n",
       "      <th>AH</th>\n",
       "    </tr>\n",
       "  </thead>\n",
       "  <tbody>\n",
       "    <tr>\n",
       "      <th>0</th>\n",
       "      <td>2004-03-10</td>\n",
       "      <td>2.6</td>\n",
       "      <td>1360.00</td>\n",
       "      <td>150</td>\n",
       "      <td>11.881723</td>\n",
       "      <td>1045.50</td>\n",
       "      <td>166.0</td>\n",
       "      <td>1056.25</td>\n",
       "      <td>113.0</td>\n",
       "      <td>1692.00</td>\n",
       "      <td>1267.50</td>\n",
       "      <td>13.60</td>\n",
       "      <td>48.875001</td>\n",
       "      <td>0.757754</td>\n",
       "    </tr>\n",
       "    <tr>\n",
       "      <th>1</th>\n",
       "      <td>2004-03-10</td>\n",
       "      <td>2.0</td>\n",
       "      <td>1292.25</td>\n",
       "      <td>112</td>\n",
       "      <td>9.397165</td>\n",
       "      <td>954.75</td>\n",
       "      <td>103.0</td>\n",
       "      <td>1173.75</td>\n",
       "      <td>92.0</td>\n",
       "      <td>1558.75</td>\n",
       "      <td>972.25</td>\n",
       "      <td>13.30</td>\n",
       "      <td>47.700000</td>\n",
       "      <td>0.725487</td>\n",
       "    </tr>\n",
       "    <tr>\n",
       "      <th>2</th>\n",
       "      <td>2004-03-10</td>\n",
       "      <td>2.2</td>\n",
       "      <td>1402.00</td>\n",
       "      <td>88</td>\n",
       "      <td>8.997817</td>\n",
       "      <td>939.25</td>\n",
       "      <td>131.0</td>\n",
       "      <td>1140.00</td>\n",
       "      <td>114.0</td>\n",
       "      <td>1554.50</td>\n",
       "      <td>1074.00</td>\n",
       "      <td>11.90</td>\n",
       "      <td>53.975000</td>\n",
       "      <td>0.750239</td>\n",
       "    </tr>\n",
       "    <tr>\n",
       "      <th>3</th>\n",
       "      <td>2004-03-10</td>\n",
       "      <td>2.2</td>\n",
       "      <td>1375.50</td>\n",
       "      <td>80</td>\n",
       "      <td>9.228796</td>\n",
       "      <td>948.25</td>\n",
       "      <td>172.0</td>\n",
       "      <td>1092.00</td>\n",
       "      <td>122.0</td>\n",
       "      <td>1583.75</td>\n",
       "      <td>1203.25</td>\n",
       "      <td>11.00</td>\n",
       "      <td>60.000000</td>\n",
       "      <td>0.786713</td>\n",
       "    </tr>\n",
       "    <tr>\n",
       "      <th>4</th>\n",
       "      <td>2004-03-10</td>\n",
       "      <td>1.6</td>\n",
       "      <td>1272.25</td>\n",
       "      <td>51</td>\n",
       "      <td>6.518224</td>\n",
       "      <td>835.50</td>\n",
       "      <td>131.0</td>\n",
       "      <td>1205.00</td>\n",
       "      <td>116.0</td>\n",
       "      <td>1490.00</td>\n",
       "      <td>1110.00</td>\n",
       "      <td>11.15</td>\n",
       "      <td>59.575001</td>\n",
       "      <td>0.788794</td>\n",
       "    </tr>\n",
       "  </tbody>\n",
       "</table>\n",
       "</div>"
      ],
      "text/plain": [
       "         Date  CO(GT)  PT08.S1(CO)  NMHC(GT)   C6H6(GT)  PT08.S2(NMHC)  \\\n",
       "0  2004-03-10     2.6      1360.00       150  11.881723        1045.50   \n",
       "1  2004-03-10     2.0      1292.25       112   9.397165         954.75   \n",
       "2  2004-03-10     2.2      1402.00        88   8.997817         939.25   \n",
       "3  2004-03-10     2.2      1375.50        80   9.228796         948.25   \n",
       "4  2004-03-10     1.6      1272.25        51   6.518224         835.50   \n",
       "\n",
       "   NOx(GT)  PT08.S3(NOx)  NO2(GT)  PT08.S4(NO2)  PT08.S5(O3)      T  \\\n",
       "0    166.0       1056.25    113.0       1692.00      1267.50  13.60   \n",
       "1    103.0       1173.75     92.0       1558.75       972.25  13.30   \n",
       "2    131.0       1140.00    114.0       1554.50      1074.00  11.90   \n",
       "3    172.0       1092.00    122.0       1583.75      1203.25  11.00   \n",
       "4    131.0       1205.00    116.0       1490.00      1110.00  11.15   \n",
       "\n",
       "          RH        AH  \n",
       "0  48.875001  0.757754  \n",
       "1  47.700000  0.725487  \n",
       "2  53.975000  0.750239  \n",
       "3  60.000000  0.786713  \n",
       "4  59.575001  0.788794  "
      ]
     },
     "execution_count": 81,
     "metadata": {},
     "output_type": "execute_result"
    }
   ],
   "source": [
    "df = pd.read_csv('AirQualityUCI.csv')\n",
    "df = df.drop(['Time', 'Unnamed: 0'], axis=1)\n",
    "df.head()"
   ]
  },
  {
   "cell_type": "code",
   "execution_count": 86,
   "metadata": {
    "collapsed": false
   },
   "outputs": [
    {
     "data": {
      "text/html": [
       "<div>\n",
       "<table border=\"1\" class=\"dataframe\">\n",
       "  <thead>\n",
       "    <tr style=\"text-align: right;\">\n",
       "      <th></th>\n",
       "      <th>CO(GT)</th>\n",
       "      <th>PT08.S1(CO)</th>\n",
       "      <th>NMHC(GT)</th>\n",
       "      <th>C6H6(GT)</th>\n",
       "      <th>PT08.S2(NMHC)</th>\n",
       "      <th>NOx(GT)</th>\n",
       "      <th>PT08.S3(NOx)</th>\n",
       "      <th>NO2(GT)</th>\n",
       "      <th>PT08.S4(NO2)</th>\n",
       "      <th>PT08.S5(O3)</th>\n",
       "      <th>T</th>\n",
       "      <th>RH</th>\n",
       "      <th>AH</th>\n",
       "    </tr>\n",
       "    <tr>\n",
       "      <th>Date</th>\n",
       "      <th></th>\n",
       "      <th></th>\n",
       "      <th></th>\n",
       "      <th></th>\n",
       "      <th></th>\n",
       "      <th></th>\n",
       "      <th></th>\n",
       "      <th></th>\n",
       "      <th></th>\n",
       "      <th></th>\n",
       "      <th></th>\n",
       "      <th></th>\n",
       "      <th></th>\n",
       "    </tr>\n",
       "  </thead>\n",
       "  <tbody>\n",
       "    <tr>\n",
       "      <th>2004-03-10</th>\n",
       "      <td>1.966667</td>\n",
       "      <td>1316.500000</td>\n",
       "      <td>86.500000</td>\n",
       "      <td>8.460790</td>\n",
       "      <td>912.250000</td>\n",
       "      <td>132.000000</td>\n",
       "      <td>1167.250000</td>\n",
       "      <td>108.833333</td>\n",
       "      <td>1545.333333</td>\n",
       "      <td>1096.041667</td>\n",
       "      <td>12.020833</td>\n",
       "      <td>54.883334</td>\n",
       "      <td>0.765626</td>\n",
       "    </tr>\n",
       "    <tr>\n",
       "      <th>2004-03-11</th>\n",
       "      <td>-6.187500</td>\n",
       "      <td>1244.062500</td>\n",
       "      <td>104.500000</td>\n",
       "      <td>7.989058</td>\n",
       "      <td>851.802083</td>\n",
       "      <td>130.041667</td>\n",
       "      <td>1277.187500</td>\n",
       "      <td>87.375000</td>\n",
       "      <td>1522.697917</td>\n",
       "      <td>885.031250</td>\n",
       "      <td>9.833333</td>\n",
       "      <td>64.069791</td>\n",
       "      <td>0.775768</td>\n",
       "    </tr>\n",
       "    <tr>\n",
       "      <th>2004-03-12</th>\n",
       "      <td>-14.095833</td>\n",
       "      <td>1281.562500</td>\n",
       "      <td>141.500000</td>\n",
       "      <td>12.129509</td>\n",
       "      <td>1008.229167</td>\n",
       "      <td>142.583333</td>\n",
       "      <td>1101.718750</td>\n",
       "      <td>89.916667</td>\n",
       "      <td>1627.218750</td>\n",
       "      <td>1084.218750</td>\n",
       "      <td>11.292708</td>\n",
       "      <td>51.107292</td>\n",
       "      <td>0.663102</td>\n",
       "    </tr>\n",
       "    <tr>\n",
       "      <th>2004-03-13</th>\n",
       "      <td>-5.750000</td>\n",
       "      <td>1330.555556</td>\n",
       "      <td>139.250000</td>\n",
       "      <td>10.922887</td>\n",
       "      <td>992.822917</td>\n",
       "      <td>168.416667</td>\n",
       "      <td>993.159722</td>\n",
       "      <td>105.583333</td>\n",
       "      <td>1595.621528</td>\n",
       "      <td>1245.781250</td>\n",
       "      <td>12.866319</td>\n",
       "      <td>51.530903</td>\n",
       "      <td>0.732294</td>\n",
       "    </tr>\n",
       "    <tr>\n",
       "      <th>2004-03-14</th>\n",
       "      <td>-5.966667</td>\n",
       "      <td>1360.927083</td>\n",
       "      <td>116.958333</td>\n",
       "      <td>9.631442</td>\n",
       "      <td>943.854167</td>\n",
       "      <td>132.166667</td>\n",
       "      <td>1001.104167</td>\n",
       "      <td>97.458333</td>\n",
       "      <td>1602.187500</td>\n",
       "      <td>1234.177083</td>\n",
       "      <td>16.016667</td>\n",
       "      <td>48.843750</td>\n",
       "      <td>0.849674</td>\n",
       "    </tr>\n",
       "  </tbody>\n",
       "</table>\n",
       "</div>"
      ],
      "text/plain": [
       "               CO(GT)  PT08.S1(CO)    NMHC(GT)   C6H6(GT)  PT08.S2(NMHC)  \\\n",
       "Date                                                                       \n",
       "2004-03-10   1.966667  1316.500000   86.500000   8.460790     912.250000   \n",
       "2004-03-11  -6.187500  1244.062500  104.500000   7.989058     851.802083   \n",
       "2004-03-12 -14.095833  1281.562500  141.500000  12.129509    1008.229167   \n",
       "2004-03-13  -5.750000  1330.555556  139.250000  10.922887     992.822917   \n",
       "2004-03-14  -5.966667  1360.927083  116.958333   9.631442     943.854167   \n",
       "\n",
       "               NOx(GT)  PT08.S3(NOx)     NO2(GT)  PT08.S4(NO2)  PT08.S5(O3)  \\\n",
       "Date                                                                          \n",
       "2004-03-10  132.000000   1167.250000  108.833333   1545.333333  1096.041667   \n",
       "2004-03-11  130.041667   1277.187500   87.375000   1522.697917   885.031250   \n",
       "2004-03-12  142.583333   1101.718750   89.916667   1627.218750  1084.218750   \n",
       "2004-03-13  168.416667    993.159722  105.583333   1595.621528  1245.781250   \n",
       "2004-03-14  132.166667   1001.104167   97.458333   1602.187500  1234.177083   \n",
       "\n",
       "                    T         RH        AH  \n",
       "Date                                        \n",
       "2004-03-10  12.020833  54.883334  0.765626  \n",
       "2004-03-11   9.833333  64.069791  0.775768  \n",
       "2004-03-12  11.292708  51.107292  0.663102  \n",
       "2004-03-13  12.866319  51.530903  0.732294  \n",
       "2004-03-14  16.016667  48.843750  0.849674  "
      ]
     },
     "execution_count": 86,
     "metadata": {},
     "output_type": "execute_result"
    }
   ],
   "source": [
    "df1= df.groupby('Date').mean()\n",
    "df1.head()"
   ]
  },
  {
   "cell_type": "code",
   "execution_count": 115,
   "metadata": {
    "collapsed": false
   },
   "outputs": [
    {
     "data": {
      "text/plain": [
       "Date\n",
       "2004-03-10    54.883334\n",
       "2004-03-11    64.069791\n",
       "2004-03-12    51.107292\n",
       "2004-03-13    51.530903\n",
       "2004-03-14    48.843750\n",
       "Name: RH, dtype: float64"
      ]
     },
     "execution_count": 115,
     "metadata": {},
     "output_type": "execute_result"
    }
   ],
   "source": [
    "# get RH\n",
    "rh = df1['RH']\n",
    "rh.head()"
   ]
  },
  {
   "cell_type": "code",
   "execution_count": 116,
   "metadata": {
    "collapsed": false
   },
   "outputs": [
    {
     "data": {
      "text/plain": [
       "Date\n",
       "2005-03-31    50.092708\n",
       "2005-04-01    35.959722\n",
       "2005-04-02    32.213542\n",
       "2005-04-03    33.686458\n",
       "2005-04-04    42.791667\n",
       "Name: RH, dtype: float64"
      ]
     },
     "execution_count": 116,
     "metadata": {},
     "output_type": "execute_result"
    }
   ],
   "source": [
    "# sort the index\n",
    "rh = rh.sort_index(ascending=True)  # very import\n",
    "rh.tail()"
   ]
  },
  {
   "cell_type": "code",
   "execution_count": 117,
   "metadata": {
    "collapsed": false
   },
   "outputs": [
    {
     "data": {
      "image/png": "[encoded data removed]",
      "text/plain": [
       "<matplotlib.figure.Figure at 0x10938a90>"
      ]
     },
     "metadata": {},
     "output_type": "display_data"
    }
   ],
   "source": [
    "# plot the data and show the graph\n",
    "rh.plot(label='RH')\n",
    "plt.legend()\n",
    "plt.show()"
   ]
  },
  {
   "cell_type": "code",
   "execution_count": 118,
   "metadata": {
    "collapsed": false
   },
   "outputs": [
    {
     "data": {
      "image/png": "[encoded data removed]",
      "text/plain": [
       "<matplotlib.figure.Figure at 0x108bbb00>"
      ]
     },
     "metadata": {},
     "output_type": "display_data"
    }
   ],
   "source": [
    "# moving average analysis\n",
    "mavg = rh.rolling(window=30).mean()\n",
    "\n",
    "mavg.plot(label='rh-mavg')\n",
    "plt.legend()\n",
    "plt.show()"
   ]
  },
  {
   "cell_type": "code",
   "execution_count": 128,
   "metadata": {
    "collapsed": false
   },
   "outputs": [
    {
     "data": {
      "image/png": "[encoded data removed]",
      "text/plain": [
       "<matplotlib.figure.Figure at 0xf526b70>"
      ]
     },
     "metadata": {},
     "output_type": "display_data"
    }
   ],
   "source": [
    "rh100 = rh.tail(100)\n",
    "mavg = rh100.rolling(window=5).mean()\n",
    "rh100.plot(label='rh', style='r')\n",
    "mavg.plot(label='rh-mavg', style='b')\n",
    "\n",
    "plt.show()"
   ]
  },
  {
   "cell_type": "code",
   "execution_count": 119,
   "metadata": {
    "collapsed": false
   },
   "outputs": [
    {
     "data": {
      "text/plain": [
       "(391, 13)"
      ]
     },
     "execution_count": 119,
     "metadata": {},
     "output_type": "execute_result"
    }
   ],
   "source": [
    "df1.shape"
   ]
  },
  {
   "cell_type": "code",
   "execution_count": null,
   "metadata": {
    "collapsed": true
   },
   "outputs": [],
   "source": []
  }
 ],
 "metadata": {
  "kernelspec": {
   "display_name": "Python 2",
   "language": "python",
   "name": "python2"
  },
  "language_info": {
   "codemirror_mode": {
    "name": "ipython",
    "version": 2
   },
   "file_extension": ".py",
   "mimetype": "text/x-python",
   "name": "python",
   "nbconvert_exporter": "python",
   "pygments_lexer": "ipython2",
   "version": "2.7.12"
  }
 },
 "nbformat": 4,
 "nbformat_minor": 0
}
