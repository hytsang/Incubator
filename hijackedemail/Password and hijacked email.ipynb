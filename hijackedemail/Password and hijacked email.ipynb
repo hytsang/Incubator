{
 "cells": [
  {
   "cell_type": "markdown",
   "metadata": {},
   "source": [
    "## [Password and hijacked email dataset for you to test your data science skills](http://www.datasciencecentral.com/forum/topics/password-dataset-for-you-to-test-your-data-science-skills)"
   ]
  },
  {
   "cell_type": "markdown",
   "metadata": {},
   "source": [
    "### Anyway, the reason for sharing the password data set with you is for you to test your data science skills: try to answer the following questions:\n",
    "\n",
    "- What are the most common patterns found in passwords?\n",
    "- Based on these patterns, how to build robust yet easy-to-remember passwords?\n",
    "- Does this password data set look OK, or do you think it is somewhat inaccurate or not representative of the password universe? If not, can we still draw valid conclusions from this data set, and how?\n",
    "\n",
    "Data is available [here](http://www.dazzlepod.com/site_media/txt/passwords.txt)"
   ]
  },
  {
   "cell_type": "code",
   "execution_count": 2,
   "metadata": {
    "collapsed": false
   },
   "outputs": [],
   "source": [
    "import pandas as pd\n",
    "import numpy as np\n",
    "from pandas import Series, DataFrame\n",
    "import matplotlib.pyplot as plt\n",
    "import seaborn as sns\n",
    "%matplotlib inline"
   ]
  },
  {
   "cell_type": "markdown",
   "metadata": {},
   "source": [
    "## Load Data"
   ]
  },
  {
   "cell_type": "code",
   "execution_count": 3,
   "metadata": {
    "collapsed": false
   },
   "outputs": [
    {
     "name": "stdout",
     "output_type": "stream",
     "text": [
      "Server: nginx\r\n",
      "Date: Mon, 21 Nov 2016 20:14:54 GMT\r\n",
      "Content-Type: text/plain; charset=utf-8\r\n",
      "Content-Length: 20163399\r\n",
      "Last-Modified: Sun, 27 Mar 2016 05:04:06 GMT\r\n",
      "Connection: close\r\n",
      "Vary: Accept-Encoding\r\n",
      "ETag: \"56f769c6-133ab47\"\r\n",
      "Expires: Mon, 28 Nov 2016 20:14:54 GMT\r\n",
      "Cache-Control: max-age=604800\r\n",
      "Accept-Ranges: bytes\r\n",
      "\n"
     ]
    }
   ],
   "source": [
    "import urllib2\n",
    "\n",
    "url= 'http://www.dazzlepod.com/site_media/txt/passwords.txt'\n",
    "response = urllib2.urlopen(url)\n",
    "print response.info()"
   ]
  },
  {
   "cell_type": "code",
   "execution_count": 4,
   "metadata": {
    "collapsed": true
   },
   "outputs": [],
   "source": [
    "# save into file\n",
    "rawfile = open('passwords.txt', 'r+')\n",
    "rawfile.truncate()\n",
    "for line in response.read():\n",
    "    rawfile.write(line)\n",
    "rawfile.close()   "
   ]
  },
  {
   "cell_type": "code",
   "execution_count": 5,
   "metadata": {
    "collapsed": false
   },
   "outputs": [
    {
     "name": "stdout",
     "output_type": "stream",
     "text": [
      "#\n",
      "\n",
      "# This is a list of 2,151,220 unique ASCII passwords in sorted order according\n",
      "\n",
      "# to their native byte values using UNIX sort command.\n",
      "\n",
      "#\n",
      "\n",
      "# This list (also known as wordlist, password dictionary or password list)\n",
      "\n",
      "# is useful for password recovery tools such as John the Ripper, oclHashcat\n",
      "\n",
      "# and Aircrack-ng. To use this file, be sure to first remove these comment\n",
      "\n",
      "# lines, i.e. the lines starting with # character.\n",
      "\n",
      "#\n",
      "\n",
      "# If you are looking for a better password dictionary,\n",
      "\n",
      "# see http://dazzlepod.com/uniqpass/\n",
      "\n",
      "#\n",
      "\n",
      "# $DateTime: 2016/03/27 16:04:06 $\n",
      "\n",
      "#\n",
      "\n",
      "# Comments/Questions? Send to disclosure@dazzlepod.com\n",
      "\n",
      "#\n",
      "\n",
      "!\n",
      "\n",
      "! love you\n",
      "\n",
      "!!\n",
      "\n",
      "!!!\n",
      "\n"
     ]
    }
   ],
   "source": [
    "fh = open('passwords.txt', 'r+')\n",
    "\n",
    "for line in fh.readlines()[:20]:\n",
    "    print line    "
   ]
  },
  {
   "cell_type": "code",
   "execution_count": 28,
   "metadata": {
    "collapsed": false
   },
   "outputs": [],
   "source": [
    "# to get help pd.read_csv?\n",
    "passwords = pd.read_csv('passwords.txt',header=None, skiprows=16, names=['password'])  #"
   ]
  },
  {
   "cell_type": "code",
   "execution_count": 29,
   "metadata": {
    "collapsed": false
   },
   "outputs": [
    {
     "data": {
      "text/html": [
       "<div>\n",
       "<table border=\"1\" class=\"dataframe\">\n",
       "  <thead>\n",
       "    <tr style=\"text-align: right;\">\n",
       "      <th></th>\n",
       "      <th>password</th>\n",
       "    </tr>\n",
       "  </thead>\n",
       "  <tbody>\n",
       "    <tr>\n",
       "      <th>0</th>\n",
       "      <td>!</td>\n",
       "    </tr>\n",
       "    <tr>\n",
       "      <th>1</th>\n",
       "      <td>! love you</td>\n",
       "    </tr>\n",
       "    <tr>\n",
       "      <th>2</th>\n",
       "      <td>!!</td>\n",
       "    </tr>\n",
       "    <tr>\n",
       "      <th>3</th>\n",
       "      <td>!!!</td>\n",
       "    </tr>\n",
       "    <tr>\n",
       "      <th>4</th>\n",
       "      <td>!!!!!</td>\n",
       "    </tr>\n",
       "  </tbody>\n",
       "</table>\n",
       "</div>"
      ],
      "text/plain": [
       "     password\n",
       "0           !\n",
       "1  ! love you\n",
       "2          !!\n",
       "3         !!!\n",
       "4       !!!!!"
      ]
     },
     "execution_count": 29,
     "metadata": {},
     "output_type": "execute_result"
    }
   ],
   "source": [
    "passwords.head(5)"
   ]
  },
  {
   "cell_type": "code",
   "execution_count": 30,
   "metadata": {
    "collapsed": false
   },
   "outputs": [
    {
     "data": {
      "text/html": [
       "<div>\n",
       "<table border=\"1\" class=\"dataframe\">\n",
       "  <thead>\n",
       "    <tr style=\"text-align: right;\">\n",
       "      <th></th>\n",
       "      <th>password</th>\n",
       "    </tr>\n",
       "  </thead>\n",
       "  <tbody>\n",
       "    <tr>\n",
       "      <th>2151200</th>\n",
       "      <td>~~sstux</td>\n",
       "    </tr>\n",
       "    <tr>\n",
       "      <th>2151201</th>\n",
       "      <td>~~zhou075278</td>\n",
       "    </tr>\n",
       "    <tr>\n",
       "      <th>2151202</th>\n",
       "      <td>~~~~</td>\n",
       "    </tr>\n",
       "    <tr>\n",
       "      <th>2151203</th>\n",
       "      <td>~~~~~</td>\n",
       "    </tr>\n",
       "    <tr>\n",
       "      <th>2151204</th>\n",
       "      <td>~~~~~~</td>\n",
       "    </tr>\n",
       "  </tbody>\n",
       "</table>\n",
       "</div>"
      ],
      "text/plain": [
       "             password\n",
       "2151200       ~~sstux\n",
       "2151201  ~~zhou075278\n",
       "2151202          ~~~~\n",
       "2151203         ~~~~~\n",
       "2151204        ~~~~~~"
      ]
     },
     "execution_count": 30,
     "metadata": {},
     "output_type": "execute_result"
    }
   ],
   "source": [
    "passwords.tail(5)"
   ]
  },
  {
   "cell_type": "code",
   "execution_count": 31,
   "metadata": {
    "collapsed": false
   },
   "outputs": [
    {
     "data": {
      "text/plain": [
       "(2151205, 1)"
      ]
     },
     "execution_count": 31,
     "metadata": {},
     "output_type": "execute_result"
    }
   ],
   "source": [
    "passwords.shape"
   ]
  },
  {
   "cell_type": "code",
   "execution_count": 32,
   "metadata": {
    "collapsed": false
   },
   "outputs": [
    {
     "data": {
      "text/plain": [
       "(2150218L,)"
      ]
     },
     "execution_count": 32,
     "metadata": {},
     "output_type": "execute_result"
    }
   ],
   "source": [
    "# check how many unique passwords\n",
    "uniq_passwords = passwords.password.unique()\n",
    "uniq_passwords.shape"
   ]
  },
  {
   "cell_type": "markdown",
   "metadata": {},
   "source": [
    "## Data Preprocess"
   ]
  },
  {
   "cell_type": "code",
   "execution_count": 33,
   "metadata": {
    "collapsed": false
   },
   "outputs": [],
   "source": [
    "# define some helper functions\n",
    "\n",
    "import re\n",
    "def hasLetters(x):\n",
    "    return any(re.match('[a-zA-Z]', char) for char in str(x))\n",
    "\n",
    "def hasCapLetters(x):\n",
    "    return any(re.match('[A-Z]', char) for char in str(x))\n",
    "\n",
    "def hasNumbers(x):\n",
    "    return any(char.isdigit() for char in str(x)) \n",
    "\n",
    "def hasSymbols(x):\n",
    "    sym = set('~!@#$%^&*(){}:.[]`;,\"=<>\\\\/_ ?+-|\\'')\n",
    "    return any((c in sym) for c in str(x))"
   ]
  },
  {
   "cell_type": "code",
   "execution_count": 34,
   "metadata": {
    "collapsed": false
   },
   "outputs": [],
   "source": [
    "# add more columns\n",
    "\n",
    "passwords['hasLetters'] = passwords.password.map(lambda x: hasLetters(x))\n",
    "passwords['hasCapLetters'] = passwords.password.map(lambda x: hasCapLetters(x))\n",
    "passwords['hasNumbers'] = passwords.password.map(lambda x: hasNumbers(x))\n",
    "passwords['hasSymbols'] = passwords.password.map(lambda x: hasSymbols(x))\n",
    "passwords['length'] = passwords.password.map(lambda x: len(str(x)))"
   ]
  },
  {
   "cell_type": "code",
   "execution_count": 35,
   "metadata": {
    "collapsed": false
   },
   "outputs": [
    {
     "data": {
      "text/html": [
       "<div>\n",
       "<table border=\"1\" class=\"dataframe\">\n",
       "  <thead>\n",
       "    <tr style=\"text-align: right;\">\n",
       "      <th></th>\n",
       "      <th>password</th>\n",
       "      <th>hasLetters</th>\n",
       "      <th>hasCapLetters</th>\n",
       "      <th>hasNumbers</th>\n",
       "      <th>hasSymbols</th>\n",
       "      <th>length</th>\n",
       "    </tr>\n",
       "  </thead>\n",
       "  <tbody>\n",
       "    <tr>\n",
       "      <th>0</th>\n",
       "      <td>!</td>\n",
       "      <td>False</td>\n",
       "      <td>False</td>\n",
       "      <td>False</td>\n",
       "      <td>True</td>\n",
       "      <td>1</td>\n",
       "    </tr>\n",
       "    <tr>\n",
       "      <th>1</th>\n",
       "      <td>! love you</td>\n",
       "      <td>True</td>\n",
       "      <td>False</td>\n",
       "      <td>False</td>\n",
       "      <td>True</td>\n",
       "      <td>10</td>\n",
       "    </tr>\n",
       "    <tr>\n",
       "      <th>2</th>\n",
       "      <td>!!</td>\n",
       "      <td>False</td>\n",
       "      <td>False</td>\n",
       "      <td>False</td>\n",
       "      <td>True</td>\n",
       "      <td>2</td>\n",
       "    </tr>\n",
       "    <tr>\n",
       "      <th>3</th>\n",
       "      <td>!!!</td>\n",
       "      <td>False</td>\n",
       "      <td>False</td>\n",
       "      <td>False</td>\n",
       "      <td>True</td>\n",
       "      <td>3</td>\n",
       "    </tr>\n",
       "    <tr>\n",
       "      <th>4</th>\n",
       "      <td>!!!!!</td>\n",
       "      <td>False</td>\n",
       "      <td>False</td>\n",
       "      <td>False</td>\n",
       "      <td>True</td>\n",
       "      <td>5</td>\n",
       "    </tr>\n",
       "  </tbody>\n",
       "</table>\n",
       "</div>"
      ],
      "text/plain": [
       "     password hasLetters hasCapLetters hasNumbers hasSymbols  length\n",
       "0           !      False         False      False       True       1\n",
       "1  ! love you       True         False      False       True      10\n",
       "2          !!      False         False      False       True       2\n",
       "3         !!!      False         False      False       True       3\n",
       "4       !!!!!      False         False      False       True       5"
      ]
     },
     "execution_count": 35,
     "metadata": {},
     "output_type": "execute_result"
    }
   ],
   "source": [
    "# check how the data look now\n",
    "passwords.head(5)"
   ]
  },
  {
   "cell_type": "markdown",
   "metadata": {},
   "source": [
    "## Analysis the length of passwords"
   ]
  },
  {
   "cell_type": "code",
   "execution_count": 36,
   "metadata": {
    "collapsed": false
   },
   "outputs": [
    {
     "data": {
      "text/plain": [
       "1"
      ]
     },
     "execution_count": 36,
     "metadata": {},
     "output_type": "execute_result"
    }
   ],
   "source": [
    "# check minimal length\n",
    "passwords['length'].min()"
   ]
  },
  {
   "cell_type": "code",
   "execution_count": 37,
   "metadata": {
    "collapsed": false
   },
   "outputs": [
    {
     "data": {
      "text/plain": [
       "35"
      ]
     },
     "execution_count": 37,
     "metadata": {},
     "output_type": "execute_result"
    }
   ],
   "source": [
    "# check maximal length\n",
    "passwords['length'].max()"
   ]
  },
  {
   "cell_type": "code",
   "execution_count": 38,
   "metadata": {
    "collapsed": false
   },
   "outputs": [
    {
     "data": {
      "text/html": [
       "<div>\n",
       "<table border=\"1\" class=\"dataframe\">\n",
       "  <thead>\n",
       "    <tr style=\"text-align: right;\">\n",
       "      <th></th>\n",
       "      <th>password</th>\n",
       "      <th>hasLetters</th>\n",
       "      <th>hasCapLetters</th>\n",
       "      <th>hasNumbers</th>\n",
       "      <th>hasSymbols</th>\n",
       "      <th>length</th>\n",
       "    </tr>\n",
       "  </thead>\n",
       "  <tbody>\n",
       "    <tr>\n",
       "      <th>1029</th>\n",
       "      <td>==)!)(=\\r\\n&gt;&lt;script&gt;alert(1)&lt;/script&gt;</td>\n",
       "      <td>True</td>\n",
       "      <td>False</td>\n",
       "      <td>True</td>\n",
       "      <td>True</td>\n",
       "      <td>35</td>\n",
       "    </tr>\n",
       "  </tbody>\n",
       "</table>\n",
       "</div>"
      ],
      "text/plain": [
       "                                   password hasLetters hasCapLetters  \\\n",
       "1029  ==)!)(=\\r\\n><script>alert(1)</script>       True         False   \n",
       "\n",
       "     hasNumbers hasSymbols  length  \n",
       "1029       True       True      35  "
      ]
     },
     "execution_count": 38,
     "metadata": {},
     "output_type": "execute_result"
    }
   ],
   "source": [
    "# check the longest password\n",
    "passwords[passwords['length'] == 35]"
   ]
  },
  {
   "cell_type": "code",
   "execution_count": 39,
   "metadata": {
    "collapsed": false
   },
   "outputs": [
    {
     "data": {
      "image/png": "[encoded data removed]",
      "text/plain": [
       "<matplotlib.figure.Figure at 0x240dc588>"
      ]
     },
     "metadata": {},
     "output_type": "display_data"
    }
   ],
   "source": [
    "# check the length distribution\n",
    "plt.hist(passwords.length, bins=35)\n",
    "plt.show()"
   ]
  },
  {
   "cell_type": "markdown",
   "metadata": {},
   "source": [
    "### Analysis the Composition of Passwords"
   ]
  },
  {
   "cell_type": "code",
   "execution_count": 40,
   "metadata": {
    "collapsed": false
   },
   "outputs": [
    {
     "name": "stdout",
     "output_type": "stream",
     "text": [
      "72.81 percent of password has number\n"
     ]
    }
   ],
   "source": [
    "# check what percent password has number\n",
    "\n",
    "total_rec = passwords.shape[0]\n",
    "pct_number = passwords[passwords['hasNumbers']==True].shape[0] / float(total_rec) * 100\n",
    "print \"{:.2f} percent of password has number\".format(pct_number)"
   ]
  },
  {
   "cell_type": "code",
   "execution_count": 41,
   "metadata": {
    "collapsed": false
   },
   "outputs": [
    {
     "name": "stdout",
     "output_type": "stream",
     "text": [
      "76.44 percent of password has letter\n"
     ]
    }
   ],
   "source": [
    "# check what percent password has letter\n",
    "\n",
    "pct_letter = passwords[passwords['hasLetters']==True].shape[0] / float(total_rec) * 100\n",
    "print \"{:.2f} percent of password has letter\".format(pct_letter)"
   ]
  },
  {
   "cell_type": "code",
   "execution_count": 42,
   "metadata": {
    "collapsed": false
   },
   "outputs": [
    {
     "name": "stdout",
     "output_type": "stream",
     "text": [
      "9.53 percent of password has capital letter\n"
     ]
    }
   ],
   "source": [
    "# check what percent password has capital letter\n",
    "\n",
    "pct_capletter = passwords[passwords['hasCapLetters']==True].shape[0] / float(total_rec) * 100\n",
    "print \"{:.2f} percent of password has capital letter\".format(pct_capletter)"
   ]
  },
  {
   "cell_type": "code",
   "execution_count": 43,
   "metadata": {
    "collapsed": false
   },
   "outputs": [
    {
     "name": "stdout",
     "output_type": "stream",
     "text": [
      "3.06 percent of password has symbol\n"
     ]
    }
   ],
   "source": [
    "# check what percent password has symbol\n",
    "\n",
    "pct_symbol = passwords[passwords['hasSymbols']==True].shape[0] / float(total_rec) * 100\n",
    "print \"{:.2f} percent of password has symbol\".format(pct_symbol)"
   ]
  },
  {
   "cell_type": "code",
   "execution_count": 44,
   "metadata": {
    "collapsed": false
   },
   "outputs": [
    {
     "name": "stdout",
     "output_type": "stream",
     "text": [
      "23.23 percent of password has number only\n"
     ]
    }
   ],
   "source": [
    "# check what percent password has number only\n",
    "\n",
    "pct_numonly = passwords[(passwords['hasLetters']==False)& (passwords['hasSymbols']==False)].shape[0] / float(total_rec) * 100\n",
    "print \"{:.2f} percent of password has number only\".format(pct_numonly)"
   ]
  },
  {
   "cell_type": "code",
   "execution_count": 120,
   "metadata": {
    "collapsed": false
   },
   "outputs": [
    {
     "data": {
      "image/png": "[encoded data removed]",
      "text/plain": [
       "<matplotlib.figure.Figure at 0x212ba400>"
      ]
     },
     "metadata": {},
     "output_type": "display_data"
    }
   ],
   "source": [
    "temp1 = passwords['hasNumbers'].value_counts(ascending=True, normalize=True)*100\n",
    "temp2 = passwords['hasLetters'].value_counts(ascending=True, normalize=True)*100\n",
    "temp3 = passwords['hasCapLetters'].value_counts(ascending=False, normalize=True)*100\n",
    "temp4 = passwords['hasSymbols'].value_counts(ascending=False, normalize=True)*100\n",
    "\n",
    "fig = plt.figure(figsize=(12,5))\n",
    "fig.suptitle('Composition of Password', y=1.05,fontsize=18, fontweight='bold')\n",
    "\n",
    "ax1 = fig.add_subplot(141)\n",
    "ax1.set_ylabel('Percentage' , fontsize=14)\n",
    "\n",
    "ax1.set_title(\"hasNumbers\" , fontsize=14)\n",
    "temp1.plot(kind='bar', width= 0.3, fontsize=14)\n",
    "plt.xticks(rotation=50)\n",
    "\n",
    "ax2 = fig.add_subplot(142, sharey=ax1)\n",
    "ax2.set_title(\"hasLetters\" , fontsize=14)\n",
    "temp2.plot(kind = 'bar', width= 0.3, fontsize=14)\n",
    "plt.xticks(rotation=50)\n",
    "\n",
    "ax3 = fig.add_subplot(143 , sharey=ax1)\n",
    "ax3.set_title('hasCapLetters' , fontsize=14)\n",
    "temp3.plot(kind='bar', width= 0.3 , fontsize=14)\n",
    "plt.xticks(rotation=50)\n",
    "\n",
    "ax4 = fig.add_subplot(144, sharey=ax1)\n",
    "ax4.set_title('hasSymbols' , fontsize=14)\n",
    "temp4.plot(kind = 'bar', width= 0.3, fontsize=14, left = 0.0)\n",
    "plt.xticks(rotation=50)\n",
    "\n",
    "#plt.subplots_adjust(hspace= 0.8)\n",
    "plt.show()"
   ]
  },
  {
   "cell_type": "code",
   "execution_count": 122,
   "metadata": {
    "collapsed": false
   },
   "outputs": [
    {
     "data": {
      "image/png": "[encoded data removed]",
      "text/plain": [
       "<matplotlib.figure.Figure at 0x15893518>"
      ]
     },
     "metadata": {},
     "output_type": "display_data"
    }
   ],
   "source": [
    "\n",
    "sns.factorplot(\"length\", data= passwords, hue=\"hasSymbols\", #legend_out = False, \n",
    "               kind=\"count\",orient='h', size = 12, palette=\"muted\");"
   ]
  },
  {
   "cell_type": "code",
   "execution_count": null,
   "metadata": {
    "collapsed": true
   },
   "outputs": [],
   "source": []
  },
  {
   "cell_type": "markdown",
   "metadata": {},
   "source": [
    "## Detailed Composition of Each Password"
   ]
  },
  {
   "cell_type": "code",
   "execution_count": 123,
   "metadata": {
    "collapsed": false
   },
   "outputs": [],
   "source": [
    "def pct_letter(x):\n",
    "    \n",
    "    l = float(len(str(x)))\n",
    "    p = 0\n",
    "    for char in str(x):\n",
    "        if re.match('[a-zA-Z]', char):\n",
    "            p += 1\n",
    "    return round(p / l * 100,2)   \n",
    "\n",
    "def pct_number(x):\n",
    "    \n",
    "    l = float(len(str(x)))\n",
    "    p = 0\n",
    "    for char in str(x):\n",
    "        if str(char).isdigit():\n",
    "            p += 1\n",
    "    return round(p / l * 100,2)  \n",
    "\n",
    "def pct_symbol(x):\n",
    "    sym = set('~!@#$%^&*(){}:.[]`;,\"=<>\\\\/_ ?+-|\\'')\n",
    "    l = float(len(str(x)))\n",
    "    p = 0\n",
    "    for char in str(x):\n",
    "        if char in sym:\n",
    "            p += 1\n",
    "    return round(p / l * 100,2)  "
   ]
  },
  {
   "cell_type": "code",
   "execution_count": 124,
   "metadata": {
    "collapsed": false
   },
   "outputs": [],
   "source": [
    "passwords['pctLetters'] = passwords.password.map(lambda x: pct_letter(x))\n",
    "passwords['pctSymbols'] = passwords.password.map(lambda x: pct_symbol(x))\n",
    "passwords['pctNumbers'] = passwords.password.map(lambda x: pct_number(x))"
   ]
  },
  {
   "cell_type": "code",
   "execution_count": 125,
   "metadata": {
    "collapsed": false
   },
   "outputs": [
    {
     "data": {
      "text/html": [
       "<div>\n",
       "<table border=\"1\" class=\"dataframe\">\n",
       "  <thead>\n",
       "    <tr style=\"text-align: right;\">\n",
       "      <th></th>\n",
       "      <th>password</th>\n",
       "      <th>hasLetters</th>\n",
       "      <th>hasCapLetters</th>\n",
       "      <th>hasNumbers</th>\n",
       "      <th>hasSymbols</th>\n",
       "      <th>length</th>\n",
       "      <th>pctLetters</th>\n",
       "      <th>pctSymbols</th>\n",
       "      <th>pctNumbers</th>\n",
       "    </tr>\n",
       "  </thead>\n",
       "  <tbody>\n",
       "    <tr>\n",
       "      <th>0</th>\n",
       "      <td>!</td>\n",
       "      <td>False</td>\n",
       "      <td>False</td>\n",
       "      <td>False</td>\n",
       "      <td>True</td>\n",
       "      <td>1</td>\n",
       "      <td>0.0</td>\n",
       "      <td>100.0</td>\n",
       "      <td>0.0</td>\n",
       "    </tr>\n",
       "    <tr>\n",
       "      <th>1</th>\n",
       "      <td>! love you</td>\n",
       "      <td>True</td>\n",
       "      <td>False</td>\n",
       "      <td>False</td>\n",
       "      <td>True</td>\n",
       "      <td>10</td>\n",
       "      <td>70.0</td>\n",
       "      <td>30.0</td>\n",
       "      <td>0.0</td>\n",
       "    </tr>\n",
       "    <tr>\n",
       "      <th>2</th>\n",
       "      <td>!!</td>\n",
       "      <td>False</td>\n",
       "      <td>False</td>\n",
       "      <td>False</td>\n",
       "      <td>True</td>\n",
       "      <td>2</td>\n",
       "      <td>0.0</td>\n",
       "      <td>100.0</td>\n",
       "      <td>0.0</td>\n",
       "    </tr>\n",
       "    <tr>\n",
       "      <th>3</th>\n",
       "      <td>!!!</td>\n",
       "      <td>False</td>\n",
       "      <td>False</td>\n",
       "      <td>False</td>\n",
       "      <td>True</td>\n",
       "      <td>3</td>\n",
       "      <td>0.0</td>\n",
       "      <td>100.0</td>\n",
       "      <td>0.0</td>\n",
       "    </tr>\n",
       "    <tr>\n",
       "      <th>4</th>\n",
       "      <td>!!!!!</td>\n",
       "      <td>False</td>\n",
       "      <td>False</td>\n",
       "      <td>False</td>\n",
       "      <td>True</td>\n",
       "      <td>5</td>\n",
       "      <td>0.0</td>\n",
       "      <td>100.0</td>\n",
       "      <td>0.0</td>\n",
       "    </tr>\n",
       "  </tbody>\n",
       "</table>\n",
       "</div>"
      ],
      "text/plain": [
       "     password hasLetters hasCapLetters hasNumbers hasSymbols  length  \\\n",
       "0           !      False         False      False       True       1   \n",
       "1  ! love you       True         False      False       True      10   \n",
       "2          !!      False         False      False       True       2   \n",
       "3         !!!      False         False      False       True       3   \n",
       "4       !!!!!      False         False      False       True       5   \n",
       "\n",
       "   pctLetters  pctSymbols  pctNumbers  \n",
       "0         0.0       100.0         0.0  \n",
       "1        70.0        30.0         0.0  \n",
       "2         0.0       100.0         0.0  \n",
       "3         0.0       100.0         0.0  \n",
       "4         0.0       100.0         0.0  "
      ]
     },
     "execution_count": 125,
     "metadata": {},
     "output_type": "execute_result"
    }
   ],
   "source": [
    "passwords.head(5)"
   ]
  },
  {
   "cell_type": "code",
   "execution_count": 126,
   "metadata": {
    "collapsed": false,
    "scrolled": true
   },
   "outputs": [
    {
     "data": {
      "text/html": [
       "<div>\n",
       "<table border=\"1\" class=\"dataframe\">\n",
       "  <thead>\n",
       "    <tr style=\"text-align: right;\">\n",
       "      <th></th>\n",
       "      <th>length</th>\n",
       "      <th>pctLetters</th>\n",
       "      <th>pctSymbols</th>\n",
       "      <th>pctNumbers</th>\n",
       "    </tr>\n",
       "  </thead>\n",
       "  <tbody>\n",
       "    <tr>\n",
       "      <th>count</th>\n",
       "      <td>2.151205e+06</td>\n",
       "      <td>2.151205e+06</td>\n",
       "      <td>2.151205e+06</td>\n",
       "      <td>2.151205e+06</td>\n",
       "    </tr>\n",
       "    <tr>\n",
       "      <th>mean</th>\n",
       "      <td>8.370621e+00</td>\n",
       "      <td>5.631594e+01</td>\n",
       "      <td>4.991009e-01</td>\n",
       "      <td>4.318488e+01</td>\n",
       "    </tr>\n",
       "    <tr>\n",
       "      <th>std</th>\n",
       "      <td>1.997514e+00</td>\n",
       "      <td>3.848226e+01</td>\n",
       "      <td>3.490159e+00</td>\n",
       "      <td>3.856365e+01</td>\n",
       "    </tr>\n",
       "    <tr>\n",
       "      <th>min</th>\n",
       "      <td>1.000000e+00</td>\n",
       "      <td>0.000000e+00</td>\n",
       "      <td>0.000000e+00</td>\n",
       "      <td>0.000000e+00</td>\n",
       "    </tr>\n",
       "    <tr>\n",
       "      <th>25%</th>\n",
       "      <td>7.000000e+00</td>\n",
       "      <td>1.429000e+01</td>\n",
       "      <td>0.000000e+00</td>\n",
       "      <td>0.000000e+00</td>\n",
       "    </tr>\n",
       "    <tr>\n",
       "      <th>50%</th>\n",
       "      <td>8.000000e+00</td>\n",
       "      <td>6.667000e+01</td>\n",
       "      <td>0.000000e+00</td>\n",
       "      <td>3.333000e+01</td>\n",
       "    </tr>\n",
       "    <tr>\n",
       "      <th>75%</th>\n",
       "      <td>1.000000e+01</td>\n",
       "      <td>1.000000e+02</td>\n",
       "      <td>0.000000e+00</td>\n",
       "      <td>8.333000e+01</td>\n",
       "    </tr>\n",
       "    <tr>\n",
       "      <th>max</th>\n",
       "      <td>3.500000e+01</td>\n",
       "      <td>1.000000e+02</td>\n",
       "      <td>1.000000e+02</td>\n",
       "      <td>1.000000e+02</td>\n",
       "    </tr>\n",
       "  </tbody>\n",
       "</table>\n",
       "</div>"
      ],
      "text/plain": [
       "             length    pctLetters    pctSymbols    pctNumbers\n",
       "count  2.151205e+06  2.151205e+06  2.151205e+06  2.151205e+06\n",
       "mean   8.370621e+00  5.631594e+01  4.991009e-01  4.318488e+01\n",
       "std    1.997514e+00  3.848226e+01  3.490159e+00  3.856365e+01\n",
       "min    1.000000e+00  0.000000e+00  0.000000e+00  0.000000e+00\n",
       "25%    7.000000e+00  1.429000e+01  0.000000e+00  0.000000e+00\n",
       "50%    8.000000e+00  6.667000e+01  0.000000e+00  3.333000e+01\n",
       "75%    1.000000e+01  1.000000e+02  0.000000e+00  8.333000e+01\n",
       "max    3.500000e+01  1.000000e+02  1.000000e+02  1.000000e+02"
      ]
     },
     "execution_count": 126,
     "metadata": {},
     "output_type": "execute_result"
    }
   ],
   "source": [
    "passwords.describe()"
   ]
  },
  {
   "cell_type": "code",
   "execution_count": 149,
   "metadata": {
    "collapsed": false
   },
   "outputs": [
    {
     "data": {
      "image/png": "[encoded data removed]",
      "text/plain": [
       "<matplotlib.figure.Figure at 0x2c846860>"
      ]
     },
     "metadata": {},
     "output_type": "display_data"
    }
   ],
   "source": [
    "\n",
    "fig = plt.figure(figsize=(12, 6))\n",
    "fig.suptitle('Composition of Password',y=1.05, fontsize=18, fontweight='bold')\n",
    "\n",
    "\n",
    "ax1 = fig.add_subplot(121)\n",
    "plt.hist(passwords['pctLetters'], alpha=0.75)\n",
    "ax1.set_ylabel('Counts' , fontsize=14)\n",
    "ax1.set_xlabel('Letter Percentage', fontsize=14)\n",
    "\n",
    "ax2 = fig.add_subplot(122, sharey=ax1)\n",
    "plt.hist(passwords['pctNumbers'],  alpha=0.75)\n",
    "ax2.set_xlabel('Number Percentage', fontsize=14)\n",
    "\n",
    "plt.show()"
   ]
  },
  {
   "cell_type": "code",
   "execution_count": 139,
   "metadata": {
    "collapsed": false
   },
   "outputs": [
    {
     "data": {
      "image/png": "[encoded data removed]",
      "text/plain": [
       "<matplotlib.figure.Figure at 0x2f358748>"
      ]
     },
     "metadata": {},
     "output_type": "display_data"
    }
   ],
   "source": [
    "plt.hist(passwords['pctSymbols'], bins=10)\n",
    "\n",
    "plt.show()"
   ]
  },
  {
   "cell_type": "code",
   "execution_count": null,
   "metadata": {
    "collapsed": true
   },
   "outputs": [],
   "source": []
  },
  {
   "cell_type": "code",
   "execution_count": null,
   "metadata": {
    "collapsed": true
   },
   "outputs": [],
   "source": []
  },
  {
   "cell_type": "code",
   "execution_count": null,
   "metadata": {
    "collapsed": true
   },
   "outputs": [],
   "source": []
  },
  {
   "cell_type": "code",
   "execution_count": null,
   "metadata": {
    "collapsed": true
   },
   "outputs": [],
   "source": []
  }
 ],
 "metadata": {
  "kernelspec": {
   "display_name": "Python 2",
   "language": "python",
   "name": "python2"
  },
  "language_info": {
   "codemirror_mode": {
    "name": "ipython",
    "version": 2
   },
   "file_extension": ".py",
   "mimetype": "text/x-python",
   "name": "python",
   "nbconvert_exporter": "python",
   "pygments_lexer": "ipython2",
   "version": "2.7.12"
  }
 },
 "nbformat": 4,
 "nbformat_minor": 0
}
