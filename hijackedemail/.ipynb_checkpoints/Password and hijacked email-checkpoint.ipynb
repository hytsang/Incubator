{
 "cells": [
  {
   "cell_type": "markdown",
   "metadata": {},
   "source": [
    "## [Password and hijacked email dataset for you to test your data science skills](http://www.datasciencecentral.com/forum/topics/password-dataset-for-you-to-test-your-data-science-skills)"
   ]
  },
  {
   "cell_type": "markdown",
   "metadata": {},
   "source": [
    "### Anyway, the reason for sharing the password data set with you is for you to test your data science skills: try to answer the following questions:\n",
    "\n",
    "- What are the most common patterns found in passwords?\n",
    "- Based on these patterns, how to build robust yet easy-to-remember passwords?\n",
    "- Does this password data set look OK, or do you think it is somewhat inaccurate or not representative of the password universe? If not, can we still draw valid conclusions from this data set, and how?\n",
    "\n",
    "Data is available [here](http://www.dazzlepod.com/site_media/txt/passwords.txt)"
   ]
  },
  {
   "cell_type": "code",
   "execution_count": 43,
   "metadata": {
    "collapsed": true
   },
   "outputs": [],
   "source": [
    "import pandas as pd\n",
    "import numpy as np\n",
    "from pandas import Series, DataFrame"
   ]
  },
  {
   "cell_type": "code",
   "execution_count": 44,
   "metadata": {
    "collapsed": false
   },
   "outputs": [
    {
     "name": "stdout",
     "output_type": "stream",
     "text": [
      "http://www.dazzlepod.com/site_media/txt/passwords.txt\n",
      "\n",
      "#\n",
      "\n",
      "# This is a list of 2,151,220 unique ASCII passwords sorted in random order.\n",
      "\n",
      "# This list (also known as wordlist, password dictionary or password list)\n",
      "\n",
      "# is useful for password recovery tools such as John the Ripper, Hashcat,\n",
      "\n",
      "# Aircrack-ng and KisMAC. To use this file, be sure to first remove these\n",
      "\n",
      "# comment lines, i.e. the lines starting with # character.\n",
      "\n",
      "#\n",
      "\n",
      "# If you are looking for a better password dictionary,\n",
      "\n",
      "# see http://dazzlepod.com/uniqpass/\n",
      "\n",
      "#\n",
      "\n",
      "# $Revision: #9 $\n",
      "\n",
      "# $DateTime: 2012/01/26 15:37:45 $\n",
      "\n",
      "#\n",
      "\n",
      "# Comments/Questions? Send to disclosure@dazzlepod.com\n",
      "\n",
      "#\n",
      "\n",
      "07606374520\n",
      "\n",
      "piontekendre\n",
      "\n",
      "rambo144\n",
      "\n",
      "primoz123\n",
      "\n"
     ]
    }
   ],
   "source": [
    "fh = open('passwords.txt', 'r+')\n",
    "\n",
    "for line in fh.readlines()[:20]:\n",
    "    print line"
   ]
  },
  {
   "cell_type": "code",
   "execution_count": 46,
   "metadata": {
    "collapsed": true
   },
   "outputs": [],
   "source": [
    "for line in fh.readlines()[:20]:\n",
    "    print line"
   ]
  },
  {
   "cell_type": "code",
   "execution_count": 2,
   "metadata": {
    "collapsed": false
   },
   "outputs": [],
   "source": [
    "# to get help pd.read_csv?\n",
    "passwords = pd.read_csv('passwords.txt',header=None, skiprows=16, sep='\\t', names=['password'])  #"
   ]
  },
  {
   "cell_type": "code",
   "execution_count": 3,
   "metadata": {
    "collapsed": false
   },
   "outputs": [
    {
     "data": {
      "text/html": [
       "<div>\n",
       "<table border=\"1\" class=\"dataframe\">\n",
       "  <thead>\n",
       "    <tr style=\"text-align: right;\">\n",
       "      <th></th>\n",
       "      <th>password</th>\n",
       "    </tr>\n",
       "  </thead>\n",
       "  <tbody>\n",
       "    <tr>\n",
       "      <th>0</th>\n",
       "      <td>07606374520</td>\n",
       "    </tr>\n",
       "    <tr>\n",
       "      <th>1</th>\n",
       "      <td>piontekendre</td>\n",
       "    </tr>\n",
       "    <tr>\n",
       "      <th>2</th>\n",
       "      <td>rambo144</td>\n",
       "    </tr>\n",
       "    <tr>\n",
       "      <th>3</th>\n",
       "      <td>primoz123</td>\n",
       "    </tr>\n",
       "    <tr>\n",
       "      <th>4</th>\n",
       "      <td>sal1387</td>\n",
       "    </tr>\n",
       "  </tbody>\n",
       "</table>\n",
       "</div>"
      ],
      "text/plain": [
       "       password\n",
       "0   07606374520\n",
       "1  piontekendre\n",
       "2      rambo144\n",
       "3     primoz123\n",
       "4       sal1387"
      ]
     },
     "execution_count": 3,
     "metadata": {},
     "output_type": "execute_result"
    }
   ],
   "source": [
    "passwords.head(5)"
   ]
  },
  {
   "cell_type": "code",
   "execution_count": 5,
   "metadata": {
    "collapsed": false
   },
   "outputs": [
    {
     "data": {
      "text/html": [
       "<div>\n",
       "<table border=\"1\" class=\"dataframe\">\n",
       "  <thead>\n",
       "    <tr style=\"text-align: right;\">\n",
       "      <th></th>\n",
       "      <th>password</th>\n",
       "    </tr>\n",
       "  </thead>\n",
       "  <tbody>\n",
       "    <tr>\n",
       "      <th>1936795</th>\n",
       "      <td>26778982</td>\n",
       "    </tr>\n",
       "    <tr>\n",
       "      <th>1936796</th>\n",
       "      <td>brazer1</td>\n",
       "    </tr>\n",
       "    <tr>\n",
       "      <th>1936797</th>\n",
       "      <td>usethisone</td>\n",
       "    </tr>\n",
       "    <tr>\n",
       "      <th>1936798</th>\n",
       "      <td>scare222273</td>\n",
       "    </tr>\n",
       "    <tr>\n",
       "      <th>1936799</th>\n",
       "      <td>anto1962</td>\n",
       "    </tr>\n",
       "  </tbody>\n",
       "</table>\n",
       "</div>"
      ],
      "text/plain": [
       "            password\n",
       "1936795     26778982\n",
       "1936796      brazer1\n",
       "1936797   usethisone\n",
       "1936798  scare222273\n",
       "1936799     anto1962"
      ]
     },
     "execution_count": 5,
     "metadata": {},
     "output_type": "execute_result"
    }
   ],
   "source": [
    "passwords.tail(5)"
   ]
  },
  {
   "cell_type": "code",
   "execution_count": 6,
   "metadata": {
    "collapsed": false
   },
   "outputs": [
    {
     "data": {
      "text/plain": [
       "(1936800, 1)"
      ]
     },
     "execution_count": 6,
     "metadata": {},
     "output_type": "execute_result"
    }
   ],
   "source": [
    "passwords.shape"
   ]
  },
  {
   "cell_type": "code",
   "execution_count": 9,
   "metadata": {
    "collapsed": false
   },
   "outputs": [],
   "source": [
    "passwords['length'] = passwords.password.map(lambda x: len(str(x)))"
   ]
  },
  {
   "cell_type": "code",
   "execution_count": 10,
   "metadata": {
    "collapsed": false
   },
   "outputs": [
    {
     "data": {
      "text/html": [
       "<div>\n",
       "<table border=\"1\" class=\"dataframe\">\n",
       "  <thead>\n",
       "    <tr style=\"text-align: right;\">\n",
       "      <th></th>\n",
       "      <th>password</th>\n",
       "      <th>length</th>\n",
       "    </tr>\n",
       "  </thead>\n",
       "  <tbody>\n",
       "    <tr>\n",
       "      <th>0</th>\n",
       "      <td>07606374520</td>\n",
       "      <td>11</td>\n",
       "    </tr>\n",
       "    <tr>\n",
       "      <th>1</th>\n",
       "      <td>piontekendre</td>\n",
       "      <td>12</td>\n",
       "    </tr>\n",
       "    <tr>\n",
       "      <th>2</th>\n",
       "      <td>rambo144</td>\n",
       "      <td>8</td>\n",
       "    </tr>\n",
       "    <tr>\n",
       "      <th>3</th>\n",
       "      <td>primoz123</td>\n",
       "      <td>9</td>\n",
       "    </tr>\n",
       "    <tr>\n",
       "      <th>4</th>\n",
       "      <td>sal1387</td>\n",
       "      <td>7</td>\n",
       "    </tr>\n",
       "  </tbody>\n",
       "</table>\n",
       "</div>"
      ],
      "text/plain": [
       "       password  length\n",
       "0   07606374520      11\n",
       "1  piontekendre      12\n",
       "2      rambo144       8\n",
       "3     primoz123       9\n",
       "4       sal1387       7"
      ]
     },
     "execution_count": 10,
     "metadata": {},
     "output_type": "execute_result"
    }
   ],
   "source": [
    "passwords.head(5)"
   ]
  },
  {
   "cell_type": "code",
   "execution_count": 13,
   "metadata": {
    "collapsed": false
   },
   "outputs": [
    {
     "data": {
      "text/plain": [
       "734943"
      ]
     },
     "execution_count": 13,
     "metadata": {},
     "output_type": "execute_result"
    }
   ],
   "source": [
    "passwords.length.max()"
   ]
  },
  {
   "cell_type": "code",
   "execution_count": 17,
   "metadata": {
    "collapsed": false
   },
   "outputs": [
    {
     "data": {
      "text/html": [
       "<div>\n",
       "<table border=\"1\" class=\"dataframe\">\n",
       "  <thead>\n",
       "    <tr style=\"text-align: right;\">\n",
       "      <th></th>\n",
       "      <th>password</th>\n",
       "      <th>length</th>\n",
       "    </tr>\n",
       "  </thead>\n",
       "  <tbody>\n",
       "    <tr>\n",
       "      <th>38833</th>\n",
       "      <td>&gt;&lt;script&gt;alert(1)&lt;/script&gt;\\n123Lenda#\\nhallibu...</td>\n",
       "      <td>155920</td>\n",
       "    </tr>\n",
       "    <tr>\n",
       "      <th>374277</th>\n",
       "      <td>\\n251885394\\nmello2\\nmaitre1123\\nfk6Ehruu\\nthi...</td>\n",
       "      <td>10822</td>\n",
       "    </tr>\n",
       "    <tr>\n",
       "      <th>438678</th>\n",
       "      <td>39&lt;0Y~c.;A1Bj\\n3ddd4t\\n516ks516\\nag0931266\\nac...</td>\n",
       "      <td>61775</td>\n",
       "    </tr>\n",
       "    <tr>\n",
       "      <th>501401</th>\n",
       "      <td>12345\\nhdjcb100\\n060571\\nkaalimaa\\nrelaxmax\\nd...</td>\n",
       "      <td>409783</td>\n",
       "    </tr>\n",
       "    <tr>\n",
       "      <th>523790</th>\n",
       "      <td>or1=1--\\n13817676085\\n594112\\nmactools\\n880148...</td>\n",
       "      <td>106186</td>\n",
       "    </tr>\n",
       "    <tr>\n",
       "      <th>688515</th>\n",
       "      <td>pass\\nmbmb266888\\n1988luolin\\n15877487956\\ncri...</td>\n",
       "      <td>116093</td>\n",
       "    </tr>\n",
       "    <tr>\n",
       "      <th>768830</th>\n",
       "      <td>==)!)(=\\naviral\\nrimmir33\\nhutcheson\\nrr801201...</td>\n",
       "      <td>17079</td>\n",
       "    </tr>\n",
       "    <tr>\n",
       "      <th>940981</th>\n",
       "      <td>AAj6H\\nweebeth\\nmonitor222\\nem1981\\nalexs123\\n...</td>\n",
       "      <td>214057</td>\n",
       "    </tr>\n",
       "    <tr>\n",
       "      <th>968376</th>\n",
       "      <td>Enn'720\\nvimpula\\n675424\\nalibercn08\\n06847625...</td>\n",
       "      <td>79065</td>\n",
       "    </tr>\n",
       "    <tr>\n",
       "      <th>1145207</th>\n",
       "      <td>&amp;A!R&amp;(\\nminavain\\ntrakson\\ngivemethe\\nfuckshad...</td>\n",
       "      <td>12107</td>\n",
       "    </tr>\n",
       "    <tr>\n",
       "      <th>1300960</th>\n",
       "      <td>lollol\\nakz4rt1548\\n703s3c\\nrollwen820124\\npas...</td>\n",
       "      <td>734943</td>\n",
       "    </tr>\n",
       "    <tr>\n",
       "      <th>1735727</th>\n",
       "      <td>8095662\\nchang977989\\nzachary1\\ntorah0706\\nkiz...</td>\n",
       "      <td>17966</td>\n",
       "    </tr>\n",
       "    <tr>\n",
       "      <th>1751550</th>\n",
       "      <td>33#\\nwood8888\\n3101216\\ngobelin123\\nssolis\\nsc...</td>\n",
       "      <td>75143</td>\n",
       "    </tr>\n",
       "  </tbody>\n",
       "</table>\n",
       "</div>"
      ],
      "text/plain": [
       "                                                  password  length\n",
       "38833    ><script>alert(1)</script>\\n123Lenda#\\nhallibu...  155920\n",
       "374277   \\n251885394\\nmello2\\nmaitre1123\\nfk6Ehruu\\nthi...   10822\n",
       "438678   39<0Y~c.;A1Bj\\n3ddd4t\\n516ks516\\nag0931266\\nac...   61775\n",
       "501401   12345\\nhdjcb100\\n060571\\nkaalimaa\\nrelaxmax\\nd...  409783\n",
       "523790   or1=1--\\n13817676085\\n594112\\nmactools\\n880148...  106186\n",
       "688515   pass\\nmbmb266888\\n1988luolin\\n15877487956\\ncri...  116093\n",
       "768830   ==)!)(=\\naviral\\nrimmir33\\nhutcheson\\nrr801201...   17079\n",
       "940981   AAj6H\\nweebeth\\nmonitor222\\nem1981\\nalexs123\\n...  214057\n",
       "968376   Enn'720\\nvimpula\\n675424\\nalibercn08\\n06847625...   79065\n",
       "1145207  &A!R&(\\nminavain\\ntrakson\\ngivemethe\\nfuckshad...   12107\n",
       "1300960  lollol\\nakz4rt1548\\n703s3c\\nrollwen820124\\npas...  734943\n",
       "1735727  8095662\\nchang977989\\nzachary1\\ntorah0706\\nkiz...   17966\n",
       "1751550  33#\\nwood8888\\n3101216\\ngobelin123\\nssolis\\nsc...   75143"
      ]
     },
     "execution_count": 17,
     "metadata": {},
     "output_type": "execute_result"
    }
   ],
   "source": [
    "passwords[passwords['length'] >100]"
   ]
  },
  {
   "cell_type": "code",
   "execution_count": null,
   "metadata": {
    "collapsed": true
   },
   "outputs": [],
   "source": []
  },
  {
   "cell_type": "code",
   "execution_count": null,
   "metadata": {
    "collapsed": true
   },
   "outputs": [],
   "source": []
  },
  {
   "cell_type": "code",
   "execution_count": null,
   "metadata": {
    "collapsed": true
   },
   "outputs": [],
   "source": []
  },
  {
   "cell_type": "code",
   "execution_count": null,
   "metadata": {
    "collapsed": true
   },
   "outputs": [],
   "source": []
  },
  {
   "cell_type": "code",
   "execution_count": null,
   "metadata": {
    "collapsed": true
   },
   "outputs": [],
   "source": []
  },
  {
   "cell_type": "code",
   "execution_count": null,
   "metadata": {
    "collapsed": true
   },
   "outputs": [],
   "source": []
  },
  {
   "cell_type": "code",
   "execution_count": null,
   "metadata": {
    "collapsed": true
   },
   "outputs": [],
   "source": []
  },
  {
   "cell_type": "code",
   "execution_count": null,
   "metadata": {
    "collapsed": true
   },
   "outputs": [],
   "source": []
  },
  {
   "cell_type": "code",
   "execution_count": 20,
   "metadata": {
    "collapsed": false
   },
   "outputs": [
    {
     "data": {
      "text/plain": [
       "(1936460L,)"
      ]
     },
     "execution_count": 20,
     "metadata": {},
     "output_type": "execute_result"
    }
   ],
   "source": [
    "# check how many unique passwords\n",
    "uniq_passwords = passwords.password.unique()\n",
    "uniq_passwords.shape"
   ]
  },
  {
   "cell_type": "code",
   "execution_count": null,
   "metadata": {
    "collapsed": true
   },
   "outputs": [],
   "source": []
  },
  {
   "cell_type": "code",
   "execution_count": null,
   "metadata": {
    "collapsed": true
   },
   "outputs": [],
   "source": []
  },
  {
   "cell_type": "code",
   "execution_count": null,
   "metadata": {
    "collapsed": true
   },
   "outputs": [],
   "source": []
  },
  {
   "cell_type": "code",
   "execution_count": null,
   "metadata": {
    "collapsed": true
   },
   "outputs": [],
   "source": []
  },
  {
   "cell_type": "code",
   "execution_count": null,
   "metadata": {
    "collapsed": true
   },
   "outputs": [],
   "source": []
  },
  {
   "cell_type": "code",
   "execution_count": null,
   "metadata": {
    "collapsed": true
   },
   "outputs": [],
   "source": []
  },
  {
   "cell_type": "code",
   "execution_count": 18,
   "metadata": {
    "collapsed": false
   },
   "outputs": [
    {
     "data": {
      "text/plain": [
       "0    A\n",
       "1    B\n",
       "2    a\n",
       "3    a\n",
       "4    a\n",
       "5    A\n",
       "dtype: object"
      ]
     },
     "execution_count": 18,
     "metadata": {},
     "output_type": "execute_result"
    }
   ],
   "source": [
    "s = pd.Series(['A', 'B','a','a','a','A'])\n",
    "s"
   ]
  },
  {
   "cell_type": "code",
   "execution_count": 21,
   "metadata": {
    "collapsed": true
   },
   "outputs": [],
   "source": [
    "fh = open('passwords.txt', 'r', skip=n)"
   ]
  },
  {
   "cell_type": "code",
   "execution_count": 19,
   "metadata": {
    "collapsed": false
   },
   "outputs": [
    {
     "data": {
      "text/plain": [
       "array(['A', 'B', 'a'], dtype=object)"
      ]
     },
     "execution_count": 19,
     "metadata": {},
     "output_type": "execute_result"
    }
   ],
   "source": [
    "s.unique()"
   ]
  },
  {
   "cell_type": "code",
   "execution_count": null,
   "metadata": {
    "collapsed": true
   },
   "outputs": [],
   "source": []
  }
 ],
 "metadata": {
  "kernelspec": {
   "display_name": "Python 2",
   "language": "python",
   "name": "python2"
  },
  "language_info": {
   "codemirror_mode": {
    "name": "ipython",
    "version": 2
   },
   "file_extension": ".py",
   "mimetype": "text/x-python",
   "name": "python",
   "nbconvert_exporter": "python",
   "pygments_lexer": "ipython2",
   "version": "2.7.11"
  }
 },
 "nbformat": 4,
 "nbformat_minor": 0
}
