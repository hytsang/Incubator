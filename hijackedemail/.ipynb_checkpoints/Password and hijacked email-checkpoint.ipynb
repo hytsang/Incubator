{
 "cells": [
  {
   "cell_type": "markdown",
   "metadata": {},
   "source": [
    "# Password and hijacked email\n",
    "\n",
    "\n",
    "### This project was proposed by [Vincent Granville](http://www.datasciencecentral.com/forum/topics/password-dataset-for-you-to-test-your-data-science-skills) to challenge your data science skills. Basically one should try to answer the following three questions:\n",
    "\n",
    "- What are the most common patterns found in passwords?\n",
    "- Based on these patterns, how to build robust yet easy-to-remember passwords?\n",
    "- Does this password data set look OK, or do you think it is somewhat inaccurate or not representative of the password universe? If not, can we still draw valid conclusions from this data set, and how?\n",
    "\n",
    "Data is available [here](http://www.dazzlepod.com/site_media/txt/passwords.txt)"
   ]
  },
  {
   "cell_type": "markdown",
   "metadata": {},
   "source": [
    "## Step 1. Load Packages"
   ]
  },
  {
   "cell_type": "code",
   "execution_count": 1,
   "metadata": {
    "collapsed": false
   },
   "outputs": [],
   "source": [
    "import pandas as pd\n",
    "import numpy as np\n",
    "from pandas import Series, DataFrame\n",
    "import matplotlib.pyplot as plt\n",
    "import seaborn as sns\n",
    "%matplotlib inline"
   ]
  },
  {
   "cell_type": "markdown",
   "metadata": {},
   "source": [
    "# Step 2. Load Data"
   ]
  },
  {
   "cell_type": "code",
   "execution_count": 2,
   "metadata": {
    "collapsed": false
   },
   "outputs": [
    {
     "name": "stdout",
     "output_type": "stream",
     "text": [
      "Server: nginx\r\n",
      "Date: Tue, 22 Nov 2016 00:39:04 GMT\r\n",
      "Content-Type: text/plain; charset=utf-8\r\n",
      "Content-Length: 20163399\r\n",
      "Last-Modified: Sun, 27 Mar 2016 05:04:06 GMT\r\n",
      "Connection: close\r\n",
      "Vary: Accept-Encoding\r\n",
      "ETag: \"56f769c6-133ab47\"\r\n",
      "Expires: Tue, 29 Nov 2016 00:39:04 GMT\r\n",
      "Cache-Control: max-age=604800\r\n",
      "Accept-Ranges: bytes\r\n",
      "\n"
     ]
    }
   ],
   "source": [
    "import urllib2\n",
    "\n",
    "url= 'http://www.dazzlepod.com/site_media/txt/passwords.txt'\n",
    "response = urllib2.urlopen(url)\n",
    "print response.info()"
   ]
  },
  {
   "cell_type": "code",
   "execution_count": 3,
   "metadata": {
    "collapsed": true
   },
   "outputs": [],
   "source": [
    "# save into file in case lost the connection \n",
    "rawfile = open('passwords.txt', 'r+')\n",
    "rawfile.truncate()\n",
    "for line in response.read():\n",
    "    rawfile.write(line)\n",
    "rawfile.close()   "
   ]
  },
  {
   "cell_type": "code",
   "execution_count": 2,
   "metadata": {
    "collapsed": false
   },
   "outputs": [
    {
     "name": "stdout",
     "output_type": "stream",
     "text": [
      "#\n",
      "\n",
      "# This is a list of 2,151,220 unique ASCII passwords in sorted order according\n",
      "\n",
      "# to their native byte values using UNIX sort command.\n",
      "\n",
      "#\n",
      "\n",
      "# This list (also known as wordlist, password dictionary or password list)\n",
      "\n",
      "# is useful for password recovery tools such as John the Ripper, oclHashcat\n",
      "\n",
      "# and Aircrack-ng. To use this file, be sure to first remove these comment\n",
      "\n",
      "# lines, i.e. the lines starting with # character.\n",
      "\n",
      "#\n",
      "\n",
      "# If you are looking for a better password dictionary,\n",
      "\n",
      "# see http://dazzlepod.com/uniqpass/\n",
      "\n",
      "#\n",
      "\n",
      "# $DateTime: 2016/03/27 16:04:06 $\n",
      "\n",
      "#\n",
      "\n",
      "# Comments/Questions? Send to disclosure@dazzlepod.com\n",
      "\n",
      "#\n",
      "\n",
      "!\n",
      "\n",
      "! love you\n",
      "\n",
      "!!\n",
      "\n",
      "!!!\n",
      "\n"
     ]
    }
   ],
   "source": [
    "# open the file and check the first 20 lines\n",
    "fh = open('passwords.txt', 'r+')\n",
    "\n",
    "for line in fh.readlines()[:20]:\n",
    "    print line    "
   ]
  },
  {
   "cell_type": "code",
   "execution_count": 3,
   "metadata": {
    "collapsed": false
   },
   "outputs": [],
   "source": [
    "# to get help pd.read_csv?\n",
    "passwords = pd.read_csv('passwords.txt',header=None, skiprows=16, names=['password'])  "
   ]
  },
  {
   "cell_type": "markdown",
   "metadata": {},
   "source": [
    "# Step 3. Explore the Data"
   ]
  },
  {
   "cell_type": "code",
   "execution_count": 4,
   "metadata": {
    "collapsed": false
   },
   "outputs": [
    {
     "data": {
      "text/html": [
       "<div>\n",
       "<table border=\"1\" class=\"dataframe\">\n",
       "  <thead>\n",
       "    <tr style=\"text-align: right;\">\n",
       "      <th></th>\n",
       "      <th>password</th>\n",
       "    </tr>\n",
       "  </thead>\n",
       "  <tbody>\n",
       "    <tr>\n",
       "      <th>0</th>\n",
       "      <td>!</td>\n",
       "    </tr>\n",
       "    <tr>\n",
       "      <th>1</th>\n",
       "      <td>! love you</td>\n",
       "    </tr>\n",
       "    <tr>\n",
       "      <th>2</th>\n",
       "      <td>!!</td>\n",
       "    </tr>\n",
       "    <tr>\n",
       "      <th>3</th>\n",
       "      <td>!!!</td>\n",
       "    </tr>\n",
       "    <tr>\n",
       "      <th>4</th>\n",
       "      <td>!!!!!</td>\n",
       "    </tr>\n",
       "  </tbody>\n",
       "</table>\n",
       "</div>"
      ],
      "text/plain": [
       "     password\n",
       "0           !\n",
       "1  ! love you\n",
       "2          !!\n",
       "3         !!!\n",
       "4       !!!!!"
      ]
     },
     "execution_count": 4,
     "metadata": {},
     "output_type": "execute_result"
    }
   ],
   "source": [
    "passwords.head(5)"
   ]
  },
  {
   "cell_type": "code",
   "execution_count": 5,
   "metadata": {
    "collapsed": false
   },
   "outputs": [
    {
     "data": {
      "text/html": [
       "<div>\n",
       "<table border=\"1\" class=\"dataframe\">\n",
       "  <thead>\n",
       "    <tr style=\"text-align: right;\">\n",
       "      <th></th>\n",
       "      <th>password</th>\n",
       "    </tr>\n",
       "  </thead>\n",
       "  <tbody>\n",
       "    <tr>\n",
       "      <th>2151200</th>\n",
       "      <td>~~sstux</td>\n",
       "    </tr>\n",
       "    <tr>\n",
       "      <th>2151201</th>\n",
       "      <td>~~zhou075278</td>\n",
       "    </tr>\n",
       "    <tr>\n",
       "      <th>2151202</th>\n",
       "      <td>~~~~</td>\n",
       "    </tr>\n",
       "    <tr>\n",
       "      <th>2151203</th>\n",
       "      <td>~~~~~</td>\n",
       "    </tr>\n",
       "    <tr>\n",
       "      <th>2151204</th>\n",
       "      <td>~~~~~~</td>\n",
       "    </tr>\n",
       "  </tbody>\n",
       "</table>\n",
       "</div>"
      ],
      "text/plain": [
       "             password\n",
       "2151200       ~~sstux\n",
       "2151201  ~~zhou075278\n",
       "2151202          ~~~~\n",
       "2151203         ~~~~~\n",
       "2151204        ~~~~~~"
      ]
     },
     "execution_count": 5,
     "metadata": {},
     "output_type": "execute_result"
    }
   ],
   "source": [
    "passwords.tail(5)"
   ]
  },
  {
   "cell_type": "code",
   "execution_count": 6,
   "metadata": {
    "collapsed": false
   },
   "outputs": [
    {
     "data": {
      "text/plain": [
       "(2151205, 1)"
      ]
     },
     "execution_count": 6,
     "metadata": {},
     "output_type": "execute_result"
    }
   ],
   "source": [
    "passwords.shape"
   ]
  },
  {
   "cell_type": "code",
   "execution_count": 7,
   "metadata": {
    "collapsed": false
   },
   "outputs": [
    {
     "data": {
      "text/plain": [
       "(2150218L,)"
      ]
     },
     "execution_count": 7,
     "metadata": {},
     "output_type": "execute_result"
    }
   ],
   "source": [
    "# check how many unique passwords\n",
    "uniq_passwords = passwords.password.unique()\n",
    "uniq_passwords.shape"
   ]
  },
  {
   "cell_type": "markdown",
   "metadata": {},
   "source": [
    "**NOTE**: From the above briefly exploration, we know that we have successfully loaded the data. The total number of records is 2,151,205 which is exactly the number as described. There are 2,150,218 unique records, suggesting only a small subset of passwords has duplication."
   ]
  },
  {
   "cell_type": "markdown",
   "metadata": {},
   "source": [
    "## Step 4. Data Preprocess\n",
    "\n",
    "To gain more inside about the passwords, I will prepocess the password. To facilitate the preprocessing, I have create a few helper functions to check if the password contains letters, capital letters, numbers as well as symbols."
   ]
  },
  {
   "cell_type": "code",
   "execution_count": 8,
   "metadata": {
    "collapsed": false
   },
   "outputs": [],
   "source": [
    "# define some helper functions\n",
    "\n",
    "import re\n",
    "def hasLetters(x):\n",
    "    return any(re.match('[a-zA-Z]', char) for char in str(x))\n",
    "\n",
    "def hasCapLetters(x):\n",
    "    return any(re.match('[A-Z]', char) for char in str(x))\n",
    "\n",
    "def hasNumbers(x):\n",
    "    return any(char.isdigit() for char in str(x)) \n",
    "\n",
    "def hasSymbols(x):\n",
    "    sym = set('~!@#$%^&*(){}:.[]`;,\"=<>\\\\/_ ?+-|\\'')\n",
    "    return any((c in sym) for c in str(x))"
   ]
  },
  {
   "cell_type": "markdown",
   "metadata": {},
   "source": [
    "Add five columns (hasLetters, hasCapLetters, HasNumbers, hasSymbols, length) into the existing dataframe. As you will find out, the datatype of the first four columns is boolean and the data type of length is integer."
   ]
  },
  {
   "cell_type": "code",
   "execution_count": 9,
   "metadata": {
    "collapsed": false
   },
   "outputs": [],
   "source": [
    "# add more columns\n",
    "\n",
    "passwords['hasLetters'] = passwords.password.map(lambda x: hasLetters(x))\n",
    "passwords['hasCapLetters'] = passwords.password.map(lambda x: hasCapLetters(x))\n",
    "passwords['hasNumbers'] = passwords.password.map(lambda x: hasNumbers(x))\n",
    "passwords['hasSymbols'] = passwords.password.map(lambda x: hasSymbols(x))\n",
    "passwords['length'] = passwords.password.map(lambda x: len(str(x)))"
   ]
  },
  {
   "cell_type": "code",
   "execution_count": 10,
   "metadata": {
    "collapsed": false
   },
   "outputs": [
    {
     "data": {
      "text/html": [
       "<div>\n",
       "<table border=\"1\" class=\"dataframe\">\n",
       "  <thead>\n",
       "    <tr style=\"text-align: right;\">\n",
       "      <th></th>\n",
       "      <th>password</th>\n",
       "      <th>hasLetters</th>\n",
       "      <th>hasCapLetters</th>\n",
       "      <th>hasNumbers</th>\n",
       "      <th>hasSymbols</th>\n",
       "      <th>length</th>\n",
       "    </tr>\n",
       "  </thead>\n",
       "  <tbody>\n",
       "    <tr>\n",
       "      <th>0</th>\n",
       "      <td>!</td>\n",
       "      <td>False</td>\n",
       "      <td>False</td>\n",
       "      <td>False</td>\n",
       "      <td>True</td>\n",
       "      <td>1</td>\n",
       "    </tr>\n",
       "    <tr>\n",
       "      <th>1</th>\n",
       "      <td>! love you</td>\n",
       "      <td>True</td>\n",
       "      <td>False</td>\n",
       "      <td>False</td>\n",
       "      <td>True</td>\n",
       "      <td>10</td>\n",
       "    </tr>\n",
       "    <tr>\n",
       "      <th>2</th>\n",
       "      <td>!!</td>\n",
       "      <td>False</td>\n",
       "      <td>False</td>\n",
       "      <td>False</td>\n",
       "      <td>True</td>\n",
       "      <td>2</td>\n",
       "    </tr>\n",
       "    <tr>\n",
       "      <th>3</th>\n",
       "      <td>!!!</td>\n",
       "      <td>False</td>\n",
       "      <td>False</td>\n",
       "      <td>False</td>\n",
       "      <td>True</td>\n",
       "      <td>3</td>\n",
       "    </tr>\n",
       "    <tr>\n",
       "      <th>4</th>\n",
       "      <td>!!!!!</td>\n",
       "      <td>False</td>\n",
       "      <td>False</td>\n",
       "      <td>False</td>\n",
       "      <td>True</td>\n",
       "      <td>5</td>\n",
       "    </tr>\n",
       "  </tbody>\n",
       "</table>\n",
       "</div>"
      ],
      "text/plain": [
       "     password hasLetters hasCapLetters hasNumbers hasSymbols  length\n",
       "0           !      False         False      False       True       1\n",
       "1  ! love you       True         False      False       True      10\n",
       "2          !!      False         False      False       True       2\n",
       "3         !!!      False         False      False       True       3\n",
       "4       !!!!!      False         False      False       True       5"
      ]
     },
     "execution_count": 10,
     "metadata": {},
     "output_type": "execute_result"
    }
   ],
   "source": [
    "# check how the data look now\n",
    "\n",
    "passwords.head(5)"
   ]
  },
  {
   "cell_type": "markdown",
   "metadata": {},
   "source": [
    "# Step 5. Analyze the Data\n",
    "\n",
    "## 5.1. Analysis of the password length "
   ]
  },
  {
   "cell_type": "code",
   "execution_count": 12,
   "metadata": {
    "collapsed": false
   },
   "outputs": [
    {
     "name": "stdout",
     "output_type": "stream",
     "text": [
      "The minimal password length is: 1\n"
     ]
    }
   ],
   "source": [
    "# check minimal length\n",
    "\n",
    "print \"The minimal password length is: {}\".format(passwords['length'].min())"
   ]
  },
  {
   "cell_type": "code",
   "execution_count": 13,
   "metadata": {
    "collapsed": false
   },
   "outputs": [
    {
     "name": "stdout",
     "output_type": "stream",
     "text": [
      "The maximal password length is: 35\n"
     ]
    }
   ],
   "source": [
    "# check maximal length\n",
    "\n",
    "print \"The maximal password length is: {}\".format(passwords['length'].max())"
   ]
  },
  {
   "cell_type": "code",
   "execution_count": 14,
   "metadata": {
    "collapsed": false
   },
   "outputs": [
    {
     "data": {
      "text/html": [
       "<div>\n",
       "<table border=\"1\" class=\"dataframe\">\n",
       "  <thead>\n",
       "    <tr style=\"text-align: right;\">\n",
       "      <th></th>\n",
       "      <th>password</th>\n",
       "      <th>hasLetters</th>\n",
       "      <th>hasCapLetters</th>\n",
       "      <th>hasNumbers</th>\n",
       "      <th>hasSymbols</th>\n",
       "      <th>length</th>\n",
       "    </tr>\n",
       "  </thead>\n",
       "  <tbody>\n",
       "    <tr>\n",
       "      <th>1029</th>\n",
       "      <td>==)!)(=\\r\\n&gt;&lt;script&gt;alert(1)&lt;/script&gt;</td>\n",
       "      <td>True</td>\n",
       "      <td>False</td>\n",
       "      <td>True</td>\n",
       "      <td>True</td>\n",
       "      <td>35</td>\n",
       "    </tr>\n",
       "  </tbody>\n",
       "</table>\n",
       "</div>"
      ],
      "text/plain": [
       "                                   password hasLetters hasCapLetters  \\\n",
       "1029  ==)!)(=\\r\\n><script>alert(1)</script>       True         False   \n",
       "\n",
       "     hasNumbers hasSymbols  length  \n",
       "1029       True       True      35  "
      ]
     },
     "execution_count": 14,
     "metadata": {},
     "output_type": "execute_result"
    }
   ],
   "source": [
    "# check how does the longest password look like\n",
    "\n",
    "passwords[passwords['length'] == 35]"
   ]
  },
  {
   "cell_type": "code",
   "execution_count": 15,
   "metadata": {
    "collapsed": false
   },
   "outputs": [
    {
     "name": "stdout",
     "output_type": "stream",
     "text": [
      "The average length of password is: 8.37062065215\n",
      "The standard deviation of average password length is: 1.99751382236\n"
     ]
    }
   ],
   "source": [
    "# check the average length of password\n",
    "\n",
    "print \"The average length of password is: {}\".format(passwords['length'].mean())\n",
    "print \"The standard deviation of average password length is: {}\".format(passwords['length'].std())"
   ]
  },
  {
   "cell_type": "code",
   "execution_count": 97,
   "metadata": {
    "collapsed": false
   },
   "outputs": [
    {
     "data": {
      "text/plain": [
       "<matplotlib.axes._subplots.AxesSubplot at 0x1df93d68>"
      ]
     },
     "execution_count": 97,
     "metadata": {},
     "output_type": "execute_result"
    },
    {
     "data": {
      "image/png": "[encoded data removed]",
      "text/plain": [
       "<matplotlib.figure.Figure at 0x3b125d30>"
      ]
     },
     "metadata": {},
     "output_type": "display_data"
    }
   ],
   "source": [
    "# check the central tendency \n",
    "\n",
    "sns.boxplot(passwords.length)"
   ]
  },
  {
   "cell_type": "code",
   "execution_count": 16,
   "metadata": {
    "collapsed": false
   },
   "outputs": [
    {
     "data": {
      "image/png": "[encoded data removed]",
      "text/plain": [
       "<matplotlib.figure.Figure at 0x11a22b00>"
      ]
     },
     "metadata": {},
     "output_type": "display_data"
    }
   ],
   "source": [
    "# check the length distribution\n",
    "\n",
    "fig = plt.figure(figsize=(12,5)) \n",
    "plt.hist(passwords.length, bins=35)\n",
    "\n",
    "plt.ylabel('Frequency', fontsize = 14)\n",
    "plt.xlabel('Length', fontsize=14)\n",
    "\n",
    "plt.show()"
   ]
  },
  {
   "cell_type": "markdown",
   "metadata": {},
   "source": [
    "**NOTE**: After analyzing the password length, we know that the average length is about 8. The majority of passwords have length from 6 to 10. There are a few extrem cases such as the one with length 35."
   ]
  },
  {
   "cell_type": "markdown",
   "metadata": {},
   "source": [
    "## 5.2. Analysis the basic composition of passwords"
   ]
  },
  {
   "cell_type": "code",
   "execution_count": 17,
   "metadata": {
    "collapsed": false
   },
   "outputs": [
    {
     "name": "stdout",
     "output_type": "stream",
     "text": [
      "The percentage of password has number is: 72.81%\n"
     ]
    }
   ],
   "source": [
    "# check what percent password has number\n",
    "\n",
    "total_rec = passwords.shape[0]\n",
    "pct_number = passwords[passwords['hasNumbers']==True].shape[0] / float(total_rec) * 100\n",
    "print \"The percentage of password has number is: {:.2f}%\".format(pct_number)"
   ]
  },
  {
   "cell_type": "code",
   "execution_count": 18,
   "metadata": {
    "collapsed": false
   },
   "outputs": [
    {
     "name": "stdout",
     "output_type": "stream",
     "text": [
      "The percentage of password has letter is: 76.44%\n"
     ]
    }
   ],
   "source": [
    "# check what percent password has letter\n",
    "\n",
    "pct_letter = passwords[passwords['hasLetters']==True].shape[0] / float(total_rec) * 100\n",
    "print \"The percentage of password has letter is: {:.2f}%\".format(pct_letter)"
   ]
  },
  {
   "cell_type": "code",
   "execution_count": 19,
   "metadata": {
    "collapsed": false
   },
   "outputs": [
    {
     "name": "stdout",
     "output_type": "stream",
     "text": [
      "The percentage of password has capital letter is: 9.53%\n"
     ]
    }
   ],
   "source": [
    "# check what percent password has capital letter\n",
    "\n",
    "pct_capletter = passwords[passwords['hasCapLetters']==True].shape[0] / float(total_rec) * 100\n",
    "print \"The percentage of password has capital letter is: {:.2f}%\".format(pct_capletter)"
   ]
  },
  {
   "cell_type": "code",
   "execution_count": 20,
   "metadata": {
    "collapsed": false
   },
   "outputs": [
    {
     "name": "stdout",
     "output_type": "stream",
     "text": [
      "The percentage of password has symbol is: 3.06%\n"
     ]
    }
   ],
   "source": [
    "# check what percent password has symbol\n",
    "\n",
    "pct_symbol = passwords[passwords['hasSymbols']==True].shape[0] / float(total_rec) * 100\n",
    "print \"The percentage of password has symbol is: {:.2f}%\".format(pct_symbol)"
   ]
  },
  {
   "cell_type": "code",
   "execution_count": 21,
   "metadata": {
    "collapsed": false
   },
   "outputs": [
    {
     "name": "stdout",
     "output_type": "stream",
     "text": [
      "The percentage of password has number only is: 23.23%\n"
     ]
    }
   ],
   "source": [
    "# check what percent password has number only\n",
    "\n",
    "pct_numonly = passwords[(passwords['hasLetters']==False) & (passwords['hasSymbols']==False)].shape[0] / float(total_rec) * 100\n",
    "print \"The percentage of password has number only is: {:.2f}%\".format(pct_numonly)"
   ]
  },
  {
   "cell_type": "code",
   "execution_count": 47,
   "metadata": {
    "collapsed": false
   },
   "outputs": [
    {
     "name": "stdout",
     "output_type": "stream",
     "text": [
      "The percentage of password has letter only is: 26.17%\n"
     ]
    }
   ],
   "source": [
    "# check what percent password has letter only\n",
    "\n",
    "pct_letonly = passwords[(passwords['hasNumbers']==False) & (passwords['hasSymbols']==False)].shape[0] / float(total_rec) * 100\n",
    "print \"The percentage of password has letter only is: {:.2f}%\".format(pct_letonly)"
   ]
  },
  {
   "cell_type": "code",
   "execution_count": 52,
   "metadata": {
    "collapsed": false
   },
   "outputs": [
    {
     "name": "stdout",
     "output_type": "stream",
     "text": [
      "The percentage of password has symbol only is: 0.02%\n"
     ]
    }
   ],
   "source": [
    "# check what percent password has symbol only\n",
    "\n",
    "pct_symonly = passwords[(passwords['hasNumbers']==False) & (passwords['hasLetters']==False)].shape[0] / float(total_rec) * 100\n",
    "print \"The percentage of password has symbol only is: {:.2f}%\".format(pct_symonly)"
   ]
  },
  {
   "cell_type": "code",
   "execution_count": 51,
   "metadata": {
    "collapsed": false
   },
   "outputs": [
    {
     "name": "stdout",
     "output_type": "stream",
     "text": [
      "The percentage of password has all three components is: 1.73% \n"
     ]
    }
   ],
   "source": [
    "pct_all = passwords[(passwords['hasLetters']==True) & (passwords['hasSymbols']==True)& (passwords['hasNumbers']==True)] \\\n",
    "          .shape[0] / float(total_rec) * 100\n",
    "print \"The percentage of password has all three components is: {:.2f}% \".format(pct_all)"
   ]
  },
  {
   "cell_type": "code",
   "execution_count": 110,
   "metadata": {
    "collapsed": false
   },
   "outputs": [
    {
     "data": {
      "image/png": "[encoded data removed]",
      "text/plain": [
       "<matplotlib.figure.Figure at 0x520e8710>"
      ]
     },
     "metadata": {},
     "output_type": "display_data"
    }
   ],
   "source": [
    "temp1 = passwords['hasNumbers'].value_counts(ascending=True, normalize=True)*100\n",
    "temp2 = passwords['hasLetters'].value_counts(ascending=True, normalize=True)*100\n",
    "temp3 = passwords['hasCapLetters'].value_counts(ascending=False, normalize=True)*100\n",
    "temp4 = passwords['hasSymbols'].value_counts(ascending=False, normalize=True)*100\n",
    "\n",
    "fig = plt.figure(figsize=(14,7))\n",
    "fig.suptitle('Composition of Password', y=1.05,fontsize=18, fontweight='bold')\n",
    "\n",
    "labels = ('No', 'Yes')\n",
    "colors = ['yellowgreen', 'skyblue']\n",
    "explode = (0, 0.1)\n",
    "\n",
    "ax1 = fig.add_subplot(241, sharey=ax1)\n",
    "ax1.set_title(\"Has Numbers\" , fontsize=14)\n",
    "plt.pie(temp1,explode=explode,autopct='%1.1f%%', colors=colors, labels = labels, shadow=True, startangle=15,\\\n",
    "        radius=.9)\n",
    "\n",
    "ax2 = fig.add_subplot(242, sharey=ax1)\n",
    "ax2.set_title(\"Has Letters\" , fontsize=14)\n",
    "plt.pie(temp2,explode=explode,autopct='%1.1f%%', colors=colors, labels = labels, shadow=True, startangle=15,\\\n",
    "        radius=.9)\n",
    "\n",
    "ax3 = fig.add_subplot(243, sharey=ax1)\n",
    "ax3.set_title(\"Has CapLetters\" , fontsize=14)\n",
    "plt.pie(temp3,explode=explode, autopct='%1.1f%%', colors=colors, labels = labels, shadow=True, startangle=15,\\\n",
    "        radius=.9)\n",
    "\n",
    "ax4 = fig.add_subplot(244, sharey=ax1)\n",
    "ax4.set_title(\"Has Symbols\" , fontsize=14)\n",
    "plt.pie(temp4,explode=explode, autopct='%1.1f%%', colors=colors, labels = labels, shadow=True, startangle=15,\\\n",
    "        radius=.9)\n",
    "\n",
    "ax5 = fig.add_subplot(245)\n",
    "ax5.set_title(\"Number Only\" , fontsize=14)\n",
    "plt.pie((pct_numonly, 100 - pct_numonly),autopct='%1.1f%%', explode=explode,colors=colors, labels = labels, shadow=True, \\\n",
    "        startangle=15, radius=.9)\n",
    "\n",
    "ax6 = fig.add_subplot(246, sharey=ax5)\n",
    "ax6.set_title(\"Letter Only\" , fontsize=14)\n",
    "plt.pie((pct_letonly, 100 - pct_letonly),explode=explode,autopct='%1.1f%%', colors=colors, labels = labels, shadow=True, \\\n",
    "        startangle=15, radius=.9)\n",
    "\n",
    "ax7 = fig.add_subplot(247, sharey=ax5)\n",
    "ax7.set_title(\"Symbol Only\" , fontsize=14)\n",
    "plt.pie((pct_symonly, 100 - pct_symonly),explode=explode, autopct='%1.1f%%', colors=colors, labels = labels, shadow=True,\\\n",
    "        startangle=15, radius=.9)\n",
    "\n",
    "ax8 = fig.add_subplot(248, sharey=ax5)\n",
    "ax8.set_title(\"All Three\" , fontsize=14)\n",
    "plt.pie((pct_all, 100 - pct_all),explode=explode, autopct='%1.1f%%', colors=colors, labels = labels, shadow=True,\\\n",
    "        startangle=15,radius=.9)\n",
    "\n",
    "plt.show()"
   ]
  },
  {
   "cell_type": "markdown",
   "metadata": {},
   "source": [
    "**NOTE**: From the above analysis, we know that less than 10% of passwords has capital letters and only about 3% of passwords has special characters (symbols). About half of the passwords consist of only one type of components and 1.7% percent of the password consist of all three components, suggesting that complexity of password is not so good. As you may know that a strong password usually requires at least one capital letter and at least one special characters. This may partitally explain why these passwords were hijacked."
   ]
  },
  {
   "cell_type": "markdown",
   "metadata": {
    "collapsed": true
   },
   "source": [
    "## 5.3. Analysis the detailed composition of each password\n",
    "\n",
    "To analyze the detailed composition of each password, I have created three functions which calculate the composition percentage of letters, numbers and symbols in each password. "
   ]
  },
  {
   "cell_type": "code",
   "execution_count": 24,
   "metadata": {
    "collapsed": false
   },
   "outputs": [],
   "source": [
    "def pct_letter(x):\n",
    "    \n",
    "    l = float(len(str(x)))\n",
    "    p = 0\n",
    "    for char in str(x):\n",
    "        if re.match('[a-zA-Z]', char):\n",
    "            p += 1\n",
    "    return round(p / l * 100,2)   \n",
    "\n",
    "def pct_number(x):\n",
    "    \n",
    "    l = float(len(str(x)))\n",
    "    p = 0\n",
    "    for char in str(x):\n",
    "        if str(char).isdigit():\n",
    "            p += 1\n",
    "    return round(p / l * 100,2)  \n",
    "\n",
    "def pct_symbol(x):\n",
    "    sym = set('~!@#$%^&*(){}:.[]`;,\"=<>\\\\/_ ?+-|\\'')\n",
    "    l = float(len(str(x)))\n",
    "    p = 0\n",
    "    for char in str(x):\n",
    "        if char in sym:\n",
    "            p += 1\n",
    "    return round(p / l * 100,2)  "
   ]
  },
  {
   "cell_type": "markdown",
   "metadata": {},
   "source": [
    "Add three more columns (pctLetters, pctSymbols, pctNumbers) to the dataframe. Each column contains the value of the percentage of corresponding components."
   ]
  },
  {
   "cell_type": "code",
   "execution_count": 25,
   "metadata": {
    "collapsed": false
   },
   "outputs": [],
   "source": [
    "passwords['pctLetters'] = passwords.password.map(lambda x: pct_letter(x))\n",
    "passwords['pctSymbols'] = passwords.password.map(lambda x: pct_symbol(x))\n",
    "passwords['pctNumbers'] = passwords.password.map(lambda x: pct_number(x))"
   ]
  },
  {
   "cell_type": "markdown",
   "metadata": {},
   "source": [
    "Chech how does the data look like "
   ]
  },
  {
   "cell_type": "code",
   "execution_count": 26,
   "metadata": {
    "collapsed": false
   },
   "outputs": [
    {
     "data": {
      "text/html": [
       "<div>\n",
       "<table border=\"1\" class=\"dataframe\">\n",
       "  <thead>\n",
       "    <tr style=\"text-align: right;\">\n",
       "      <th></th>\n",
       "      <th>password</th>\n",
       "      <th>hasLetters</th>\n",
       "      <th>hasCapLetters</th>\n",
       "      <th>hasNumbers</th>\n",
       "      <th>hasSymbols</th>\n",
       "      <th>length</th>\n",
       "      <th>pctLetters</th>\n",
       "      <th>pctSymbols</th>\n",
       "      <th>pctNumbers</th>\n",
       "    </tr>\n",
       "  </thead>\n",
       "  <tbody>\n",
       "    <tr>\n",
       "      <th>0</th>\n",
       "      <td>!</td>\n",
       "      <td>False</td>\n",
       "      <td>False</td>\n",
       "      <td>False</td>\n",
       "      <td>True</td>\n",
       "      <td>1</td>\n",
       "      <td>0.0</td>\n",
       "      <td>100.0</td>\n",
       "      <td>0.0</td>\n",
       "    </tr>\n",
       "    <tr>\n",
       "      <th>1</th>\n",
       "      <td>! love you</td>\n",
       "      <td>True</td>\n",
       "      <td>False</td>\n",
       "      <td>False</td>\n",
       "      <td>True</td>\n",
       "      <td>10</td>\n",
       "      <td>70.0</td>\n",
       "      <td>30.0</td>\n",
       "      <td>0.0</td>\n",
       "    </tr>\n",
       "    <tr>\n",
       "      <th>2</th>\n",
       "      <td>!!</td>\n",
       "      <td>False</td>\n",
       "      <td>False</td>\n",
       "      <td>False</td>\n",
       "      <td>True</td>\n",
       "      <td>2</td>\n",
       "      <td>0.0</td>\n",
       "      <td>100.0</td>\n",
       "      <td>0.0</td>\n",
       "    </tr>\n",
       "    <tr>\n",
       "      <th>3</th>\n",
       "      <td>!!!</td>\n",
       "      <td>False</td>\n",
       "      <td>False</td>\n",
       "      <td>False</td>\n",
       "      <td>True</td>\n",
       "      <td>3</td>\n",
       "      <td>0.0</td>\n",
       "      <td>100.0</td>\n",
       "      <td>0.0</td>\n",
       "    </tr>\n",
       "    <tr>\n",
       "      <th>4</th>\n",
       "      <td>!!!!!</td>\n",
       "      <td>False</td>\n",
       "      <td>False</td>\n",
       "      <td>False</td>\n",
       "      <td>True</td>\n",
       "      <td>5</td>\n",
       "      <td>0.0</td>\n",
       "      <td>100.0</td>\n",
       "      <td>0.0</td>\n",
       "    </tr>\n",
       "  </tbody>\n",
       "</table>\n",
       "</div>"
      ],
      "text/plain": [
       "     password hasLetters hasCapLetters hasNumbers hasSymbols  length  \\\n",
       "0           !      False         False      False       True       1   \n",
       "1  ! love you       True         False      False       True      10   \n",
       "2          !!      False         False      False       True       2   \n",
       "3         !!!      False         False      False       True       3   \n",
       "4       !!!!!      False         False      False       True       5   \n",
       "\n",
       "   pctLetters  pctSymbols  pctNumbers  \n",
       "0         0.0       100.0         0.0  \n",
       "1        70.0        30.0         0.0  \n",
       "2         0.0       100.0         0.0  \n",
       "3         0.0       100.0         0.0  \n",
       "4         0.0       100.0         0.0  "
      ]
     },
     "execution_count": 26,
     "metadata": {},
     "output_type": "execute_result"
    }
   ],
   "source": [
    "passwords.head(5)"
   ]
  },
  {
   "cell_type": "markdown",
   "metadata": {},
   "source": [
    "From my cxploratory process, I know there are only two passwords with length over 30. Since there is only one record for each case, I will remove them for further analysis."
   ]
  },
  {
   "cell_type": "code",
   "execution_count": 27,
   "metadata": {
    "collapsed": false
   },
   "outputs": [
    {
     "data": {
      "text/html": [
       "<div>\n",
       "<table border=\"1\" class=\"dataframe\">\n",
       "  <thead>\n",
       "    <tr style=\"text-align: right;\">\n",
       "      <th></th>\n",
       "      <th>password</th>\n",
       "      <th>hasLetters</th>\n",
       "      <th>hasCapLetters</th>\n",
       "      <th>hasNumbers</th>\n",
       "      <th>hasSymbols</th>\n",
       "      <th>length</th>\n",
       "      <th>pctLetters</th>\n",
       "      <th>pctSymbols</th>\n",
       "      <th>pctNumbers</th>\n",
       "    </tr>\n",
       "  </thead>\n",
       "  <tbody>\n",
       "    <tr>\n",
       "      <th>1021</th>\n",
       "      <td>\\r\\n\"!@!?@*\\\\r\\n\"\"\"\"\\r\\n\"132\\r\\n&amp;A!R&amp;(</td>\n",
       "      <td>True</td>\n",
       "      <td>True</td>\n",
       "      <td>True</td>\n",
       "      <td>True</td>\n",
       "      <td>30</td>\n",
       "      <td>6.67</td>\n",
       "      <td>56.67</td>\n",
       "      <td>10.00</td>\n",
       "    </tr>\n",
       "    <tr>\n",
       "      <th>1029</th>\n",
       "      <td>==)!)(=\\r\\n&gt;&lt;script&gt;alert(1)&lt;/script&gt;</td>\n",
       "      <td>True</td>\n",
       "      <td>False</td>\n",
       "      <td>True</td>\n",
       "      <td>True</td>\n",
       "      <td>35</td>\n",
       "      <td>48.57</td>\n",
       "      <td>42.86</td>\n",
       "      <td>2.86</td>\n",
       "    </tr>\n",
       "  </tbody>\n",
       "</table>\n",
       "</div>"
      ],
      "text/plain": [
       "                                    password hasLetters hasCapLetters  \\\n",
       "1021  \\r\\n\"!@!?@*\\\\r\\n\"\"\"\"\\r\\n\"132\\r\\n&A!R&(       True          True   \n",
       "1029   ==)!)(=\\r\\n><script>alert(1)</script>       True         False   \n",
       "\n",
       "     hasNumbers hasSymbols  length  pctLetters  pctSymbols  pctNumbers  \n",
       "1021       True       True      30        6.67       56.67       10.00  \n",
       "1029       True       True      35       48.57       42.86        2.86  "
      ]
     },
     "execution_count": 27,
     "metadata": {},
     "output_type": "execute_result"
    }
   ],
   "source": [
    "# check length equal or more than 30\n",
    "\n",
    "passwords[passwords['length']>=30]"
   ]
  },
  {
   "cell_type": "code",
   "execution_count": 42,
   "metadata": {
    "collapsed": false
   },
   "outputs": [],
   "source": [
    "# filter length equal or more than 30\n",
    "\n",
    "df = passwords[passwords['length']<30]\n",
    "\n",
    "sym_mean = df['pctSymbols'].groupby(df['length']).mean()\n",
    "let_mean = df['pctLetters'].groupby(df['length']).mean()\n",
    "num_mean = df['pctNumbers'].groupby(df['length']).mean()\n",
    "\n",
    "len_unique = df['length'].unique()"
   ]
  },
  {
   "cell_type": "code",
   "execution_count": 188,
   "metadata": {
    "collapsed": false
   },
   "outputs": [
    {
     "data": {
      "image/png": "[encoded data removed]",
      "text/plain": [
       "<matplotlib.figure.Figure at 0x223af400>"
      ]
     },
     "metadata": {},
     "output_type": "display_data"
    }
   ],
   "source": [
    "fig, ax = plt.subplots(1, figsize=(16,6))\n",
    "\n",
    "bar_width = .8\n",
    "\n",
    "bar_1 = [ i + 1 for i in range(len(len_unique))]\n",
    "\n",
    "tick_pos = [i + (bar_width/2) for i in bar_1]\n",
    "\n",
    "ax.bar(bar_1,num_mean, bar_width, color = 'skyblue', label='Numbers') # add error bar - yerr=num_std)\n",
    "ax.bar(bar_1,let_mean, bar_width, bottom=num_mean,  color = 'yellowgreen', label='Letters') \n",
    "ax.bar(bar_1,sym_mean, bar_width, bottom=[i+j for i,j in zip(num_mean,let_mean)], color = 'c', label='Symbols') \n",
    "\n",
    "# set the x ticks with names\n",
    "plt.xticks(tick_pos, len_unique)\n",
    "\n",
    "# Set the label and legends\n",
    "ax.set_ylabel(\"Total Average Percent\", fontsize = 16)\n",
    "ax.set_xlabel(\"Password Length\", fontsize = 16)\n",
    "plt.legend(loc='upper right', prop={'size':12})\n",
    "\n",
    "# Set a buffer around the edge\n",
    "plt.xlim([min(tick_pos)-bar_width, max(tick_pos)+bar_width])\n",
    "\n",
    "plt.show()"
   ]
  },
  {
   "cell_type": "markdown",
   "metadata": {},
   "source": [
    "**NOTE**: For this above figure, we can see that password either short or long has relative high percentage of symbol characters. The password with length ranging from 5 to 12 has very low percent of special symbol character. As we have see from previous analysis, the passwords with length 6 to 10 are dominate in this dataset. This result may partially explain why these passwords got hijacked."
   ]
  },
  {
   "cell_type": "code",
   "execution_count": null,
   "metadata": {
    "collapsed": true
   },
   "outputs": [],
   "source": []
  },
  {
   "cell_type": "markdown",
   "metadata": {},
   "source": [
    "# Step 6. Clustering\n",
    "\n",
    "Because of the limit computation resource, for the following analysis, I will focus on a subset of passwords with length 8 since it is the dominant category of length."
   ]
  },
  {
   "cell_type": "code",
   "execution_count": 227,
   "metadata": {
    "collapsed": false
   },
   "outputs": [],
   "source": [
    "series = passwords['password']"
   ]
  },
  {
   "cell_type": "code",
   "execution_count": 228,
   "metadata": {
    "collapsed": false
   },
   "outputs": [],
   "source": [
    "def converter(string):\n",
    "    string = str(string).lower()\n",
    "    \n",
    "    col_tpl = tuple('0123456789abcdefghigklmnopqrstuvwxyz~!@#$%^&*(){}:.[]`;,\"=<>\\\\/_ ?+-|\\'')\n",
    "    col_dict = {}\n",
    "   \n",
    "    for item in string:\n",
    "        if item in col_tpl:\n",
    "            col_dict[item] = 1\n",
    "            \n",
    "    return col_dict        "
   ]
  },
  {
   "cell_type": "code",
   "execution_count": 229,
   "metadata": {
    "collapsed": false
   },
   "outputs": [],
   "source": [
    "data_dict = series.map(lambda x: converter(x))"
   ]
  },
  {
   "cell_type": "code",
   "execution_count": 231,
   "metadata": {
    "collapsed": false
   },
   "outputs": [
    {
     "name": "stdout",
     "output_type": "stream",
     "text": [
      "RangeIndex(start=0, stop=2151205, step=1)\n"
     ]
    }
   ],
   "source": [
    "print data_dict.keys()"
   ]
  },
  {
   "cell_type": "code",
   "execution_count": 232,
   "metadata": {
    "collapsed": false
   },
   "outputs": [
    {
     "data": {
      "text/plain": [
       "0                                            {u'!': 1}\n",
       "1    {u'!': 1, u' ': 1, u'e': 1, u'l': 1, u'o': 1, ...\n",
       "2                                            {u'!': 1}\n",
       "3                                            {u'!': 1}\n",
       "4                                            {u'!': 1}\n",
       "Name: password, dtype: object"
      ]
     },
     "execution_count": 232,
     "metadata": {},
     "output_type": "execute_result"
    }
   ],
   "source": [
    "d_dict = series[:5].map(lambda x: converter(x))"
   ]
  },
  {
   "cell_type": "code",
   "execution_count": null,
   "metadata": {
    "collapsed": true
   },
   "outputs": [],
   "source": [
    "def map(d):\n",
    "    \n",
    "    col_tpl = tuple('0123456789abcdefghigklmnopqrstuvwxyz~!@#$%^&*(){}:.[]`;,\"=<>\\\\/_ ?+-|\\'')\n",
    "    col_dict = {}\n",
    "    for key in col_tpl:\n",
    "        if key not in d:\n",
    "            "
   ]
  },
  {
   "cell_type": "code",
   "execution_count": 156,
   "metadata": {
    "collapsed": false
   },
   "outputs": [
    {
     "name": "stdout",
     "output_type": "stream",
     "text": [
      "[  9.94447184e-01   5.45501252e-03   4.80773221e-05   3.31569492e-05\n",
      "   1.41553834e-05   2.41400982e-06   4.20744512e-25]\n"
     ]
    }
   ],
   "source": [
    "from sklearn.decomposition import PCA\n",
    "\n",
    "pca = PCA(7).fit(data)\n",
    "\n",
    "# print out explained variance ratio\n",
    "print(pca.explained_variance_ratio_)"
   ]
  },
  {
   "cell_type": "code",
   "execution_count": 157,
   "metadata": {
    "collapsed": true
   },
   "outputs": [],
   "source": [
    "pca = PCA(2).fit(data)\n",
    "\n",
    "reduced_df = pca.transform(data)\n",
    "reduced_df = pd.DataFrame(reduced_df, columns = ['Dimension 1', 'Dimension 2'])"
   ]
  },
  {
   "cell_type": "code",
   "execution_count": 181,
   "metadata": {
    "collapsed": false
   },
   "outputs": [],
   "source": [
    "samples = data.head(3)\n",
    "pca_samples = pca.transform(samples)"
   ]
  },
  {
   "cell_type": "code",
   "execution_count": 160,
   "metadata": {
    "collapsed": false
   },
   "outputs": [
    {
     "data": {
      "text/plain": [
       "(6217, 2)"
      ]
     },
     "execution_count": 160,
     "metadata": {},
     "output_type": "execute_result"
    }
   ],
   "source": [
    "# get a subset of data because of \n",
    "\n",
    "reduced_df_subset = reduced_df.sample(frac=0.01, replace=False)\n",
    "reduced_df_subset.shape"
   ]
  },
  {
   "cell_type": "code",
   "execution_count": 161,
   "metadata": {
    "collapsed": false
   },
   "outputs": [
    {
     "name": "stdout",
     "output_type": "stream",
     "text": [
      "0.72078723171\n"
     ]
    }
   ],
   "source": [
    "from sklearn.cluster import KMeans\n",
    "from sklearn.metrics import silhouette_score\n",
    "\n",
    "\n",
    "clusters = KMeans(n_clusters = 4, random_state = 0).fit(reduced_df_subset)\n",
    "    \n",
    "preds = clusters.predict(reduced_df_subset)\n",
    "centers = clusters.cluster_centers_\n",
    "    \n",
    "score = silhouette_score(reduced_df_subset, preds)\n",
    "   \n",
    "print score"
   ]
  },
  {
   "cell_type": "code",
   "execution_count": 182,
   "metadata": {
    "collapsed": false
   },
   "outputs": [
    {
     "data": {
      "image/png": "[encoded data removed]",
      "text/plain": [
       "<matplotlib.figure.Figure at 0x25dfe080>"
      ]
     },
     "metadata": {},
     "output_type": "display_data"
    }
   ],
   "source": [
    "import renders as rs\n",
    "rs.cluster_results(reduced_df_subset, preds, centers, pca_samples)"
   ]
  },
  {
   "cell_type": "code",
   "execution_count": 128,
   "metadata": {
    "collapsed": false
   },
   "outputs": [
    {
     "data": {
      "text/html": [
       "<script>\n",
       "code_show=true; \n",
       "function code_toggle() {\n",
       " if (code_show){\n",
       " $('div.input').hide();\n",
       " } else {\n",
       " $('div.input').show();\n",
       " }\n",
       " code_show = !code_show\n",
       "} \n",
       "$( document ).ready(code_toggle);\n",
       "</script>\n",
       "<form action=\"javascript:code_toggle()\"><input type=\"submit\" value=\"Click here to toggle on/off the raw code.\"></form>"
      ],
      "text/plain": [
       "<IPython.core.display.HTML object>"
      ]
     },
     "execution_count": 128,
     "metadata": {},
     "output_type": "execute_result"
    }
   ],
   "source": [
    "from IPython.display import HTML\n",
    "\n",
    "HTML('''<script>\n",
    "code_show=true; \n",
    "function code_toggle() {\n",
    " if (code_show){\n",
    " $('div.input').hide();\n",
    " } else {\n",
    " $('div.input').show();\n",
    " }\n",
    " code_show = !code_show\n",
    "} \n",
    "$( document ).ready(code_toggle);\n",
    "</script>\n",
    "<form action=\"javascript:code_toggle()\"><input type=\"submit\" value=\"Click here to toggle on/off the raw code.\"></form>''')"
   ]
  },
  {
   "cell_type": "code",
   "execution_count": null,
   "metadata": {
    "collapsed": true
   },
   "outputs": [],
   "source": []
  }
 ],
 "metadata": {
  "kernelspec": {
   "display_name": "Python 2",
   "language": "python",
   "name": "python2"
  },
  "language_info": {
   "codemirror_mode": {
    "name": "ipython",
    "version": 2
   },
   "file_extension": ".py",
   "mimetype": "text/x-python",
   "name": "python",
   "nbconvert_exporter": "python",
   "pygments_lexer": "ipython2",
   "version": "2.7.12"
  }
 },
 "nbformat": 4,
 "nbformat_minor": 0
}
