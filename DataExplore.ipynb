{
 "cells": [
  {
   "cell_type": "markdown",
   "metadata": {},
   "source": [
    "### Data source [NCES](http://nces.ed.gov/ipeds/deltacostproject/)\n",
    "\n",
    "The data is publicly available from National Center of Education Statistics (NCES). The Integrated Postsecondary Education Data System (IPEDS) data includes academic years from 1987 through 2012. The data derived from the institutional characteristics, finance, enrollment, completions, graduation rates, student financial aid, and human resources IPEDS survey components and a limited number of outside sources. The database contains one observation per institution for each year of data that is available; it includes all institutions that reported institutional characteristic data to IPEDS in the fall of each academic year. \n",
    "\n",
    "To allow for trends analyses that are not affected by institutions entering or leaving the dataset, the database includes variables to identify panels of institutions that report data consistently over specified time periods. These institutional panels are referred to as “matched sets.” To be included in the matched set, an institution must have data on three measures—fall full-time equivalent (FTE) student enrollment, instructional expenditures, and student completions—for every year in the panel time period. There are three different matched sets that cover different time periods: 1987-2012, 2002-2012, and 2007-2012. \n",
    "\n",
    "By analysing the data, I try to answer the following questions:\n",
    "\n",
    "Minor questions:\n",
    "1. The trend of completition rate over the time period from 1987 through 2012\n",
    "2. The trend of total financial aid per student over the time period from 1987 through 2012\n",
    "3. The fraction of fragship institutions and what is the difference of completition rate between \n",
    "flagship institutions and non-flagship institutions\n",
    "4. Which state's institutes have the best balanced finance\n",
    "\n",
    "Major questions:\n",
    "1. What types of financial aid are most effective in maximizing completion rates?\n",
    "2. What types of financial aid are most effective in minimizing student loan burdens?\n",
    "3. What types of financial aid are most effective in maintaining well-funded schools?\n",
    "4. Establish a model to predict which institution will have better balanced financial\n"
   ]
  },
  {
   "cell_type": "code",
   "execution_count": 1,
   "metadata": {
    "collapsed": false
   },
   "outputs": [],
   "source": [
    "import numpy as np\n",
    "import pandas as pd\n",
    "from pandas import Series, DataFrame\n",
    "from IPython.display import display\n",
    "\n",
    "from matplotlib import pyplot as plt\n",
    "import seaborn as sns\n",
    "%matplotlib inline"
   ]
  },
  {
   "cell_type": "markdown",
   "metadata": {},
   "source": [
    "## Load Data"
   ]
  },
  {
   "cell_type": "code",
   "execution_count": 2,
   "metadata": {
    "collapsed": false
   },
   "outputs": [
    {
     "data": {
      "text/plain": [
       "(128053, 974)"
      ]
     },
     "execution_count": 2,
     "metadata": {},
     "output_type": "execute_result"
    }
   ],
   "source": [
    "dt_8799 = pd.read_csv('C:\\Users\\dbsnail\\machine-learning\\projects\\capstone\\delta_public_87_99.csv' , low_memory=False)\n",
    "dt_8799.shape"
   ]
  },
  {
   "cell_type": "code",
   "execution_count": 3,
   "metadata": {
    "collapsed": false
   },
   "outputs": [
    {
     "data": {
      "text/plain": [
       "(87560, 974)"
      ]
     },
     "execution_count": 3,
     "metadata": {},
     "output_type": "execute_result"
    }
   ],
   "source": [
    "dt_0012 = pd.read_csv('C:\\Users\\dbsnail\\machine-learning\\projects\\capstone\\delta_public_00_12.csv', low_memory=False)\n",
    "dt_0012.shape"
   ]
  },
  {
   "cell_type": "code",
   "execution_count": 4,
   "metadata": {
    "collapsed": false
   },
   "outputs": [
    {
     "data": {
      "text/html": [
       "<div>\n",
       "<table border=\"1\" class=\"dataframe\">\n",
       "  <thead>\n",
       "    <tr style=\"text-align: right;\">\n",
       "      <th></th>\n",
       "      <th>groupid</th>\n",
       "      <th>academicyear</th>\n",
       "      <th>unitid_linchpin</th>\n",
       "      <th>unitid</th>\n",
       "      <th>isgrouped</th>\n",
       "      <th>instname</th>\n",
       "      <th>TCSName</th>\n",
       "      <th>city</th>\n",
       "      <th>state</th>\n",
       "      <th>zip</th>\n",
       "      <th>...</th>\n",
       "      <th>Iptall1</th>\n",
       "      <th>Iptall2</th>\n",
       "      <th>Iptall3</th>\n",
       "      <th>Iptall4</th>\n",
       "      <th>Iptall5</th>\n",
       "      <th>Iptall6</th>\n",
       "      <th>Iptall7</th>\n",
       "      <th>Iptall8</th>\n",
       "      <th>Ifaculty_instr_headcount</th>\n",
       "      <th>Isalarytotal</th>\n",
       "    </tr>\n",
       "  </thead>\n",
       "  <tbody>\n",
       "    <tr>\n",
       "      <th>0</th>\n",
       "      <td>-475291</td>\n",
       "      <td>2012</td>\n",
       "      <td>475291</td>\n",
       "      <td>475291</td>\n",
       "      <td>0</td>\n",
       "      <td>Brown College-Brooklyn Center</td>\n",
       "      <td>NaN</td>\n",
       "      <td>Brooklyn Center</td>\n",
       "      <td>MN</td>\n",
       "      <td>55430</td>\n",
       "      <td>...</td>\n",
       "      <td>-2</td>\n",
       "      <td>-2</td>\n",
       "      <td>-2</td>\n",
       "      <td>-2</td>\n",
       "      <td>-2</td>\n",
       "      <td>-2</td>\n",
       "      <td>-2</td>\n",
       "      <td>-2</td>\n",
       "      <td>-2</td>\n",
       "      <td>-2</td>\n",
       "    </tr>\n",
       "    <tr>\n",
       "      <th>1</th>\n",
       "      <td>-475282</td>\n",
       "      <td>2012</td>\n",
       "      <td>475282</td>\n",
       "      <td>475282</td>\n",
       "      <td>0</td>\n",
       "      <td>Marian Health Careers Center-Van Nuys Campus</td>\n",
       "      <td>NaN</td>\n",
       "      <td>Van Nuys</td>\n",
       "      <td>CA</td>\n",
       "      <td>91411</td>\n",
       "      <td>...</td>\n",
       "      <td>-2</td>\n",
       "      <td>-2</td>\n",
       "      <td>-2</td>\n",
       "      <td>-2</td>\n",
       "      <td>-2</td>\n",
       "      <td>-2</td>\n",
       "      <td>-2</td>\n",
       "      <td>-2</td>\n",
       "      <td>-2</td>\n",
       "      <td>-2</td>\n",
       "    </tr>\n",
       "  </tbody>\n",
       "</table>\n",
       "<p>2 rows × 974 columns</p>\n",
       "</div>"
      ],
      "text/plain": [
       "   groupid  academicyear  unitid_linchpin  unitid  isgrouped  \\\n",
       "0  -475291          2012           475291  475291          0   \n",
       "1  -475282          2012           475282  475282          0   \n",
       "\n",
       "                                       instname TCSName             city  \\\n",
       "0                 Brown College-Brooklyn Center     NaN  Brooklyn Center   \n",
       "1  Marian Health Careers Center-Van Nuys Campus     NaN         Van Nuys   \n",
       "\n",
       "  state    zip      ...       Iptall1  Iptall2  Iptall3  Iptall4  Iptall5  \\\n",
       "0    MN  55430      ...            -2       -2       -2       -2       -2   \n",
       "1    CA  91411      ...            -2       -2       -2       -2       -2   \n",
       "\n",
       "   Iptall6  Iptall7  Iptall8  Ifaculty_instr_headcount  Isalarytotal  \n",
       "0       -2       -2       -2                        -2            -2  \n",
       "1       -2       -2       -2                        -2            -2  \n",
       "\n",
       "[2 rows x 974 columns]"
      ]
     },
     "execution_count": 4,
     "metadata": {},
     "output_type": "execute_result"
    }
   ],
   "source": [
    "dt_0012.head(2)"
   ]
  },
  {
   "cell_type": "code",
   "execution_count": 5,
   "metadata": {
    "collapsed": false
   },
   "outputs": [
    {
     "name": "stdout",
     "output_type": "stream",
     "text": [
      "<class 'pandas.core.frame.DataFrame'>\n",
      "RangeIndex: 87560 entries, 0 to 87559\n",
      "Columns: 974 entries, groupid to Isalarytotal\n",
      "dtypes: float64(550), int64(419), object(5)\n",
      "memory usage: 650.7+ MB\n"
     ]
    }
   ],
   "source": [
    "dt_0012.info()"
   ]
  },
  {
   "cell_type": "markdown",
   "metadata": {},
   "source": [
    "## Clean Data"
   ]
  },
  {
   "cell_type": "markdown",
   "metadata": {},
   "source": [
    "### Filter Columns contains \"imputation flag\" information"
   ]
  },
  {
   "cell_type": "code",
   "execution_count": 10,
   "metadata": {
    "collapsed": false
   },
   "outputs": [
    {
     "ename": "IndentationError",
     "evalue": "unindent does not match any outer indentation level (remove_cols.py, line 5)",
     "output_type": "error",
     "traceback": [
      "\u001b[1;36m  File \u001b[1;32m\"remove_cols.py\"\u001b[1;36m, line \u001b[1;32m5\u001b[0m\n\u001b[1;33m    return remove_cols\u001b[0m\n\u001b[1;37m                      ^\u001b[0m\n\u001b[1;31mIndentationError\u001b[0m\u001b[1;31m:\u001b[0m unindent does not match any outer indentation level\n"
     ]
    }
   ],
   "source": [
    "import remove_cols\n",
    "rm_cols = remove_cols.remove_cols()\n",
    "print len(rm_cols)"
   ]
  },
  {
   "cell_type": "code",
   "execution_count": 14,
   "metadata": {
    "collapsed": false
   },
   "outputs": [
    {
     "name": "stdout",
     "output_type": "stream",
     "text": [
      "585\n"
     ]
    }
   ],
   "source": [
    "remain_cols = []\n",
    "for col in dt_0012.columns:\n",
    "    if col not in remove_cols:\n",
    "        remain_cols.append(col)\n",
    "print len(remain_cols)        "
   ]
  },
  {
   "cell_type": "markdown",
   "metadata": {},
   "source": [
    "### Find columns have all null values"
   ]
  },
  {
   "cell_type": "code",
   "execution_count": 20,
   "metadata": {
    "collapsed": false
   },
   "outputs": [
    {
     "name": "stdout",
     "output_type": "stream",
     "text": [
      "4\n"
     ]
    }
   ],
   "source": [
    "# dt_0012 dataset\n",
    "dt_0012_null_cols = []\n",
    "for col in remain_cols:\n",
    "    if dt_0012[col].isnull().values.all() == True:\n",
    "        dt_0012_null_cols.append(col)\n",
    "        \n",
    "print len(dt_0012_null_cols)"
   ]
  },
  {
   "cell_type": "code",
   "execution_count": 21,
   "metadata": {
    "collapsed": false
   },
   "outputs": [
    {
     "name": "stdout",
     "output_type": "stream",
     "text": [
      "102\n"
     ]
    }
   ],
   "source": [
    "dt_8799_null_cols = []\n",
    "for col in remain_cols:\n",
    "    if dt_8799[col].isnull().values.all() == True:\n",
    "        dt_8799_null_cols.append(col)\n",
    "        \n",
    "print len(dt_8799_null_cols)"
   ]
  },
  {
   "cell_type": "code",
   "execution_count": 25,
   "metadata": {
    "collapsed": false
   },
   "outputs": [
    {
     "name": "stdout",
     "output_type": "stream",
     "text": [
      "106\n"
     ]
    }
   ],
   "source": [
    "combined_null_cols = dt_0012_null_cols + dt_8799_null_cols\n",
    "print len(combined_null_cols)"
   ]
  },
  {
   "cell_type": "markdown",
   "metadata": {},
   "source": [
    "### Remove all unwanted columns"
   ]
  },
  {
   "cell_type": "code",
   "execution_count": 27,
   "metadata": {
    "collapsed": false
   },
   "outputs": [
    {
     "name": "stdout",
     "output_type": "stream",
     "text": [
      "479\n"
     ]
    }
   ],
   "source": [
    "new_cols = [ col for col in remain_cols if col not in combined_null_cols]\n",
    "print len(new_cols)"
   ]
  },
  {
   "cell_type": "code",
   "execution_count": 28,
   "metadata": {
    "collapsed": false
   },
   "outputs": [
    {
     "data": {
      "text/plain": [
       "(215613, 479)"
      ]
     },
     "execution_count": 28,
     "metadata": {},
     "output_type": "execute_result"
    }
   ],
   "source": [
    "# combine data\n",
    "data = pd.concat([dt_0012[new_cols], dt_8799[new_cols]], axis=0)\n",
    "data.shape"
   ]
  },
  {
   "cell_type": "markdown",
   "metadata": {},
   "source": [
    "### To have the consistant longitudinal report for a specific institution, we will use only matched set from time period 1987-2012"
   ]
  },
  {
   "cell_type": "code",
   "execution_count": 29,
   "metadata": {
    "collapsed": false
   },
   "outputs": [
    {
     "data": {
      "text/plain": [
       "(63804, 479)"
      ]
     },
     "execution_count": 29,
     "metadata": {},
     "output_type": "execute_result"
    }
   ],
   "source": [
    "dt = data[data['matched_n_87_12_26']==1]\n",
    "dt.shape"
   ]
  },
  {
   "cell_type": "code",
   "execution_count": 30,
   "metadata": {
    "collapsed": false
   },
   "outputs": [
    {
     "data": {
      "text/html": [
       "<div>\n",
       "<table border=\"1\" class=\"dataframe\">\n",
       "  <thead>\n",
       "    <tr style=\"text-align: right;\">\n",
       "      <th></th>\n",
       "      <th>groupid</th>\n",
       "      <th>academicyear</th>\n",
       "      <th>unitid_linchpin</th>\n",
       "      <th>unitid</th>\n",
       "      <th>isgrouped</th>\n",
       "      <th>instname</th>\n",
       "      <th>TCSName</th>\n",
       "      <th>city</th>\n",
       "      <th>state</th>\n",
       "      <th>zip</th>\n",
       "      <th>...</th>\n",
       "      <th>ft_service_maintenance_share</th>\n",
       "      <th>total_faculty_all</th>\n",
       "      <th>full_time_employees</th>\n",
       "      <th>full_time_employee_share</th>\n",
       "      <th>all_employees</th>\n",
       "      <th>ft_faculty_salary</th>\n",
       "      <th>full_time_employee_100fte</th>\n",
       "      <th>full_time_faculty_share</th>\n",
       "      <th>faculty_instr_headcount</th>\n",
       "      <th>salarytotal</th>\n",
       "    </tr>\n",
       "  </thead>\n",
       "  <tbody>\n",
       "    <tr>\n",
       "      <th>25055</th>\n",
       "      <td>-243823</td>\n",
       "      <td>2000</td>\n",
       "      <td>243823</td>\n",
       "      <td>243823</td>\n",
       "      <td>0</td>\n",
       "      <td>Parker College of Chiropractic</td>\n",
       "      <td>NaN</td>\n",
       "      <td>Dallas</td>\n",
       "      <td>TX</td>\n",
       "      <td>75229-566</td>\n",
       "      <td>...</td>\n",
       "      <td>0.576923</td>\n",
       "      <td>95.0</td>\n",
       "      <td>243.0</td>\n",
       "      <td>0.886861</td>\n",
       "      <td>274.0</td>\n",
       "      <td>NaN</td>\n",
       "      <td>26.867022</td>\n",
       "      <td>0.957895</td>\n",
       "      <td>NaN</td>\n",
       "      <td>NaN</td>\n",
       "    </tr>\n",
       "    <tr>\n",
       "      <th>25056</th>\n",
       "      <td>-243823</td>\n",
       "      <td>2001</td>\n",
       "      <td>243823</td>\n",
       "      <td>243823</td>\n",
       "      <td>0</td>\n",
       "      <td>Parker College of Chiropractic</td>\n",
       "      <td>NaN</td>\n",
       "      <td>Dallas</td>\n",
       "      <td>TX</td>\n",
       "      <td>75229-566</td>\n",
       "      <td>...</td>\n",
       "      <td>NaN</td>\n",
       "      <td>NaN</td>\n",
       "      <td>NaN</td>\n",
       "      <td>NaN</td>\n",
       "      <td>NaN</td>\n",
       "      <td>NaN</td>\n",
       "      <td>NaN</td>\n",
       "      <td>NaN</td>\n",
       "      <td>NaN</td>\n",
       "      <td>NaN</td>\n",
       "    </tr>\n",
       "  </tbody>\n",
       "</table>\n",
       "<p>2 rows × 479 columns</p>\n",
       "</div>"
      ],
      "text/plain": [
       "       groupid  academicyear  unitid_linchpin  unitid  isgrouped  \\\n",
       "25055  -243823          2000           243823  243823          0   \n",
       "25056  -243823          2001           243823  243823          0   \n",
       "\n",
       "                             instname TCSName    city state        zip  \\\n",
       "25055  Parker College of Chiropractic     NaN  Dallas    TX  75229-566   \n",
       "25056  Parker College of Chiropractic     NaN  Dallas    TX  75229-566   \n",
       "\n",
       "          ...       ft_service_maintenance_share  total_faculty_all  \\\n",
       "25055     ...                           0.576923               95.0   \n",
       "25056     ...                                NaN                NaN   \n",
       "\n",
       "       full_time_employees  full_time_employee_share  all_employees  \\\n",
       "25055                243.0                  0.886861          274.0   \n",
       "25056                  NaN                       NaN            NaN   \n",
       "\n",
       "       ft_faculty_salary  full_time_employee_100fte  full_time_faculty_share  \\\n",
       "25055                NaN                  26.867022                 0.957895   \n",
       "25056                NaN                        NaN                      NaN   \n",
       "\n",
       "       faculty_instr_headcount  salarytotal  \n",
       "25055                      NaN          NaN  \n",
       "25056                      NaN          NaN  \n",
       "\n",
       "[2 rows x 479 columns]"
      ]
     },
     "execution_count": 30,
     "metadata": {},
     "output_type": "execute_result"
    }
   ],
   "source": [
    "dt.head(2)"
   ]
  },
  {
   "cell_type": "markdown",
   "metadata": {},
   "source": [
    "## Explore Data"
   ]
  },
  {
   "cell_type": "code",
   "execution_count": 60,
   "metadata": {
    "collapsed": false
   },
   "outputs": [
    {
     "data": {
      "text/plain": [
       "25055        NaN\n",
       "25056        NaN\n",
       "25057        NaN\n",
       "25058        NaN\n",
       "25059        NaN\n",
       "25060        NaN\n",
       "25061        NaN\n",
       "25062        NaN\n",
       "25063        NaN\n",
       "25064        NaN\n",
       "25065        NaN\n",
       "25066        NaN\n",
       "25067        NaN\n",
       "25103     1749.0\n",
       "25104     1598.0\n",
       "25105     1615.0\n",
       "25106     1636.0\n",
       "25107     1640.0\n",
       "25108     1645.0\n",
       "25109     1632.0\n",
       "25110     1646.0\n",
       "25111     1721.0\n",
       "25112     1703.0\n",
       "25113     1692.0\n",
       "25114     1672.0\n",
       "25115     1704.0\n",
       "25787     1204.0\n",
       "25788     1336.0\n",
       "25789     1422.0\n",
       "25790     1451.0\n",
       "           ...  \n",
       "127996     712.0\n",
       "127997     818.0\n",
       "127998     851.0\n",
       "127999     672.0\n",
       "128000     547.0\n",
       "128001     578.0\n",
       "128002     530.0\n",
       "128003     473.0\n",
       "128004     375.0\n",
       "128005     367.0\n",
       "128006     374.0\n",
       "128007     450.0\n",
       "128008     392.0\n",
       "128009     582.0\n",
       "128010     591.0\n",
       "128011     463.0\n",
       "128012     517.0\n",
       "128026     825.0\n",
       "128027    1024.0\n",
       "128028     779.0\n",
       "128029     546.0\n",
       "128030     573.0\n",
       "128031     475.0\n",
       "128032     411.0\n",
       "128033     332.0\n",
       "128034     371.0\n",
       "128035     383.0\n",
       "128036     498.0\n",
       "128037     480.0\n",
       "128038     514.0\n",
       "Name: ft_first_time_first_yr_deg_seek, dtype: float64"
      ]
     },
     "execution_count": 60,
     "metadata": {},
     "output_type": "execute_result"
    }
   ],
   "source": [
    "dt['ft_first_time_first_yr_deg_seek']"
   ]
  },
  {
   "cell_type": "code",
   "execution_count": 66,
   "metadata": {
    "collapsed": false
   },
   "outputs": [
    {
     "data": {
      "text/plain": [
       "(array([  5.29840000e+04,   4.15400000e+03,   1.11900000e+03,\n",
       "          3.52000000e+02,   1.14000000e+02,   4.30000000e+01,\n",
       "          1.60000000e+01,   1.30000000e+01,   1.00000000e+01,\n",
       "          7.00000000e+00,   2.00000000e+00,   2.00000000e+00,\n",
       "          9.00000000e+00,   1.10000000e+01,   6.00000000e+00,\n",
       "          2.00000000e+00,   1.00000000e+00,   1.00000000e+00,\n",
       "          2.00000000e+00,   2.00000000e+00]),\n",
       " array([     0.  ,   1713.35,   3426.7 ,   5140.05,   6853.4 ,   8566.75,\n",
       "         10280.1 ,  11993.45,  13706.8 ,  15420.15,  17133.5 ,  18846.85,\n",
       "         20560.2 ,  22273.55,  23986.9 ,  25700.25,  27413.6 ,  29126.95,\n",
       "         30840.3 ,  32553.65,  34267.  ]),\n",
       " <a list of 20 Patch objects>)"
      ]
     },
     "execution_count": 66,
     "metadata": {},
     "output_type": "execute_result"
    },
    {
     "data": {
      "image/png": "[encoded data removed]",
      "text/plain": [
       "<matplotlib.figure.Figure at 0x13ada5f8>"
      ]
     },
     "metadata": {},
     "output_type": "display_data"
    }
   ],
   "source": [
    "# calculate completetion rate, and student count for each year\n",
    "plt.hist(dt['ft_first_time_first_yr_deg_seek'].dropna(), bins=20)"
   ]
  },
  {
   "cell_type": "code",
   "execution_count": null,
   "metadata": {
    "collapsed": true
   },
   "outputs": [],
   "source": [
    "sns.kdeplot(dt['ft_first_time_first_yr_deg_seek'].dropna(), shade=True)"
   ]
  },
  {
   "cell_type": "code",
   "execution_count": null,
   "metadata": {
    "collapsed": false
   },
   "outputs": [],
   "source": [
    "sns.boxplot(dt.totalcompletions_100fte, dt.academicyear)"
   ]
  },
  {
   "cell_type": "code",
   "execution_count": 32,
   "metadata": {
    "collapsed": false
   },
   "outputs": [
    {
     "data": {
      "text/plain": [
       "[<matplotlib.lines.Line2D at 0x66e84cf8>]"
      ]
     },
     "execution_count": 32,
     "metadata": {},
     "output_type": "execute_result"
    },
    {
     "data": {
      "image/png": "[encoded data removed]",
      "text/plain": [
       "<matplotlib.figure.Figure at 0x401a6a0>"
      ]
     },
     "metadata": {},
     "output_type": "display_data"
    }
   ],
   "source": [
    "# plot the completion trend over the years\n",
    "plt.plot(dt[\"totalcompletions_100fte\"].groupby(dt['academicyear']).mean()) "
   ]
  },
  {
   "cell_type": "code",
   "execution_count": 78,
   "metadata": {
    "collapsed": false
   },
   "outputs": [
    {
     "data": {
      "text/html": [
       "<div>\n",
       "<table border=\"1\" class=\"dataframe\">\n",
       "  <thead>\n",
       "    <tr style=\"text-align: right;\">\n",
       "      <th></th>\n",
       "      <th>PellGrants</th>\n",
       "      <th>OtherFedGrants</th>\n",
       "      <th>StateGrants</th>\n",
       "      <th>InstitutionalFundedGrants</th>\n",
       "      <th>InstitutionalUnfundedGrants</th>\n",
       "      <th>TotalFinancialAid</th>\n",
       "    </tr>\n",
       "    <tr>\n",
       "      <th>academicyear</th>\n",
       "      <th></th>\n",
       "      <th></th>\n",
       "      <th></th>\n",
       "      <th></th>\n",
       "      <th></th>\n",
       "      <th></th>\n",
       "    </tr>\n",
       "  </thead>\n",
       "  <tbody>\n",
       "    <tr>\n",
       "      <th>1987</th>\n",
       "      <td>1.002773e+06</td>\n",
       "      <td>326515.864965</td>\n",
       "      <td>596758.879711</td>\n",
       "      <td>399579.856228</td>\n",
       "      <td>1.403953e+06</td>\n",
       "      <td>2.806867e+06</td>\n",
       "    </tr>\n",
       "    <tr>\n",
       "      <th>1988</th>\n",
       "      <td>1.040174e+06</td>\n",
       "      <td>326761.995982</td>\n",
       "      <td>641464.490444</td>\n",
       "      <td>410703.174282</td>\n",
       "      <td>1.482173e+06</td>\n",
       "      <td>3.056193e+06</td>\n",
       "    </tr>\n",
       "    <tr>\n",
       "      <th>1989</th>\n",
       "      <td>1.282893e+06</td>\n",
       "      <td>321535.564246</td>\n",
       "      <td>713084.726990</td>\n",
       "      <td>431575.522045</td>\n",
       "      <td>1.680622e+06</td>\n",
       "      <td>3.524076e+06</td>\n",
       "    </tr>\n",
       "    <tr>\n",
       "      <th>1990</th>\n",
       "      <td>1.398670e+06</td>\n",
       "      <td>339585.051187</td>\n",
       "      <td>745543.355918</td>\n",
       "      <td>463225.105081</td>\n",
       "      <td>1.923514e+06</td>\n",
       "      <td>3.918923e+06</td>\n",
       "    </tr>\n",
       "    <tr>\n",
       "      <th>1991</th>\n",
       "      <td>1.457087e+06</td>\n",
       "      <td>361942.124971</td>\n",
       "      <td>787670.915440</td>\n",
       "      <td>510456.453023</td>\n",
       "      <td>2.221085e+06</td>\n",
       "      <td>4.333925e+06</td>\n",
       "    </tr>\n",
       "  </tbody>\n",
       "</table>\n",
       "</div>"
      ],
      "text/plain": [
       "                PellGrants  OtherFedGrants    StateGrants  \\\n",
       "academicyear                                                \n",
       "1987          1.002773e+06   326515.864965  596758.879711   \n",
       "1988          1.040174e+06   326761.995982  641464.490444   \n",
       "1989          1.282893e+06   321535.564246  713084.726990   \n",
       "1990          1.398670e+06   339585.051187  745543.355918   \n",
       "1991          1.457087e+06   361942.124971  787670.915440   \n",
       "\n",
       "              InstitutionalFundedGrants  InstitutionalUnfundedGrants  \\\n",
       "academicyear                                                           \n",
       "1987                      399579.856228                 1.403953e+06   \n",
       "1988                      410703.174282                 1.482173e+06   \n",
       "1989                      431575.522045                 1.680622e+06   \n",
       "1990                      463225.105081                 1.923514e+06   \n",
       "1991                      510456.453023                 2.221085e+06   \n",
       "\n",
       "              TotalFinancialAid  \n",
       "academicyear                     \n",
       "1987               2.806867e+06  \n",
       "1988               3.056193e+06  \n",
       "1989               3.524076e+06  \n",
       "1990               3.918923e+06  \n",
       "1991               4.333925e+06  "
      ]
     },
     "metadata": {},
     "output_type": "display_data"
    },
    {
     "name": "stdout",
     "output_type": "stream",
     "text": [
      "None\n"
     ]
    }
   ],
   "source": [
    "# calculate the average financial aid grants\n",
    "dt_grant = dt[[\"grant01\",\"grant02\",\"grant03\", \"grant05\",\"grant06\",\"grant07\"]].groupby(dt['academicyear']).mean()\n",
    "dt_grant.columns=[\"PellGrants\", \"OtherFedGrants\",\"StateGrants\",\"InstitutionalFundedGrants\",\"InstitutionalUnfundedGrants\",\n",
    "                                    \"TotalFinancialAid\"]\n",
    "print display(dt_grant.head())"
   ]
  },
  {
   "cell_type": "code",
   "execution_count": 77,
   "metadata": {
    "collapsed": false
   },
   "outputs": [
    {
     "data": {
      "image/png": "[encoded data removed]",
      "text/plain": [
       "<matplotlib.figure.Figure at 0x20a3d6cf8>"
      ]
     },
     "metadata": {},
     "output_type": "display_data"
    }
   ],
   "source": [
    "# plot the financial aid trend\n",
    "\n",
    "plt.figure(figsize=(16,10))\n",
    "plt.plot(dt_grant)\n",
    "plt.xlabel('Academic Years')\n",
    "plt.ylabel('Grants')\n",
    "plt.title('Summary of Financial Aid')\n",
    "plt.show()"
   ]
  },
  {
   "cell_type": "code",
   "execution_count": 10,
   "metadata": {
    "collapsed": true
   },
   "outputs": [],
   "source": [
    "discard_cols=['Ifte_count',\n",
    "'ifte12mn',\n",
    "'Ituition01',\n",
    "'Ituition02',\n",
    "'Ituition03',\n",
    "'Inettuition01',\n",
    "'Ifederal03',\n",
    "'Istate03',\n",
    "'Ilocal03',\n",
    "'Ifederal07',\n",
    "'Istate06',\n",
    "'Ilocal06',\n",
    "'Ifederal10',\n",
    "'Istate09',\n",
    "'Iprivate03',\n",
    "'Iinvestment01',\n",
    "'Iaffiliate01',\n",
    "'Iendowment03',\n",
    "'Iedactivity03',\n",
    "'Iauxiliary03',\n",
    "'Ihospital03',\n",
    "'Iother03',\n",
    "'Iother04',\n",
    "'Iindependent03',\n",
    "'Iother05',\n",
    "'Itotal03_revenue',\n",
    "'Iappliedaid01',\n",
    "'Iappliedaid02',\n",
    "'Igrant01',\n",
    "'Igrant02',\n",
    "'Igrant03',\n",
    "'Igrant04',\n",
    "'Igrant05',\n",
    "'Igrant06',\n",
    "'Igrant07',\n",
    "'Iany_aid_num',\n",
    "'Iany_aid_pct',\n",
    "'Ifed_grant_num',\n",
    "'Ifed_grant_pct',\n",
    "'Ifed_grant_avg_amount',\n",
    "'Istate_grant_num',\n",
    "'Istate_grant_pct',\n",
    "'Istate_grant_avg_amount',\n",
    "'Iinst_grant_num',\n",
    "'Iinst_grant_pct',\n",
    "'Iinst_grant_avg_amount',\n",
    "'Iloan_num',\n",
    "'Iloan_pct',\n",
    "'Iloan_avg_amount',\n",
    "'Ituition01_tf',\n",
    "'Ifee01_tf',\n",
    "'Ituitionfee01_tf',\n",
    "'Ituition02_tf',\n",
    "'Ifee02_tf',\n",
    "'Ituitionfee02_tf',\n",
    "'Ituition03_tf',\n",
    "'Ifee03_tf',\n",
    "'Ituitionfee03_tf',\n",
    "'Ituition05_tf',\n",
    "'Ifee05_tf',\n",
    "'Ituitionfee05_tf',\n",
    "'Ituition06_tf',\n",
    "'Ifee06_tf',\n",
    "'Ituitionfee06_tf',\n",
    "'Ituition07_tf',\n",
    "'Ifee07_tf',\n",
    "'Ituitionfee07_tf',\n",
    "'Iinstruction01',\n",
    "'Iinstruction01_fasb',\n",
    "'Iinstruction02',\n",
    "'Iresearch01',\n",
    "'Iresearch01_fasb',\n",
    "'Iresearch02',\n",
    "'Ipubserv01',\n",
    "'Ipubserv01_fasb',\n",
    "'Ipubserv02',\n",
    "'Iacadsupp01',\n",
    "'Iacadsupp01_fasb',\n",
    "'Iacadsupp02',\n",
    "'Istudserv01',\n",
    "'Istudserv01_fasb',\n",
    "'Istudserv02',\n",
    "'Iinstsupp01',\n",
    "'Iinstsupp01_fasb',\n",
    "'Iinstsupp02',\n",
    "'Iopermain01',\n",
    "'Iopermain01_fasb',\n",
    "'Iopermain02',\n",
    "'Idepreciation01',\n",
    "'Igrants01u',\n",
    "'Igrants01r',\n",
    "'Igrants01',\n",
    "'Igrants01_fasb',\n",
    "'Iauxiliary01',\n",
    "'Iauxiliary01_fasb',\n",
    "'Iauxiliary02',\n",
    "'Ihospital01',\n",
    "'Ihospital01_fasb',\n",
    "'Ihospital02',\n",
    "'Iindepend01',\n",
    "'Iindepend01_fasb',\n",
    "'Iindepend02',\n",
    "'Iotheroper01',\n",
    "'Iotheroper02',\n",
    "'Itotaloper01',\n",
    "'Itotaloper02',\n",
    "'Itotaloper03',\n",
    "'Itotaloper04',\n",
    "'Itotaloper05',\n",
    "'Iinterest01',\n",
    "'Iothernon01',\n",
    "'Iothernon02',\n",
    "'Iother01',\n",
    "'Iother01_fasb',\n",
    "'Iother02',\n",
    "'Itotalnon01',\n",
    "'Itotalnon02',\n",
    "'Itotal01',\n",
    "'Itotal02',\n",
    "'Itotal03_expenses',\n",
    "'Itotal04',\n",
    "'Itotal05',\n",
    "'Itotal07',\n",
    "'Ieandg01',\n",
    "'Ieandg02',\n",
    "'Ieandg03',\n",
    "'Ieandg03a',\n",
    "'Ieandg03b',\n",
    "'Ieandg04',\n",
    "'Ieandg05',\n",
    "'Ieandg07',\n",
    "'Ieandg08',\n",
    "'Iassets06',\n",
    "'Iliabilities07',\n",
    "'Iassets11',\n",
    "'Iland04',\n",
    "'Ibuildings05',\n",
    "'Iequipment05',\n",
    "'Iassets15',\n",
    "'Iendow02m',\n",
    "'Iassets16',\n",
    "'Iassociatedegrees',\n",
    "'Ibachelordegrees',\n",
    "'Imasterdegrees',\n",
    "'Idoctordegrees',\n",
    "'Ifirstprofdegrees',\n",
    "'Iawardslessthan1yr',\n",
    "'Iawards1yrto2yr',\n",
    "'Iawards2yrto4yr',\n",
    "'Ipostbacccertificates',\n",
    "'Ipostmastcertificates',\n",
    "'Ifirstprofcertificates',\n",
    "'Ipostmastfpcert',\n",
    "'Itotaldegrees',\n",
    "'Itotalawards',\n",
    "'Itotalcertificates',\n",
    "'Itotalcompletions',\n",
    "'Igrad_rate_150_n',\n",
    "'Igrad_rate_150_p',\n",
    "'Igrad_rate_adj_cohort_n',\n",
    "'Igrad_rate_150_n4yr',\n",
    "'Igrad_rate_150_p4yr',\n",
    "'Igrad_rate_adj_cohort_n4yr',\n",
    "'Igrad_rate_150_n2yr',\n",
    "'Igrad_rate_150_p2yr',\n",
    "'Igrad_rate_adj_cohort_n2yr',\n",
    "'Iugentering',\n",
    "'Igrscohort',\n",
    "'Ipt_ugentering',\n",
    "'Igrscohortpct',\n",
    "'Iftretention_rate',\n",
    "'Iptretention_rate',\n",
    "'Ifall_cohort_num',\n",
    "'Ifall_cohort_pct',\n",
    "'Ifall_cohort_num_indistrict',\n",
    "'Ifall_cohort_pct_indistrict',\n",
    "'Ifall_cohort_num_instate',\n",
    "'Ifall_cohort_pct_instate',\n",
    "'Ifall_cohort_num_outofstate',\n",
    "'Ifall_cohort_pct_outofstate',\n",
    "'Ifall_cohort_num_resunknown',\n",
    "'Ifall_cohort_pct_resunknown',\n",
    "'Ifall_total_undergrad',\n",
    "'Iyear_cohort_num',\n",
    "'Iyear_cohort_pct',\n",
    "'Iyear_total_undergrad',\n",
    "'Ift_first_time_first_yr_deg_seek',\n",
    "'Iother_full_time',\n",
    "'Itotal_full_time_undergraduates',\n",
    "'Itotal_full_time_first_prof',\n",
    "'Itotal_full_time_graduates',\n",
    "'Itotal_full_time_postbacc',\n",
    "'Itotal_full_time',\n",
    "'Ipt_first_time_first_yr_deg_seek',\n",
    "'Iother_part_time',\n",
    "'Itotal_part_time_undergraduates',\n",
    "'Itotal_part_time_first_prof',\n",
    "'Itotal_part_time_graduates',\n",
    "'Itotal_part_time_postbacc',\n",
    "'Itotal_part_time',\n",
    "'itotal_undergraduates',\n",
    "'itotal_graduates',\n",
    "'itotal_first_prof',\n",
    "'itotal_postbacc',\n",
    "'Itotal_enrollment',\n",
    "'Itotal_enrollment_amin_tot',\n",
    "'Itotal_enrollment_asian_tot',\n",
    "'Itotal_enrollment_black_tot',\n",
    "'Itotal_enrollment_hisp_tot',\n",
    "'Itotal_enrollment_white_tot',\n",
    "'Itotal_enrollment_unkn_tot',\n",
    "'Itotal_enrollment_nonres_tot',\n",
    "'Iftall03ug',\n",
    "'Iftall04ug',\n",
    "'Iftall05ug',\n",
    "'Iftall06ug',\n",
    "'Iftall08ug',\n",
    "'Iftall09ug',\n",
    "'Iftall10ug',\n",
    "'Iftall11ug',\n",
    "'Iftall12ug',\n",
    "'Iftall13ug',\n",
    "'Iftall14ug',\n",
    "'Iftall03pr',\n",
    "'Iftall04pr',\n",
    "'Iftall05pr',\n",
    "'Iftall06pr',\n",
    "'Iftall08pr',\n",
    "'Iftall09pr',\n",
    "'Iftall10pr',\n",
    "'Iftall11pr',\n",
    "'Iftall12pr',\n",
    "'Iftall13pr',\n",
    "'Iftall14pr',\n",
    "'Iftall03gr',\n",
    "'Iftall04gr',\n",
    "'Iftall05gr',\n",
    "'Iftall06gr',\n",
    "'Iftall08gr',\n",
    "'Iftall09gr',\n",
    "'Iftall10gr',\n",
    "'Iftall11gr',\n",
    "'Iftall12gr',\n",
    "'Iftall13gr',\n",
    "'Iftall14gr',\n",
    "'Iftall03',\n",
    "'Iftall04',\n",
    "'Iftall05',\n",
    "'Iftall06',\n",
    "'Iftall08',\n",
    "'Iftall09',\n",
    "'Iftall10',\n",
    "'Iftall11',\n",
    "'Iftall12',\n",
    "'Iftall13',\n",
    "'Iftall14',\n",
    "'Iptall03ug',\n",
    "'Iptall04ug',\n",
    "'Iptall05ug',\n",
    "'Iptall06ug',\n",
    "'Iptall08ug',\n",
    "'Iptall09ug',\n",
    "'Iptall10ug',\n",
    "'Iptall11ug',\n",
    "'Iptall12ug',\n",
    "'Iptall13ug',\n",
    "'Iptall14ug',\n",
    "'Iptall03pr',\n",
    "'Iptall04pr',\n",
    "'Iptall05pr',\n",
    "'Iptall06pr',\n",
    "'Iptall08pr',\n",
    "'Iptall09pr',\n",
    "'Iptall10pr',\n",
    "'Iptall11pr',\n",
    "'Iptall12pr',\n",
    "'Iptall13pr',\n",
    "'Iptall14pr',\n",
    "'Iptall03gr',\n",
    "'Iptall04gr',\n",
    "'Iptall05gr',\n",
    "'Iptall06gr',\n",
    "'Iptall08gr',\n",
    "'Iptall09gr',\n",
    "'Iptall10gr',\n",
    "'Iptall11gr',\n",
    "'Iptall12gr',\n",
    "'Iptall13gr',\n",
    "'Iptall14gr',\n",
    "'Iptall03',\n",
    "'Iptall04',\n",
    "'Iptall05',\n",
    "'Iptall06',\n",
    "'Iptall08',\n",
    "'Iptall09',\n",
    "'Iptall10',\n",
    "'Iptall11',\n",
    "'Iptall12',\n",
    "'Iptall13',\n",
    "'Iptall14',\n",
    "'Iftallgrp1ug',\n",
    "'Iftallgrp2ug',\n",
    "'Iftallgrp3ug',\n",
    "'Iftallgrp4ug',\n",
    "'Iptallgrp1ug',\n",
    "'Iptallgrp2ug',\n",
    "'Iptallgrp3ug',\n",
    "'Iptallgrp4ug',\n",
    "'Iftallgrp1pr',\n",
    "'Iftallgrp2pr',\n",
    "'Iftallgrp3pr',\n",
    "'Iftallgrp4pr',\n",
    "'Iptallgrp1pr',\n",
    "'Iptallgrp2pr',\n",
    "'Iptallgrp3pr',\n",
    "'Iptallgrp4pr',\n",
    "'Iftallgrp1gr',\n",
    "'Iftallgrp2gr',\n",
    "'Iftallgrp3gr',\n",
    "'Iftallgrp4gr',\n",
    "'Iptallgrp1gr',\n",
    "'Iptallgrp2gr',\n",
    "'Iptallgrp3gr',\n",
    "'Iptallgrp4gr',\n",
    "'Iftallgrp1',\n",
    "'Iftallgrp2',\n",
    "'Iftallgrp3',\n",
    "'Iftallgrp4',\n",
    "'Iptallgrp1',\n",
    "'Iptallgrp2',\n",
    "'Iptallgrp3',\n",
    "'Iptallgrp4',\n",
    "'Idependent1',\n",
    "'Idependent2',\n",
    "'Idependent3',\n",
    "'Idependent4',\n",
    "'Idependent5',\n",
    "'Iindependent1',\n",
    "'Iindependent2',\n",
    "'Iindependent3',\n",
    "'Iindependent4',\n",
    "'Iindependent5',\n",
    "'Iapplcn',\n",
    "'Iapplcnm',\n",
    "'Iapplcnw',\n",
    "'Iadmssn',\n",
    "'Iadmssnm',\n",
    "'Iadmssnw',\n",
    "'Ienrlt',\n",
    "'Ienrlm',\n",
    "'Ienrlw',\n",
    "'Iapplicantcount',\n",
    "'Iadmitcount',\n",
    "'Ienrollftcount',\n",
    "'Ienrollptcount',\n",
    "'Iactnum',\n",
    "'Iactpct',\n",
    "'Iactcm25',\n",
    "'Iactcm75',\n",
    "'Iacten25',\n",
    "'Iacten75',\n",
    "'Iactmt25',\n",
    "'Iactmt75',\n",
    "'Isatnum',\n",
    "'Isatpct',\n",
    "'Isatmt25',\n",
    "'Isatmt75',\n",
    "'Isatvr25',\n",
    "'Isatvr75',\n",
    "'Icredhoursug',\n",
    "'Iconthoursug',\n",
    "'Icredhoursgr',\n",
    "'Iftall1',\n",
    "'Iftall3',\n",
    "'Iftall4',\n",
    "'Iftall5',\n",
    "'Iftall6',\n",
    "'Iftall7',\n",
    "'Iftall8',\n",
    "'Iptall1',\n",
    "'Iptall2',\n",
    "'Iptall3',\n",
    "'Iptall4',\n",
    "'Iptall5',\n",
    "'Iptall6',\n",
    "'Iptall7',\n",
    "'Iptall8',\n",
    "'Ifaculty_instr_headcount',\n",
    "'Isalarytotal'\n",
    "]"
   ]
  },
  {
   "cell_type": "code",
   "execution_count": 8,
   "metadata": {
    "collapsed": false
   },
   "outputs": [
    {
     "name": "stdout",
     "output_type": "stream",
     "text": [
      "['Ifte_count', 'ifte12mn', 'Ituition01', 'Ituition02', 'Ituition03', 'Inettuition01', 'Ifederal03', 'Istate03', 'Ilocal03', 'Ifederal07', 'Istate06', 'Ilocal06', 'Ifederal10', 'Istate09', 'Iprivate03', 'Iinvestment01', 'Iaffiliate01', 'Iendowment03', 'Iedactivity03', 'Iauxiliary03', 'Ihospital03', 'Iother03', 'Iother04', 'Iindependent03', 'Iother05', 'Itotal03_revenue', 'Iappliedaid01', 'Iappliedaid02', 'Igrant01', 'Igrant02', 'Igrant03', 'Igrant04', 'Igrant05', 'Igrant06', 'Igrant07', 'Iany_aid_num', 'Iany_aid_pct', 'Ifed_grant_num', 'Ifed_grant_pct', 'Ifed_grant_avg_amount', 'Istate_grant_num', 'Istate_grant_pct', 'Istate_grant_avg_amount', 'Iinst_grant_num', 'Iinst_grant_pct', 'Iinst_grant_avg_amount', 'Iloan_num', 'Iloan_pct', 'Iloan_avg_amount', 'Ituition01_tf', 'Ifee01_tf', 'Ituitionfee01_tf', 'Ituition02_tf', 'Ifee02_tf', 'Ituitionfee02_tf', 'Ituition03_tf', 'Ifee03_tf', 'Ituitionfee03_tf', 'Ituition05_tf', 'Ifee05_tf', 'Ituitionfee05_tf', 'Ituition06_tf', 'Ifee06_tf', 'Ituitionfee06_tf', 'Ituition07_tf', 'Ifee07_tf', 'Ituitionfee07_tf', 'Iinstruction01', 'Iinstruction01_fasb', 'Iinstruction02', 'Iresearch01', 'Iresearch01_fasb', 'Iresearch02', 'Ipubserv01', 'Ipubserv01_fasb', 'Ipubserv02', 'Iacadsupp01', 'Iacadsupp01_fasb', 'Iacadsupp02', 'Istudserv01', 'Istudserv01_fasb', 'Istudserv02', 'Iinstsupp01', 'Iinstsupp01_fasb', 'Iinstsupp02', 'Iopermain01', 'Iopermain01_fasb', 'Iopermain02', 'Idepreciation01', 'Igrants01u', 'Igrants01r', 'Igrants01', 'Igrants01_fasb', 'Iauxiliary01', 'Iauxiliary01_fasb', 'Iauxiliary02', 'Ihospital01', 'Ihospital01_fasb', 'Ihospital02', 'Iindepend01', 'Iindepend01_fasb', 'Iindepend02', 'Iotheroper01', 'Iotheroper02', 'Itotaloper01', 'Itotaloper02', 'Itotaloper03', 'Itotaloper04', 'Itotaloper05', 'Iinterest01', 'Iothernon01', 'Iothernon02', 'Iother01', 'Iother01_fasb', 'Iother02', 'Itotalnon01', 'Itotalnon02', 'Itotal01', 'Itotal02', 'Itotal03_expenses', 'Itotal04', 'Itotal05', 'Itotal07', 'Ieandg01', 'Ieandg02', 'Ieandg03', 'Ieandg03a', 'Ieandg03b', 'Ieandg04', 'Ieandg05', 'Ieandg07', 'Ieandg08', 'Iassets06', 'Iliabilities07', 'Iassets11', 'Iland04', 'Ibuildings05', 'Iequipment05', 'Iassets15', 'Iendow02m', 'Iassets16', 'Iassociatedegrees', 'Ibachelordegrees', 'Imasterdegrees', 'Idoctordegrees', 'Ifirstprofdegrees', 'Iawardslessthan1yr', 'Iawards1yrto2yr', 'Iawards2yrto4yr', 'Ipostbacccertificates', 'Ipostmastcertificates', 'Ifirstprofcertificates', 'Ipostmastfpcert', 'Itotaldegrees', 'Itotalawards', 'Itotalcertificates', 'Itotalcompletions', 'Igrad_rate_150_n', 'Igrad_rate_150_p', 'Igrad_rate_adj_cohort_n', 'Igrad_rate_150_n4yr', 'Igrad_rate_150_p4yr', 'Igrad_rate_adj_cohort_n4yr', 'Igrad_rate_150_n2yr', 'Igrad_rate_150_p2yr', 'Igrad_rate_adj_cohort_n2yr', 'Iugentering', 'Igrscohort', 'Ipt_ugentering', 'Igrscohortpct', 'Iftretention_rate', 'Iptretention_rate', 'Ifall_cohort_num', 'Ifall_cohort_pct', 'Ifall_cohort_num_indistrict', 'Ifall_cohort_pct_indistrict', 'Ifall_cohort_num_instate', 'Ifall_cohort_pct_instate', 'Ifall_cohort_num_outofstate', 'Ifall_cohort_pct_outofstate', 'Ifall_cohort_num_resunknown', 'Ifall_cohort_pct_resunknown', 'Ifall_total_undergrad', 'Iyear_cohort_num', 'Iyear_cohort_pct', 'Iyear_total_undergrad', 'Ift_first_time_first_yr_deg_seek', 'Iother_full_time', 'Itotal_full_time_undergraduates', 'Itotal_full_time_first_prof', 'Itotal_full_time_graduates', 'Itotal_full_time_postbacc', 'Itotal_full_time', 'Ipt_first_time_first_yr_deg_seek', 'Iother_part_time', 'Itotal_part_time_undergraduates', 'Itotal_part_time_first_prof', 'Itotal_part_time_graduates', 'Itotal_part_time_postbacc', 'Itotal_part_time', 'itotal_undergraduates', 'itotal_graduates', 'itotal_first_prof', 'itotal_postbacc', 'Itotal_enrollment', 'Itotal_enrollment_amin_tot', 'Itotal_enrollment_asian_tot', 'Itotal_enrollment_black_tot', 'Itotal_enrollment_hisp_tot', 'Itotal_enrollment_white_tot', 'Itotal_enrollment_unkn_tot', 'Itotal_enrollment_nonres_tot', 'Iftall03ug', 'Iftall04ug', 'Iftall05ug', 'Iftall06ug', 'Iftall08ug', 'Iftall09ug', 'Iftall10ug', 'Iftall11ug', 'Iftall12ug', 'Iftall13ug', 'Iftall14ug', 'Iftall03pr', 'Iftall04pr', 'Iftall05pr', 'Iftall06pr', 'Iftall08pr', 'Iftall09pr', 'Iftall10pr', 'Iftall11pr', 'Iftall12pr', 'Iftall13pr', 'Iftall14pr', 'Iftall03gr', 'Iftall04gr', 'Iftall05gr', 'Iftall06gr', 'Iftall08gr', 'Iftall09gr', 'Iftall10gr', 'Iftall11gr', 'Iftall12gr', 'Iftall13gr', 'Iftall14gr', 'Iftall03', 'Iftall04', 'Iftall05', 'Iftall06', 'Iftall08', 'Iftall09', 'Iftall10', 'Iftall11', 'Iftall12', 'Iftall13', 'Iftall14', 'Iptall03ug', 'Iptall04ug', 'Iptall05ug', 'Iptall06ug', 'Iptall08ug', 'Iptall09ug', 'Iptall10ug', 'Iptall11ug', 'Iptall12ug', 'Iptall13ug', 'Iptall14ug', 'Iptall03pr', 'Iptall04pr', 'Iptall05pr', 'Iptall06pr', 'Iptall08pr', 'Iptall09pr', 'Iptall10pr', 'Iptall11pr', 'Iptall12pr', 'Iptall13pr', 'Iptall14pr', 'Iptall03gr', 'Iptall04gr', 'Iptall05gr', 'Iptall06gr', 'Iptall08gr', 'Iptall09gr', 'Iptall10gr', 'Iptall11gr', 'Iptall12gr', 'Iptall13gr', 'Iptall14gr', 'Iptall03', 'Iptall04', 'Iptall05', 'Iptall06', 'Iptall08', 'Iptall09', 'Iptall10', 'Iptall11', 'Iptall12', 'Iptall13', 'Iptall14', 'Iftallgrp1ug', 'Iftallgrp2ug', 'Iftallgrp3ug', 'Iftallgrp4ug', 'Iptallgrp1ug', 'Iptallgrp2ug', 'Iptallgrp3ug', 'Iptallgrp4ug', 'Iftallgrp1pr', 'Iftallgrp2pr', 'Iftallgrp3pr', 'Iftallgrp4pr', 'Iptallgrp1pr', 'Iptallgrp2pr', 'Iptallgrp3pr', 'Iptallgrp4pr', 'Iftallgrp1gr', 'Iftallgrp2gr', 'Iftallgrp3gr', 'Iftallgrp4gr', 'Iptallgrp1gr', 'Iptallgrp2gr', 'Iptallgrp3gr', 'Iptallgrp4gr', 'Iftallgrp1', 'Iftallgrp2', 'Iftallgrp3', 'Iftallgrp4', 'Iptallgrp1', 'Iptallgrp2', 'Iptallgrp3', 'Iptallgrp4', 'Idependent1', 'Idependent2', 'Idependent3', 'Idependent4', 'Idependent5', 'Iindependent1', 'Iindependent2', 'Iindependent3', 'Iindependent4', 'Iindependent5', 'Iapplcn', 'Iapplcnm', 'Iapplcnw', 'Iadmssn', 'Iadmssnm', 'Iadmssnw', 'Ienrlt', 'Ienrlm', 'Ienrlw', 'Iapplicantcount', 'Iadmitcount', 'Ienrollftcount', 'Ienrollptcount', 'Iactnum', 'Iactpct', 'Iactcm25', 'Iactcm75', 'Iacten25', 'Iacten75', 'Iactmt25', 'Iactmt75', 'Isatnum', 'Isatpct', 'Isatmt25', 'Isatmt75', 'Isatvr25', 'Isatvr75', 'Icredhoursug', 'Iconthoursug', 'Icredhoursgr', 'Iftall1', 'Iftall3', 'Iftall4', 'Iftall5', 'Iftall6', 'Iftall7', 'Iftall8', 'Iptall1', 'Iptall2', 'Iptall3', 'Iptall4', 'Iptall5', 'Iptall6', 'Iptall7', 'Iptall8', 'Ifaculty_instr_headcount', 'Isalarytotal']\n"
     ]
    }
   ],
   "source": [
    "print cols"
   ]
  },
  {
   "cell_type": "code",
   "execution_count": 11,
   "metadata": {
    "collapsed": false
   },
   "outputs": [
    {
     "name": "stdout",
     "output_type": "stream",
     "text": [
      "['Ifte_count', 'ifte12mn', 'Ituition01', 'Ituition02', 'Ituition03', 'Inettuition01', 'Ifederal03', 'Istate03', 'Ilocal03', 'Ifederal07', 'Istate06', 'Ilocal06', 'Ifederal10', 'Istate09', 'Iprivate03', 'Iinvestment01', 'Iaffiliate01', 'Iendowment03', 'Iedactivity03', 'Iauxiliary03', 'Ihospital03', 'Iother03', 'Iother04', 'Iindependent03', 'Iother05', 'Itotal03_revenue', 'Iappliedaid01', 'Iappliedaid02', 'Igrant01', 'Igrant02', 'Igrant03', 'Igrant04', 'Igrant05', 'Igrant06', 'Igrant07', 'Iany_aid_num', 'Iany_aid_pct', 'Ifed_grant_num', 'Ifed_grant_pct', 'Ifed_grant_avg_amount', 'Istate_grant_num', 'Istate_grant_pct', 'Istate_grant_avg_amount', 'Iinst_grant_num', 'Iinst_grant_pct', 'Iinst_grant_avg_amount', 'Iloan_num', 'Iloan_pct', 'Iloan_avg_amount', 'Ituition01_tf', 'Ifee01_tf', 'Ituitionfee01_tf', 'Ituition02_tf', 'Ifee02_tf', 'Ituitionfee02_tf', 'Ituition03_tf', 'Ifee03_tf', 'Ituitionfee03_tf', 'Ituition05_tf', 'Ifee05_tf', 'Ituitionfee05_tf', 'Ituition06_tf', 'Ifee06_tf', 'Ituitionfee06_tf', 'Ituition07_tf', 'Ifee07_tf', 'Ituitionfee07_tf', 'Iinstruction01', 'Iinstruction01_fasb', 'Iinstruction02', 'Iresearch01', 'Iresearch01_fasb', 'Iresearch02', 'Ipubserv01', 'Ipubserv01_fasb', 'Ipubserv02', 'Iacadsupp01', 'Iacadsupp01_fasb', 'Iacadsupp02', 'Istudserv01', 'Istudserv01_fasb', 'Istudserv02', 'Iinstsupp01', 'Iinstsupp01_fasb', 'Iinstsupp02', 'Iopermain01', 'Iopermain01_fasb', 'Iopermain02', 'Idepreciation01', 'Igrants01u', 'Igrants01r', 'Igrants01', 'Igrants01_fasb', 'Iauxiliary01', 'Iauxiliary01_fasb', 'Iauxiliary02', 'Ihospital01', 'Ihospital01_fasb', 'Ihospital02', 'Iindepend01', 'Iindepend01_fasb', 'Iindepend02', 'Iotheroper01', 'Iotheroper02', 'Itotaloper01', 'Itotaloper02', 'Itotaloper03', 'Itotaloper04', 'Itotaloper05', 'Iinterest01', 'Iothernon01', 'Iothernon02', 'Iother01', 'Iother01_fasb', 'Iother02', 'Itotalnon01', 'Itotalnon02', 'Itotal01', 'Itotal02', 'Itotal03_expenses', 'Itotal04', 'Itotal05', 'Itotal07', 'Ieandg01', 'Ieandg02', 'Ieandg03', 'Ieandg03a', 'Ieandg03b', 'Ieandg04', 'Ieandg05', 'Ieandg07', 'Ieandg08', 'Iassets06', 'Iliabilities07', 'Iassets11', 'Iland04', 'Ibuildings05', 'Iequipment05', 'Iassets15', 'Iendow02m', 'Iassets16', 'Iassociatedegrees', 'Ibachelordegrees', 'Imasterdegrees', 'Idoctordegrees', 'Ifirstprofdegrees', 'Iawardslessthan1yr', 'Iawards1yrto2yr', 'Iawards2yrto4yr', 'Ipostbacccertificates', 'Ipostmastcertificates', 'Ifirstprofcertificates', 'Ipostmastfpcert', 'Itotaldegrees', 'Itotalawards', 'Itotalcertificates', 'Itotalcompletions', 'Igrad_rate_150_n', 'Igrad_rate_150_p', 'Igrad_rate_adj_cohort_n', 'Igrad_rate_150_n4yr', 'Igrad_rate_150_p4yr', 'Igrad_rate_adj_cohort_n4yr', 'Igrad_rate_150_n2yr', 'Igrad_rate_150_p2yr', 'Igrad_rate_adj_cohort_n2yr', 'Iugentering', 'Igrscohort', 'Ipt_ugentering', 'Igrscohortpct', 'Iftretention_rate', 'Iptretention_rate', 'Ifall_cohort_num', 'Ifall_cohort_pct', 'Ifall_cohort_num_indistrict', 'Ifall_cohort_pct_indistrict', 'Ifall_cohort_num_instate', 'Ifall_cohort_pct_instate', 'Ifall_cohort_num_outofstate', 'Ifall_cohort_pct_outofstate', 'Ifall_cohort_num_resunknown', 'Ifall_cohort_pct_resunknown', 'Ifall_total_undergrad', 'Iyear_cohort_num', 'Iyear_cohort_pct', 'Iyear_total_undergrad', 'Ift_first_time_first_yr_deg_seek', 'Iother_full_time', 'Itotal_full_time_undergraduates', 'Itotal_full_time_first_prof', 'Itotal_full_time_graduates', 'Itotal_full_time_postbacc', 'Itotal_full_time', 'Ipt_first_time_first_yr_deg_seek', 'Iother_part_time', 'Itotal_part_time_undergraduates', 'Itotal_part_time_first_prof', 'Itotal_part_time_graduates', 'Itotal_part_time_postbacc', 'Itotal_part_time', 'itotal_undergraduates', 'itotal_graduates', 'itotal_first_prof', 'itotal_postbacc', 'Itotal_enrollment', 'Itotal_enrollment_amin_tot', 'Itotal_enrollment_asian_tot', 'Itotal_enrollment_black_tot', 'Itotal_enrollment_hisp_tot', 'Itotal_enrollment_white_tot', 'Itotal_enrollment_unkn_tot', 'Itotal_enrollment_nonres_tot', 'Iftall03ug', 'Iftall04ug', 'Iftall05ug', 'Iftall06ug', 'Iftall08ug', 'Iftall09ug', 'Iftall10ug', 'Iftall11ug', 'Iftall12ug', 'Iftall13ug', 'Iftall14ug', 'Iftall03pr', 'Iftall04pr', 'Iftall05pr', 'Iftall06pr', 'Iftall08pr', 'Iftall09pr', 'Iftall10pr', 'Iftall11pr', 'Iftall12pr', 'Iftall13pr', 'Iftall14pr', 'Iftall03gr', 'Iftall04gr', 'Iftall05gr', 'Iftall06gr', 'Iftall08gr', 'Iftall09gr', 'Iftall10gr', 'Iftall11gr', 'Iftall12gr', 'Iftall13gr', 'Iftall14gr', 'Iftall03', 'Iftall04', 'Iftall05', 'Iftall06', 'Iftall08', 'Iftall09', 'Iftall10', 'Iftall11', 'Iftall12', 'Iftall13', 'Iftall14', 'Iptall03ug', 'Iptall04ug', 'Iptall05ug', 'Iptall06ug', 'Iptall08ug', 'Iptall09ug', 'Iptall10ug', 'Iptall11ug', 'Iptall12ug', 'Iptall13ug', 'Iptall14ug', 'Iptall03pr', 'Iptall04pr', 'Iptall05pr', 'Iptall06pr', 'Iptall08pr', 'Iptall09pr', 'Iptall10pr', 'Iptall11pr', 'Iptall12pr', 'Iptall13pr', 'Iptall14pr', 'Iptall03gr', 'Iptall04gr', 'Iptall05gr', 'Iptall06gr', 'Iptall08gr', 'Iptall09gr', 'Iptall10gr', 'Iptall11gr', 'Iptall12gr', 'Iptall13gr', 'Iptall14gr', 'Iptall03', 'Iptall04', 'Iptall05', 'Iptall06', 'Iptall08', 'Iptall09', 'Iptall10', 'Iptall11', 'Iptall12', 'Iptall13', 'Iptall14', 'Iftallgrp1ug', 'Iftallgrp2ug', 'Iftallgrp3ug', 'Iftallgrp4ug', 'Iptallgrp1ug', 'Iptallgrp2ug', 'Iptallgrp3ug', 'Iptallgrp4ug', 'Iftallgrp1pr', 'Iftallgrp2pr', 'Iftallgrp3pr', 'Iftallgrp4pr', 'Iptallgrp1pr', 'Iptallgrp2pr', 'Iptallgrp3pr', 'Iptallgrp4pr', 'Iftallgrp1gr', 'Iftallgrp2gr', 'Iftallgrp3gr', 'Iftallgrp4gr', 'Iptallgrp1gr', 'Iptallgrp2gr', 'Iptallgrp3gr', 'Iptallgrp4gr', 'Iftallgrp1', 'Iftallgrp2', 'Iftallgrp3', 'Iftallgrp4', 'Iptallgrp1', 'Iptallgrp2', 'Iptallgrp3', 'Iptallgrp4', 'Idependent1', 'Idependent2', 'Idependent3', 'Idependent4', 'Idependent5', 'Iindependent1', 'Iindependent2', 'Iindependent3', 'Iindependent4', 'Iindependent5', 'Iapplcn', 'Iapplcnm', 'Iapplcnw', 'Iadmssn', 'Iadmssnm', 'Iadmssnw', 'Ienrlt', 'Ienrlm', 'Ienrlw', 'Iapplicantcount', 'Iadmitcount', 'Ienrollftcount', 'Ienrollptcount', 'Iactnum', 'Iactpct', 'Iactcm25', 'Iactcm75', 'Iacten25', 'Iacten75', 'Iactmt25', 'Iactmt75', 'Isatnum', 'Isatpct', 'Isatmt25', 'Isatmt75', 'Isatvr25', 'Isatvr75', 'Icredhoursug', 'Iconthoursug', 'Icredhoursgr', 'Iftall1', 'Iftall3', 'Iftall4', 'Iftall5', 'Iftall6', 'Iftall7', 'Iftall8', 'Iptall1', 'Iptall2', 'Iptall3', 'Iptall4', 'Iptall5', 'Iptall6', 'Iptall7', 'Iptall8', 'Ifaculty_instr_headcount', 'Isalarytotal']\n"
     ]
    }
   ],
   "source": [
    "removed_cols = discard_cols\n",
    "print removed_cols"
   ]
  },
  {
   "cell_type": "code",
   "execution_count": null,
   "metadata": {
    "collapsed": true
   },
   "outputs": [],
   "source": []
  }
 ],
 "metadata": {
  "kernelspec": {
   "display_name": "Python 2",
   "language": "python",
   "name": "python2"
  },
  "language_info": {
   "codemirror_mode": {
    "name": "ipython",
    "version": 2
   },
   "file_extension": ".py",
   "mimetype": "text/x-python",
   "name": "python",
   "nbconvert_exporter": "python",
   "pygments_lexer": "ipython2",
   "version": "2.7.11"
  }
 },
 "nbformat": 4,
 "nbformat_minor": 0
}
