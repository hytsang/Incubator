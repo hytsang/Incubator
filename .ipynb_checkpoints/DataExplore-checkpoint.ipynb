{
 "cells": [
  {
   "cell_type": "markdown",
   "metadata": {},
   "source": [
    "### Data source [NCES](http://nces.ed.gov/ipeds/deltacostproject/)\n",
    "\n",
    "The data is publicly available from National Center of Education Statistics (NCES). The Integrated Postsecondary Education Data System (IPEDS) data includes academic years from 1987 through 2012. The data derived from the institutional characteristics, finance, enrollment, completions, graduation rates, student financial aid, and human resources IPEDS survey components and a limited number of outside sources. The database contains one observation per institution for each year of data that is available; it includes all institutions that reported institutional characteristic data to IPEDS in the fall of each academic year. \n",
    "\n",
    "To allow for trends analyses that are not affected by institutions entering or leaving the dataset, the database includes variables to identify panels of institutions that report data consistently over specified time periods. These institutional panels are referred to as “matched sets.” To be included in the matched set, an institution must have data on three measures—fall full-time equivalent (FTE) student enrollment, instructional expenditures, and student completions—for every year in the panel time period. There are three different matched sets that cover different time periods: 1987-2012, 2002-2012, and 2007-2012. \n",
    "\n",
    "By analysing the data, I try to answer the following questions:\n",
    "\n",
    "Minor questions:\n",
    "1. The trend of completition rate over the time period from 1987 through 2012\n",
    "2. The trend of total financial aid per student over the time period from 1987 through 2012\n",
    "3. The fraction of fragship institutions and what is the difference of completition rate between \n",
    "flagship institutions and non-flagship institutions\n",
    "4. Which state's institutes have the best balanced finance\n",
    "\n",
    "Major questions:\n",
    "1. What types of financial aid are most effective in maximizing completion rates?\n",
    "2. What types of financial aid are most effective in minimizing student loan burdens?\n",
    "3. What types of financial aid are most effective in maintaining well-funded schools?\n",
    "4. Establish a model to predict which institution will have better balanced financial\n"
   ]
  },
  {
   "cell_type": "code",
   "execution_count": 43,
   "metadata": {
    "collapsed": true
   },
   "outputs": [],
   "source": [
    "import numpy as np\n",
    "import pandas as pd\n",
    "from pandas import Series, DataFrame\n",
    "from IPython.display import display\n",
    "\n",
    "from matplotlib import pyplot as plt\n",
    "import seaborn as sns\n",
    "# %matplotlib online"
   ]
  },
  {
   "cell_type": "markdown",
   "metadata": {},
   "source": [
    "## Load Data"
   ]
  },
  {
   "cell_type": "code",
   "execution_count": 2,
   "metadata": {
    "collapsed": false
   },
   "outputs": [
    {
     "data": {
      "text/plain": [
       "(128053, 974)"
      ]
     },
     "execution_count": 2,
     "metadata": {},
     "output_type": "execute_result"
    }
   ],
   "source": [
    "dt_8799 = pd.read_csv('delta_public_87_99.csv' , low_memory=False)\n",
    "dt_8799.shape"
   ]
  },
  {
   "cell_type": "code",
   "execution_count": 3,
   "metadata": {
    "collapsed": false
   },
   "outputs": [
    {
     "data": {
      "text/plain": [
       "(87560, 974)"
      ]
     },
     "execution_count": 3,
     "metadata": {},
     "output_type": "execute_result"
    }
   ],
   "source": [
    "dt_0012 = pd.read_csv('delta_public_00_12.csv', low_memory=False)\n",
    "dt_0012.shape"
   ]
  },
  {
   "cell_type": "code",
   "execution_count": 4,
   "metadata": {
    "collapsed": false
   },
   "outputs": [
    {
     "data": {
      "text/html": [
       "<div>\n",
       "<table border=\"1\" class=\"dataframe\">\n",
       "  <thead>\n",
       "    <tr style=\"text-align: right;\">\n",
       "      <th></th>\n",
       "      <th>groupid</th>\n",
       "      <th>academicyear</th>\n",
       "      <th>unitid_linchpin</th>\n",
       "      <th>unitid</th>\n",
       "      <th>isgrouped</th>\n",
       "      <th>instname</th>\n",
       "      <th>TCSName</th>\n",
       "      <th>city</th>\n",
       "      <th>state</th>\n",
       "      <th>zip</th>\n",
       "      <th>...</th>\n",
       "      <th>Iptall1</th>\n",
       "      <th>Iptall2</th>\n",
       "      <th>Iptall3</th>\n",
       "      <th>Iptall4</th>\n",
       "      <th>Iptall5</th>\n",
       "      <th>Iptall6</th>\n",
       "      <th>Iptall7</th>\n",
       "      <th>Iptall8</th>\n",
       "      <th>Ifaculty_instr_headcount</th>\n",
       "      <th>Isalarytotal</th>\n",
       "    </tr>\n",
       "  </thead>\n",
       "  <tbody>\n",
       "    <tr>\n",
       "      <th>0</th>\n",
       "      <td>-475291</td>\n",
       "      <td>2012</td>\n",
       "      <td>475291</td>\n",
       "      <td>475291</td>\n",
       "      <td>0</td>\n",
       "      <td>Brown College-Brooklyn Center</td>\n",
       "      <td>NaN</td>\n",
       "      <td>Brooklyn Center</td>\n",
       "      <td>MN</td>\n",
       "      <td>55430</td>\n",
       "      <td>...</td>\n",
       "      <td>-2</td>\n",
       "      <td>-2</td>\n",
       "      <td>-2</td>\n",
       "      <td>-2</td>\n",
       "      <td>-2</td>\n",
       "      <td>-2</td>\n",
       "      <td>-2</td>\n",
       "      <td>-2</td>\n",
       "      <td>-2</td>\n",
       "      <td>-2</td>\n",
       "    </tr>\n",
       "    <tr>\n",
       "      <th>1</th>\n",
       "      <td>-475282</td>\n",
       "      <td>2012</td>\n",
       "      <td>475282</td>\n",
       "      <td>475282</td>\n",
       "      <td>0</td>\n",
       "      <td>Marian Health Careers Center-Van Nuys Campus</td>\n",
       "      <td>NaN</td>\n",
       "      <td>Van Nuys</td>\n",
       "      <td>CA</td>\n",
       "      <td>91411</td>\n",
       "      <td>...</td>\n",
       "      <td>-2</td>\n",
       "      <td>-2</td>\n",
       "      <td>-2</td>\n",
       "      <td>-2</td>\n",
       "      <td>-2</td>\n",
       "      <td>-2</td>\n",
       "      <td>-2</td>\n",
       "      <td>-2</td>\n",
       "      <td>-2</td>\n",
       "      <td>-2</td>\n",
       "    </tr>\n",
       "    <tr>\n",
       "      <th>2</th>\n",
       "      <td>-475273</td>\n",
       "      <td>2012</td>\n",
       "      <td>475273</td>\n",
       "      <td>475273</td>\n",
       "      <td>0</td>\n",
       "      <td>Springfield College-School of Human Services</td>\n",
       "      <td>NaN</td>\n",
       "      <td>Springfield</td>\n",
       "      <td>MA</td>\n",
       "      <td>01109</td>\n",
       "      <td>...</td>\n",
       "      <td>-2</td>\n",
       "      <td>-2</td>\n",
       "      <td>-2</td>\n",
       "      <td>-2</td>\n",
       "      <td>-2</td>\n",
       "      <td>-2</td>\n",
       "      <td>-2</td>\n",
       "      <td>-2</td>\n",
       "      <td>-2</td>\n",
       "      <td>-2</td>\n",
       "    </tr>\n",
       "    <tr>\n",
       "      <th>3</th>\n",
       "      <td>-475255</td>\n",
       "      <td>2012</td>\n",
       "      <td>475255</td>\n",
       "      <td>475255</td>\n",
       "      <td>0</td>\n",
       "      <td>American Broadcasting School-Online Program</td>\n",
       "      <td>NaN</td>\n",
       "      <td>Oklahoma City</td>\n",
       "      <td>OK</td>\n",
       "      <td>73115</td>\n",
       "      <td>...</td>\n",
       "      <td>-2</td>\n",
       "      <td>-2</td>\n",
       "      <td>-2</td>\n",
       "      <td>-2</td>\n",
       "      <td>-2</td>\n",
       "      <td>-2</td>\n",
       "      <td>-2</td>\n",
       "      <td>-2</td>\n",
       "      <td>-2</td>\n",
       "      <td>-2</td>\n",
       "    </tr>\n",
       "    <tr>\n",
       "      <th>4</th>\n",
       "      <td>-475246</td>\n",
       "      <td>2012</td>\n",
       "      <td>475246</td>\n",
       "      <td>475246</td>\n",
       "      <td>0</td>\n",
       "      <td>Kaplan College-Chesapeake</td>\n",
       "      <td>NaN</td>\n",
       "      <td>Chesapeake</td>\n",
       "      <td>VA</td>\n",
       "      <td>23320</td>\n",
       "      <td>...</td>\n",
       "      <td>-2</td>\n",
       "      <td>-2</td>\n",
       "      <td>-2</td>\n",
       "      <td>-2</td>\n",
       "      <td>-2</td>\n",
       "      <td>-2</td>\n",
       "      <td>-2</td>\n",
       "      <td>-2</td>\n",
       "      <td>-2</td>\n",
       "      <td>-2</td>\n",
       "    </tr>\n",
       "  </tbody>\n",
       "</table>\n",
       "<p>5 rows × 974 columns</p>\n",
       "</div>"
      ],
      "text/plain": [
       "   groupid  academicyear  unitid_linchpin  unitid  isgrouped  \\\n",
       "0  -475291          2012           475291  475291          0   \n",
       "1  -475282          2012           475282  475282          0   \n",
       "2  -475273          2012           475273  475273          0   \n",
       "3  -475255          2012           475255  475255          0   \n",
       "4  -475246          2012           475246  475246          0   \n",
       "\n",
       "                                       instname TCSName             city  \\\n",
       "0                 Brown College-Brooklyn Center     NaN  Brooklyn Center   \n",
       "1  Marian Health Careers Center-Van Nuys Campus     NaN         Van Nuys   \n",
       "2  Springfield College-School of Human Services     NaN      Springfield   \n",
       "3   American Broadcasting School-Online Program     NaN    Oklahoma City   \n",
       "4                     Kaplan College-Chesapeake     NaN       Chesapeake   \n",
       "\n",
       "  state    zip      ...       Iptall1  Iptall2  Iptall3  Iptall4  Iptall5  \\\n",
       "0    MN  55430      ...            -2       -2       -2       -2       -2   \n",
       "1    CA  91411      ...            -2       -2       -2       -2       -2   \n",
       "2    MA  01109      ...            -2       -2       -2       -2       -2   \n",
       "3    OK  73115      ...            -2       -2       -2       -2       -2   \n",
       "4    VA  23320      ...            -2       -2       -2       -2       -2   \n",
       "\n",
       "   Iptall6  Iptall7  Iptall8  Ifaculty_instr_headcount  Isalarytotal  \n",
       "0       -2       -2       -2                        -2            -2  \n",
       "1       -2       -2       -2                        -2            -2  \n",
       "2       -2       -2       -2                        -2            -2  \n",
       "3       -2       -2       -2                        -2            -2  \n",
       "4       -2       -2       -2                        -2            -2  \n",
       "\n",
       "[5 rows x 974 columns]"
      ]
     },
     "execution_count": 4,
     "metadata": {},
     "output_type": "execute_result"
    }
   ],
   "source": [
    "dt_0012.head()"
   ]
  },
  {
   "cell_type": "code",
   "execution_count": 5,
   "metadata": {
    "collapsed": false
   },
   "outputs": [
    {
     "name": "stdout",
     "output_type": "stream",
     "text": [
      "<class 'pandas.core.frame.DataFrame'>\n",
      "RangeIndex: 87560 entries, 0 to 87559\n",
      "Columns: 974 entries, groupid to Isalarytotal\n",
      "dtypes: float64(550), int64(419), object(5)\n",
      "memory usage: 650.7+ MB\n"
     ]
    }
   ],
   "source": [
    "dt_0012.info()"
   ]
  },
  {
   "cell_type": "markdown",
   "metadata": {},
   "source": [
    "## Clean Data"
   ]
  },
  {
   "cell_type": "markdown",
   "metadata": {},
   "source": [
    "### Find columns have all null values"
   ]
  },
  {
   "cell_type": "code",
   "execution_count": 6,
   "metadata": {
    "collapsed": false
   },
   "outputs": [
    {
     "name": "stdout",
     "output_type": "stream",
     "text": [
      "['tuition01', 'tuition02', 'grants01u', 'grants01r']\n"
     ]
    }
   ],
   "source": [
    "cols = dt_0012.columns\n",
    "dt_0012_null_cols = []\n",
    "for col in cols:\n",
    "    if dt_0012[col].isnull().values.all() == True:\n",
    "        dt_0012_null_cols.append(col)\n",
    "        \n",
    "print dt_0012_null_cols"
   ]
  },
  {
   "cell_type": "code",
   "execution_count": 7,
   "metadata": {
    "collapsed": false
   },
   "outputs": [
    {
     "name": "stdout",
     "output_type": "stream",
     "text": [
      "['fte12mn', 'other04', 'any_aid_num', 'any_aid_pct', 'fed_grant_num', 'fed_grant_pct', 'fed_grant_avg_amount', 'state_grant_num', 'state_grant_pct', 'state_grant_avg_amount', 'inst_grant_num', 'inst_grant_pct', 'inst_grant_avg_amount', 'loan_num', 'loan_pct', 'loan_avg_amount', 'tuition01_tf', 'fee01_tf', 'tuition02_tf', 'fee02_tf', 'tuition03_tf', 'fee03_tf', 'tuition05_tf', 'fee05_tf', 'tuition06_tf', 'fee06_tf', 'tuition07_tf', 'fee07_tf', 'otheroper01', 'otheroper02', 'totaloper03', 'totaloper04', 'totaloper05', 'interest01', 'othernon01', 'othernon02', 'other01', 'other01_fasb', 'other02', 'totalnon01', 'totalnon02', 'total06', 'eandg04', 'eandg05', 'eandg06', 'eandg07', 'grad_rate_150_n', 'grad_rate_150_p', 'grad_rate_adj_cohort_n', 'grad_rate_150_n4yr', 'grad_rate_150_p4yr', 'grad_rate_adj_cohort_n4yr', 'grad_rate_150_n2yr', 'grad_rate_150_p2yr', 'grad_rate_adj_cohort_n2yr', 'ugentering', 'grscohort', 'grscohortpct', 'ftretention_rate', 'ptretention_rate', 'fall_cohort_num', 'fall_cohort_pct', 'fall_cohort_num_indistrict', 'fall_cohort_pct_indistrict', 'fall_cohort_num_instate', 'fall_cohort_pct_instate', 'fall_cohort_num_outofstate', 'fall_cohort_pct_outofstate', 'fall_cohort_num_resunknown', 'fall_cohort_pct_resunknown', 'fall_total_undergrad', 'year_cohort_num', 'year_cohort_pct', 'year_total_undergrad', 'total_enrollment_multi_tot', 'applcn', 'applcnm', 'applcnw', 'admssn', 'admssnm', 'admssnw', 'enrlt', 'enrlm', 'enrlw', 'applicantcount', 'admitcount', 'enrollftcount', 'enrollptcount', 'actnum', 'actpct', 'actcm25', 'actcm75', 'acten25', 'acten75', 'actmt25', 'actmt75', 'satnum', 'satpct', 'satmt25', 'satmt75', 'satvr25', 'satvr75']\n"
     ]
    }
   ],
   "source": [
    "dt_8799_null_cols = []\n",
    "for col in cols:\n",
    "    if dt_8799[col].isnull().values.all() == True:\n",
    "        dt_8799_null_cols.append(col)\n",
    "        \n",
    "print dt_8799_null_cols"
   ]
  },
  {
   "cell_type": "markdown",
   "metadata": {},
   "source": [
    "### Remove columns which have all null values in either dataset"
   ]
  },
  {
   "cell_type": "code",
   "execution_count": 8,
   "metadata": {
    "collapsed": false
   },
   "outputs": [
    {
     "name": "stdout",
     "output_type": "stream",
     "text": [
      "868\n"
     ]
    }
   ],
   "source": [
    "temp_cols = [ col for col in cols if col not in (dt_0012_null_cols+dt_8799_null_cols)]\n",
    "new_cols = [col for col in temp_cols if col]\n",
    "print len(new_cols)"
   ]
  },
  {
   "cell_type": "code",
   "execution_count": 9,
   "metadata": {
    "collapsed": false
   },
   "outputs": [
    {
     "data": {
      "text/plain": [
       "(215613, 868)"
      ]
     },
     "execution_count": 9,
     "metadata": {},
     "output_type": "execute_result"
    }
   ],
   "source": [
    "# combine data\n",
    "data = pd.concat([dt_0012[new_cols], dt_8799[new_cols]], axis=0)\n",
    "data.shape"
   ]
  },
  {
   "cell_type": "markdown",
   "metadata": {},
   "source": [
    "### To have the consistant longitudinal report for a specific institution, we will use only matched set from time period 1987-2012"
   ]
  },
  {
   "cell_type": "code",
   "execution_count": 10,
   "metadata": {
    "collapsed": false
   },
   "outputs": [
    {
     "data": {
      "text/plain": [
       "(63804, 868)"
      ]
     },
     "execution_count": 10,
     "metadata": {},
     "output_type": "execute_result"
    }
   ],
   "source": [
    "dt = data[data['matched_n_87_12_26']==1]\n",
    "dt.shape"
   ]
  },
  {
   "cell_type": "code",
   "execution_count": 11,
   "metadata": {
    "collapsed": false
   },
   "outputs": [
    {
     "data": {
      "text/html": [
       "<div>\n",
       "<table border=\"1\" class=\"dataframe\">\n",
       "  <thead>\n",
       "    <tr style=\"text-align: right;\">\n",
       "      <th></th>\n",
       "      <th>groupid</th>\n",
       "      <th>academicyear</th>\n",
       "      <th>unitid_linchpin</th>\n",
       "      <th>unitid</th>\n",
       "      <th>isgrouped</th>\n",
       "      <th>instname</th>\n",
       "      <th>TCSName</th>\n",
       "      <th>city</th>\n",
       "      <th>state</th>\n",
       "      <th>zip</th>\n",
       "      <th>...</th>\n",
       "      <th>Iptall1</th>\n",
       "      <th>Iptall2</th>\n",
       "      <th>Iptall3</th>\n",
       "      <th>Iptall4</th>\n",
       "      <th>Iptall5</th>\n",
       "      <th>Iptall6</th>\n",
       "      <th>Iptall7</th>\n",
       "      <th>Iptall8</th>\n",
       "      <th>Ifaculty_instr_headcount</th>\n",
       "      <th>Isalarytotal</th>\n",
       "    </tr>\n",
       "  </thead>\n",
       "  <tbody>\n",
       "    <tr>\n",
       "      <th>25055</th>\n",
       "      <td>-243823</td>\n",
       "      <td>2000</td>\n",
       "      <td>243823</td>\n",
       "      <td>243823</td>\n",
       "      <td>0</td>\n",
       "      <td>Parker College of Chiropractic</td>\n",
       "      <td>NaN</td>\n",
       "      <td>Dallas</td>\n",
       "      <td>TX</td>\n",
       "      <td>75229-566</td>\n",
       "      <td>...</td>\n",
       "      <td>0</td>\n",
       "      <td>0</td>\n",
       "      <td>0</td>\n",
       "      <td>0</td>\n",
       "      <td>0</td>\n",
       "      <td>0</td>\n",
       "      <td>0</td>\n",
       "      <td>0</td>\n",
       "      <td>-1</td>\n",
       "      <td>-1</td>\n",
       "    </tr>\n",
       "    <tr>\n",
       "      <th>25056</th>\n",
       "      <td>-243823</td>\n",
       "      <td>2001</td>\n",
       "      <td>243823</td>\n",
       "      <td>243823</td>\n",
       "      <td>0</td>\n",
       "      <td>Parker College of Chiropractic</td>\n",
       "      <td>NaN</td>\n",
       "      <td>Dallas</td>\n",
       "      <td>TX</td>\n",
       "      <td>75229-566</td>\n",
       "      <td>...</td>\n",
       "      <td>-2</td>\n",
       "      <td>-2</td>\n",
       "      <td>-2</td>\n",
       "      <td>-2</td>\n",
       "      <td>-2</td>\n",
       "      <td>-2</td>\n",
       "      <td>-2</td>\n",
       "      <td>-2</td>\n",
       "      <td>-1</td>\n",
       "      <td>-1</td>\n",
       "    </tr>\n",
       "  </tbody>\n",
       "</table>\n",
       "<p>2 rows × 868 columns</p>\n",
       "</div>"
      ],
      "text/plain": [
       "       groupid  academicyear  unitid_linchpin  unitid  isgrouped  \\\n",
       "25055  -243823          2000           243823  243823          0   \n",
       "25056  -243823          2001           243823  243823          0   \n",
       "\n",
       "                             instname TCSName    city state        zip  \\\n",
       "25055  Parker College of Chiropractic     NaN  Dallas    TX  75229-566   \n",
       "25056  Parker College of Chiropractic     NaN  Dallas    TX  75229-566   \n",
       "\n",
       "           ...       Iptall1  Iptall2  Iptall3  Iptall4  Iptall5  Iptall6  \\\n",
       "25055      ...             0        0        0        0        0        0   \n",
       "25056      ...            -2       -2       -2       -2       -2       -2   \n",
       "\n",
       "       Iptall7  Iptall8  Ifaculty_instr_headcount  Isalarytotal  \n",
       "25055        0        0                        -1            -1  \n",
       "25056       -2       -2                        -1            -1  \n",
       "\n",
       "[2 rows x 868 columns]"
      ]
     },
     "execution_count": 11,
     "metadata": {},
     "output_type": "execute_result"
    }
   ],
   "source": [
    "dt.head(2)"
   ]
  },
  {
   "cell_type": "markdown",
   "metadata": {},
   "source": [
    "## Explore Data"
   ]
  },
  {
   "cell_type": "code",
   "execution_count": 50,
   "metadata": {
    "collapsed": false
   },
   "outputs": [
    {
     "data": {
      "text/html": [
       "<div>\n",
       "<table border=\"1\" class=\"dataframe\">\n",
       "  <thead>\n",
       "    <tr style=\"text-align: right;\">\n",
       "      <th></th>\n",
       "      <th>totalcompletions_100fte</th>\n",
       "      <th>fte_count</th>\n",
       "    </tr>\n",
       "    <tr>\n",
       "      <th>academicyear</th>\n",
       "      <th></th>\n",
       "      <th></th>\n",
       "    </tr>\n",
       "  </thead>\n",
       "  <tbody>\n",
       "    <tr>\n",
       "      <th>1987</th>\n",
       "      <td>25.469172</td>\n",
       "      <td>3418.831113</td>\n",
       "    </tr>\n",
       "    <tr>\n",
       "      <th>1988</th>\n",
       "      <td>28.613231</td>\n",
       "      <td>3495.151553</td>\n",
       "    </tr>\n",
       "    <tr>\n",
       "      <th>1989</th>\n",
       "      <td>25.370062</td>\n",
       "      <td>3584.402042</td>\n",
       "    </tr>\n",
       "    <tr>\n",
       "      <th>1990</th>\n",
       "      <td>29.943106</td>\n",
       "      <td>3685.933526</td>\n",
       "    </tr>\n",
       "    <tr>\n",
       "      <th>1991</th>\n",
       "      <td>24.523233</td>\n",
       "      <td>3792.676216</td>\n",
       "    </tr>\n",
       "  </tbody>\n",
       "</table>\n",
       "</div>"
      ],
      "text/plain": [
       "              totalcompletions_100fte    fte_count\n",
       "academicyear                                      \n",
       "1987                        25.469172  3418.831113\n",
       "1988                        28.613231  3495.151553\n",
       "1989                        25.370062  3584.402042\n",
       "1990                        29.943106  3685.933526\n",
       "1991                        24.523233  3792.676216"
      ]
     },
     "execution_count": 50,
     "metadata": {},
     "output_type": "execute_result"
    }
   ],
   "source": [
    "# calculate completetion rate, and student count for each year\n",
    "dt[[\"totalcompletions_100fte\",\"fte_count\"]].groupby(dt['academicyear']).mean().head()"
   ]
  },
  {
   "cell_type": "code",
   "execution_count": 44,
   "metadata": {
    "collapsed": false
   },
   "outputs": [
    {
     "data": {
      "text/plain": [
       "[<matplotlib.lines.Line2D at 0xa90876d8>]"
      ]
     },
     "execution_count": 44,
     "metadata": {},
     "output_type": "execute_result"
    },
    {
     "data": {
      "image/png": "[encoded data removed]",
      "text/plain": [
       "<matplotlib.figure.Figure at 0x4ac3bd30>"
      ]
     },
     "metadata": {},
     "output_type": "display_data"
    }
   ],
   "source": [
    "# plot the completion trend over the years\n",
    "plt.plot(dt[\"totalcompletions_100fte\"].groupby(dt['academicyear']).mean()) "
   ]
  },
  {
   "cell_type": "code",
   "execution_count": 78,
   "metadata": {
    "collapsed": false
   },
   "outputs": [
    {
     "data": {
      "text/html": [
       "<div>\n",
       "<table border=\"1\" class=\"dataframe\">\n",
       "  <thead>\n",
       "    <tr style=\"text-align: right;\">\n",
       "      <th></th>\n",
       "      <th>PellGrants</th>\n",
       "      <th>OtherFedGrants</th>\n",
       "      <th>StateGrants</th>\n",
       "      <th>InstitutionalFundedGrants</th>\n",
       "      <th>InstitutionalUnfundedGrants</th>\n",
       "      <th>TotalFinancialAid</th>\n",
       "    </tr>\n",
       "    <tr>\n",
       "      <th>academicyear</th>\n",
       "      <th></th>\n",
       "      <th></th>\n",
       "      <th></th>\n",
       "      <th></th>\n",
       "      <th></th>\n",
       "      <th></th>\n",
       "    </tr>\n",
       "  </thead>\n",
       "  <tbody>\n",
       "    <tr>\n",
       "      <th>1987</th>\n",
       "      <td>1.002773e+06</td>\n",
       "      <td>326515.864965</td>\n",
       "      <td>596758.879711</td>\n",
       "      <td>399579.856228</td>\n",
       "      <td>1.403953e+06</td>\n",
       "      <td>2.806867e+06</td>\n",
       "    </tr>\n",
       "    <tr>\n",
       "      <th>1988</th>\n",
       "      <td>1.040174e+06</td>\n",
       "      <td>326761.995982</td>\n",
       "      <td>641464.490444</td>\n",
       "      <td>410703.174282</td>\n",
       "      <td>1.482173e+06</td>\n",
       "      <td>3.056193e+06</td>\n",
       "    </tr>\n",
       "    <tr>\n",
       "      <th>1989</th>\n",
       "      <td>1.282893e+06</td>\n",
       "      <td>321535.564246</td>\n",
       "      <td>713084.726990</td>\n",
       "      <td>431575.522045</td>\n",
       "      <td>1.680622e+06</td>\n",
       "      <td>3.524076e+06</td>\n",
       "    </tr>\n",
       "    <tr>\n",
       "      <th>1990</th>\n",
       "      <td>1.398670e+06</td>\n",
       "      <td>339585.051187</td>\n",
       "      <td>745543.355918</td>\n",
       "      <td>463225.105081</td>\n",
       "      <td>1.923514e+06</td>\n",
       "      <td>3.918923e+06</td>\n",
       "    </tr>\n",
       "    <tr>\n",
       "      <th>1991</th>\n",
       "      <td>1.457087e+06</td>\n",
       "      <td>361942.124971</td>\n",
       "      <td>787670.915440</td>\n",
       "      <td>510456.453023</td>\n",
       "      <td>2.221085e+06</td>\n",
       "      <td>4.333925e+06</td>\n",
       "    </tr>\n",
       "  </tbody>\n",
       "</table>\n",
       "</div>"
      ],
      "text/plain": [
       "                PellGrants  OtherFedGrants    StateGrants  \\\n",
       "academicyear                                                \n",
       "1987          1.002773e+06   326515.864965  596758.879711   \n",
       "1988          1.040174e+06   326761.995982  641464.490444   \n",
       "1989          1.282893e+06   321535.564246  713084.726990   \n",
       "1990          1.398670e+06   339585.051187  745543.355918   \n",
       "1991          1.457087e+06   361942.124971  787670.915440   \n",
       "\n",
       "              InstitutionalFundedGrants  InstitutionalUnfundedGrants  \\\n",
       "academicyear                                                           \n",
       "1987                      399579.856228                 1.403953e+06   \n",
       "1988                      410703.174282                 1.482173e+06   \n",
       "1989                      431575.522045                 1.680622e+06   \n",
       "1990                      463225.105081                 1.923514e+06   \n",
       "1991                      510456.453023                 2.221085e+06   \n",
       "\n",
       "              TotalFinancialAid  \n",
       "academicyear                     \n",
       "1987               2.806867e+06  \n",
       "1988               3.056193e+06  \n",
       "1989               3.524076e+06  \n",
       "1990               3.918923e+06  \n",
       "1991               4.333925e+06  "
      ]
     },
     "metadata": {},
     "output_type": "display_data"
    },
    {
     "name": "stdout",
     "output_type": "stream",
     "text": [
      "None\n"
     ]
    }
   ],
   "source": [
    "# calculate the average financial aid grants\n",
    "dt_grant = dt[[\"grant01\",\"grant02\",\"grant03\", \"grant05\",\"grant06\",\"grant07\"]].groupby(dt['academicyear']).mean()\n",
    "dt_grant.columns=[\"PellGrants\", \"OtherFedGrants\",\"StateGrants\",\"InstitutionalFundedGrants\",\"InstitutionalUnfundedGrants\",\n",
    "                                    \"TotalFinancialAid\"]\n",
    "print display(dt_grant.head())"
   ]
  },
  {
   "cell_type": "code",
   "execution_count": 77,
   "metadata": {
    "collapsed": false
   },
   "outputs": [
    {
     "data": {
      "image/png": "[encoded data removed]",
      "text/plain": [
       "<matplotlib.figure.Figure at 0x20a3d6cf8>"
      ]
     },
     "metadata": {},
     "output_type": "display_data"
    }
   ],
   "source": [
    "# plot the financial aid trend\n",
    "\n",
    "plt.figure(figsize=(16,10))\n",
    "plt.plot(dt_grant)\n",
    "plt.xlabel('Academic Years')\n",
    "plt.ylabel('Grants')\n",
    "plt.title('Summary of Financial Aid')\n",
    "plt.show()"
   ]
  },
  {
   "cell_type": "code",
   "execution_count": null,
   "metadata": {
    "collapsed": true
   },
   "outputs": [],
   "source": []
  }
 ],
 "metadata": {
  "kernelspec": {
   "display_name": "Python 2",
   "language": "python",
   "name": "python2"
  },
  "language_info": {
   "codemirror_mode": {
    "name": "ipython",
    "version": 2
   },
   "file_extension": ".py",
   "mimetype": "text/x-python",
   "name": "python",
   "nbconvert_exporter": "python",
   "pygments_lexer": "ipython2",
   "version": "2.7.11"
  }
 },
 "nbformat": 4,
 "nbformat_minor": 0
}
